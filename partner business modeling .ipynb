{
 "cells": [
  {
   "cell_type": "markdown",
   "metadata": {
    "id": "60tB8SOSeyiG"
   },
   "source": [
    "# Partner Business Modeling\n",
    "\n"
   ]
  },
  {
   "cell_type": "markdown",
   "metadata": {
    "id": "FiW3ci0Sehq8"
   },
   "source": [
    "## Assignment\n",
    "\n",
    "Scenario 1: It is going to be a huge Saturday and there will need to be many more cars on the road than last week. In order to get drivers to go online, we're assessing the following two bonus options in terms of cost:\n",
    "\n",
    "Option 1: USD 50 for each driver that is online at least 8 hours, accepts 90% of requests, completes 10 trips, and has a rating of 4.7 or better during the time frame;\n",
    "\n",
    "Option 2: USD 4/trip for all drivers who complete 12 trips, and have a 4.7 or better rating.\n",
    "Using the dataset provided and given Scenario 1, provide answers to the questions below:\n",
    "\n",
    "How much would the total bonus payout be with Option 1?\n",
    "How much would the total bonus payout be with Option 2?\n",
    "How many drivers would qualify for a bonus under Option 1 but not under Option 2?\n",
    "What percentages of drivers online completed less than 10 trips, had an acceptance rate of less than 90%, and had a rating of 4.7 or higher?"
   ]
  },
  {
   "cell_type": "markdown",
   "metadata": {
    "id": "hjVxXDzaeoBP"
   },
   "source": [
    "Scenario 2: A taxi driver currently generates $200 per day in fares (before expenses), works six days a week, takes three weeks off, and has the following expenses:\n",
    "\n",
    "Gas - 200 dollors per week\n",
    "Insurance - 400 dollors per month\n",
    "Vehicle rent (by the week) - 500 dollors\n",
    "The driver doesn't pay gas and rent expenses on off weeks.\n",
    "\n",
    "Now, let's assume that the same driver would buy a Town Car and partner with Uber. If he does, his gas expenses would go up by 5%, his insurance expense would decrease by 20%, and he would no longer be renting a vehicle. However, he would need to buy a car. The driver would still take three weeks off per year.\n",
    "\n",
    "Given Scenario 2, provide answers to the questions below:\n",
    "\n",
    "How much money (after expenses) does the taxi driver make per year without partnering with Uber?\n",
    "You are convincing the same driver above to buy a Town Car and partner with Uber. Assuming the new car is 40,000 USD, how much would the driver's gross fares need to increase per week to fully pay for the car in year 1 and maintain the same yearly profit margin as before?"
   ]
  },
  {
   "cell_type": "markdown",
   "metadata": {
    "id": "6V4velCwerLM"
   },
   "source": [
    "## Data Description\n",
    "The dataset is given in the file dataset_2.csv. The data come from rides on a busy Saturday and are aggregated on a driver level. The dataset provides information on the total number of completed trips, the driver's acceptance rate, the total number of hours on duty, and the average rating.\n",
    "\n",
    "Only use this dataset to answer questions 1-4. There is no dataset provided for questions 5 and 6 as these are solely based on a given scenario."
   ]
  },
  {
   "cell_type": "markdown",
   "metadata": {
    "id": "ZRCBjP1heuow"
   },
   "source": [
    "## Practicalities\n",
    "Please work on the questions in the displayed order. Make sure that the solution reflects your entire thought process - it is more important how the code is structured rather than the final answers. You are expected to spend no more than 2 hours solving this project.\n",
    "\n",
    "#### To download the dataset <a href=\"https://drive.google.com/drive/folders/162XYA2iR8cLru4eNS8ZCjkt_LqOVUYjG?usp=sharing\"> Click here </a>"
   ]
  },
  {
   "cell_type": "code",
   "execution_count": 6,
   "metadata": {},
   "outputs": [
    {
     "data": {
      "text/html": [
       "<div>\n",
       "<style scoped>\n",
       "    .dataframe tbody tr th:only-of-type {\n",
       "        vertical-align: middle;\n",
       "    }\n",
       "\n",
       "    .dataframe tbody tr th {\n",
       "        vertical-align: top;\n",
       "    }\n",
       "\n",
       "    .dataframe thead th {\n",
       "        text-align: right;\n",
       "    }\n",
       "</style>\n",
       "<table border=\"1\" class=\"dataframe\">\n",
       "  <thead>\n",
       "    <tr style=\"text-align: right;\">\n",
       "      <th></th>\n",
       "      <th>Name</th>\n",
       "      <th>Trips Completed</th>\n",
       "      <th>Accept Rate</th>\n",
       "      <th>Supply Hours</th>\n",
       "      <th>Rating</th>\n",
       "    </tr>\n",
       "  </thead>\n",
       "  <tbody>\n",
       "    <tr>\n",
       "      <th>0</th>\n",
       "      <td>Abdul</td>\n",
       "      <td>1</td>\n",
       "      <td>100%</td>\n",
       "      <td>3</td>\n",
       "      <td>4.8</td>\n",
       "    </tr>\n",
       "    <tr>\n",
       "      <th>1</th>\n",
       "      <td>Abraham</td>\n",
       "      <td>12</td>\n",
       "      <td>83%</td>\n",
       "      <td>5</td>\n",
       "      <td>4.7</td>\n",
       "    </tr>\n",
       "    <tr>\n",
       "      <th>2</th>\n",
       "      <td>Adelina</td>\n",
       "      <td>1</td>\n",
       "      <td>100%</td>\n",
       "      <td>2</td>\n",
       "      <td>4.7</td>\n",
       "    </tr>\n",
       "    <tr>\n",
       "      <th>3</th>\n",
       "      <td>Akilah</td>\n",
       "      <td>1</td>\n",
       "      <td>100%</td>\n",
       "      <td>2</td>\n",
       "      <td>4.9</td>\n",
       "    </tr>\n",
       "    <tr>\n",
       "      <th>4</th>\n",
       "      <td>Alec</td>\n",
       "      <td>21</td>\n",
       "      <td>76%</td>\n",
       "      <td>11</td>\n",
       "      <td>5.0</td>\n",
       "    </tr>\n",
       "  </tbody>\n",
       "</table>\n",
       "</div>"
      ],
      "text/plain": [
       "      Name  Trips Completed Accept Rate  Supply Hours  Rating\n",
       "0    Abdul                1        100%             3     4.8\n",
       "1  Abraham               12         83%             5     4.7\n",
       "2  Adelina                1        100%             2     4.7\n",
       "3   Akilah                1        100%             2     4.9\n",
       "4     Alec               21         76%            11     5.0"
      ]
     },
     "execution_count": 6,
     "metadata": {},
     "output_type": "execute_result"
    }
   ],
   "source": [
    "import pandas as pd\n",
    "\n",
    "# Load the dataset\n",
    "file_path = 'C:/Users/manoj/Downloads/dataset_2.csv'\n",
    "data = pd.read_csv(file_path)\n",
    "\n",
    "data.head()"
   ]
  },
  {
   "cell_type": "code",
   "execution_count": 8,
   "metadata": {},
   "outputs": [
    {
     "data": {
      "text/plain": [
       "1050"
      ]
     },
     "execution_count": 8,
     "metadata": {},
     "output_type": "execute_result"
    }
   ],
   "source": [
    "# Calculations for Scenario 1\n",
    "# 1. Total bonus payout with Option 1\n",
    "\n",
    "# Option 1 Criteria:\n",
    "\n",
    "# Online at least 8 hours\n",
    "# Accepts 90% of requests\n",
    "# Completes 10 trips\n",
    "# Has a rating of 4.7 or better\n",
    "\n",
    "# Convert Acceptance Rate to numeric\n",
    "data['Accept Rate'] = data['Accept Rate'].str.rstrip('%').astype(float) / 100\n",
    "\n",
    "# Filter drivers who meet all criteria for Option 1\n",
    "option_1_criteria = (data['Supply Hours'] >= 8) & \\\n",
    "                    (data['Accept Rate'] >= 0.90) & \\\n",
    "                    (data['Trips Completed'] >= 10) & \\\n",
    "                    (data['Rating'] >= 4.7)\n",
    "\n",
    "option_1_drivers = data[option_1_criteria]\n",
    "\n",
    "# Calculate total bonus payout for Option 1\n",
    "option_1_total_payout = len(option_1_drivers) * 50\n",
    "option_1_total_payout\n"
   ]
  },
  {
   "cell_type": "code",
   "execution_count": 9,
   "metadata": {},
   "outputs": [
    {
     "data": {
      "text/plain": [
       "2976"
      ]
     },
     "execution_count": 9,
     "metadata": {},
     "output_type": "execute_result"
    }
   ],
   "source": [
    "# 2. Total bonus payout with Option 2\n",
    "\n",
    "# Option 2 Criteria:\n",
    "\n",
    "# Completes 12 trips\n",
    "# Has a rating of 4.7 or better\n",
    "\n",
    "# Filter drivers who meet all criteria for Option 2\n",
    "option_2_criteria = (data['Trips Completed'] >= 12) & \\\n",
    "                    (data['Rating'] >= 4.7)\n",
    "\n",
    "option_2_drivers = data[option_2_criteria]\n",
    "\n",
    "# Calculate total bonus payout for Option 2\n",
    "option_2_total_payout = option_2_drivers['Trips Completed'].sum() * 4\n",
    "option_2_total_payout\n"
   ]
  },
  {
   "cell_type": "code",
   "execution_count": 10,
   "metadata": {},
   "outputs": [
    {
     "data": {
      "text/plain": [
       "2"
      ]
     },
     "execution_count": 10,
     "metadata": {},
     "output_type": "execute_result"
    }
   ],
   "source": [
    "# 3. Drivers qualifying for Option 1 but not Option 2\n",
    "\n",
    "# Drivers qualifying for Option 1 but not Option 2\n",
    "option_1_only_drivers = option_1_drivers[~option_1_drivers.index.isin(option_2_drivers.index)]\n",
    "num_option_1_only_drivers = len(option_1_only_drivers)\n",
    "num_option_1_only_drivers\n"
   ]
  },
  {
   "cell_type": "code",
   "execution_count": 11,
   "metadata": {},
   "outputs": [
    {
     "data": {
      "text/plain": [
       "(33.61344537815126, 46.21848739495798, 68.90756302521008)"
      ]
     },
     "execution_count": 11,
     "metadata": {},
     "output_type": "execute_result"
    }
   ],
   "source": [
    "# 4. Percentages of drivers based on specific criteria\n",
    "\n",
    "# Completed less than 10 trips\n",
    "# Acceptance rate less than 90%\n",
    "# Rating of 4.7 or higher\n",
    "\n",
    "# Drivers completing less than 10 trips\n",
    "less_than_10_trips = (data['Trips Completed'] < 10)\n",
    "percent_less_than_10_trips = less_than_10_trips.mean() * 100\n",
    "\n",
    "# Drivers with acceptance rate less than 90%\n",
    "less_than_90_acceptance = (data['Accept Rate'] < 0.90)\n",
    "percent_less_than_90_acceptance = less_than_90_acceptance.mean() * 100\n",
    "\n",
    "# Drivers with rating of 4.7 or higher\n",
    "rating_4_7_or_higher = (data['Rating'] >= 4.7)\n",
    "percent_rating_4_7_or_higher = rating_4_7_or_higher.mean() * 100\n",
    "\n",
    "percent_less_than_10_trips, percent_less_than_90_acceptance, percent_rating_4_7_or_higher\n"
   ]
  },
  {
   "cell_type": "code",
   "execution_count": 26,
   "metadata": {},
   "outputs": [
    {
     "name": "stdout",
     "output_type": "stream",
     "text": [
      "19700\n",
      "306.7346938775511\n"
     ]
    }
   ],
   "source": [
    "# Scenario 2\n",
    "# Let's calculate the annual income and expenses for the taxi driver both before and after partnering with Uber.\n",
    "\n",
    "# Current annual income and expenses (without Uber)\n",
    "\n",
    "# Weekly income = $200/day * 6 days = $1200/week\n",
    "# Annual income = $1200/week * (52 weeks - 3 off weeks) = $1200 * 49\n",
    "# Weekly expenses = $200 (gas) + $500 (rent)\n",
    "# Monthly expenses = $400 (insurance)\n",
    "# Annual expenses = (weekly expenses * 49) + (monthly expenses * 12)\n",
    "# Annual income after partnering with Uber\n",
    "\n",
    "# New gas expenses = $200/week * 1.05\n",
    "# New insurance expenses = $400/month * 0.80\n",
    "# No vehicle rent\n",
    "# Car cost = $40,000 (to be paid off in 1 year)\n",
    "# We need to calculate the new weekly income required to cover the car cost and maintain the same yearly profit margin.\n",
    "\n",
    "# 5 Current annual calculations\n",
    "weekly_income = 200 * 6\n",
    "annual_income = weekly_income * 49\n",
    "\n",
    "weekly_expenses = 200 + 500\n",
    "monthly_expenses = 400\n",
    "annual_expenses = (weekly_expenses * 49) + (monthly_expenses * 12)\n",
    "\n",
    "annual_profit = annual_income - annual_expenses\n",
    "print (annual_profit)\n",
    "\n",
    "# 6 New annual calculations after partnering with Uber\n",
    "new_gas_expenses = 200 * 1.05\n",
    "new_monthly_expenses = 400 * 0.80\n",
    "new_annual_expenses = (new_gas_expenses * 49) + (new_monthly_expenses * 12)\n",
    "\n",
    "car_cost = 40000\n",
    "\n",
    "# Required weekly income to cover car cost and maintain the same annual profit\n",
    "required_annual_income = annual_profit + new_annual_expenses + car_cost\n",
    "required_weekly_income = required_annual_income / 49\n",
    "\n",
    "additional_weekly_income_needed = required_weekly_income - weekly_income\n",
    "print (additional_weekly_income_needed)"
   ]
  },
  {
   "cell_type": "code",
   "execution_count": null,
   "metadata": {},
   "outputs": [],
   "source": [
    "# This means that the driver would need to increase their gross fares by approximately $306.73 per week to fully pay for the new car in the first year\n",
    "# and maintain the same yearly profit margin as before."
   ]
  },
  {
   "cell_type": "code",
   "execution_count": null,
   "metadata": {},
   "outputs": [],
   "source": []
  },
  {
   "cell_type": "code",
   "execution_count": null,
   "metadata": {},
   "outputs": [],
   "source": []
  },
  {
   "cell_type": "code",
   "execution_count": null,
   "metadata": {},
   "outputs": [],
   "source": []
  }
 ],
 "metadata": {
  "colab": {
   "provenance": []
  },
  "kernelspec": {
   "display_name": "Python 3 (ipykernel)",
   "language": "python",
   "name": "python3"
  },
  "language_info": {
   "codemirror_mode": {
    "name": "ipython",
    "version": 3
   },
   "file_extension": ".py",
   "mimetype": "text/x-python",
   "name": "python",
   "nbconvert_exporter": "python",
   "pygments_lexer": "ipython3",
   "version": "3.11.7"
  }
 },
 "nbformat": 4,
 "nbformat_minor": 4
}
