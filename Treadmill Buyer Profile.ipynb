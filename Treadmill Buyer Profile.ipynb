{
 "cells": [
  {
   "cell_type": "markdown",
   "metadata": {
    "id": "nd0m6yxsYL94"
   },
   "source": [
    "# Treadmill Buyer Profile\n",
    "\n"
   ]
  },
  {
   "cell_type": "markdown",
   "metadata": {
    "id": "xStfxQeJYT2C"
   },
   "source": [
    "## Assignment\n",
    "The market research team at AeroFit wants to identify the characteristics of the target audience for each type of treadmill offered by the company, to provide a better recommendation of the treadmills to new customers. The team decides to investigate whether there are differences across the product with respect to customer characteristics.\n",
    "\n",
    "Perform descriptive analytics to create a customer profile for each AeroFit treadmill product by developing appropriate tables and charts. For each AeroFit treadmill product, construct two-way contingency tables and compute all conditional and marginal probabilities along with their insights/impact on the business."
   ]
  },
  {
   "cell_type": "markdown",
   "metadata": {
    "id": "yQiONgEkYXmO"
   },
   "source": [
    "## Data Description\n",
    "The company collected data on individuals who purchased a treadmill from the AeroFit stores during the prior three months. The dataset in aerofit_treadmill_data.csv has the following features:\n",
    "\n",
    " - Product - product purchased: KP281, KP481, or KP781\n",
    " - Age - in years\n",
    " - Gender - male/female\n",
    " - Education - in years\n",
    " - MaritalStatus - single or partnered\n",
    " - Usage - the average number of times the customer plans to use the treadmill each week\n",
    " - Fitness - self-rated fitness on a 1-5 scale, where 1 is the poor shape and 5 is the excellent shape\n",
    " - Income - annual income in US dollars\n",
    " - Miles - the average number of miles the customer expects to walk/run each week"
   ]
  },
  {
   "cell_type": "markdown",
   "metadata": {
    "id": "grdHSgvNYgAf"
   },
   "source": [
    "## Practicalities\n",
    "Analyze the provided data and provide insights to the best of your abilities. Include the relevant tables/graphs/visualization to explain what you have learned about the market. Make sure that the solution reflects your entire thought process including the preparation of data - it is more important how the code is structured rather than just the final result or plot.\n",
    "\n",
    "#### To download the dataset <a href=\"https://drive.google.com/drive/folders/1Ydzh4PkLb81RDgMd_FpSdM-FvBhkkeIx?usp=sharing\"> Click here </a>\n"
   ]
  },
  {
   "cell_type": "code",
   "execution_count": 1,
   "metadata": {},
   "outputs": [
    {
     "name": "stdout",
     "output_type": "stream",
     "text": [
      "  Product  Age  Gender  Education MaritalStatus  Usage  Fitness  Income  Miles\n",
      "0   KP281   18    Male         14        Single      3        4   29562    112\n",
      "1   KP281   19    Male         15        Single      2        3   31836     75\n",
      "2   KP281   19  Female         14     Partnered      4        3   30699     66\n",
      "3   KP281   19    Male         12        Single      3        3   32973     85\n",
      "4   KP281   20    Male         13     Partnered      4        2   35247     47\n",
      "Index(['Product', 'Age', 'Gender', 'Education', 'MaritalStatus', 'Usage',\n",
      "       'Fitness', 'Income', 'Miles'],\n",
      "      dtype='object')\n"
     ]
    }
   ],
   "source": [
    "import pandas as pd\n",
    "\n",
    "# Load the dataset\n",
    "df = pd.read_csv(\"C:\\\\Users\\\\manoj\\\\Downloads\\\\aerofit_treadmill_data.csv\")\n",
    "\n",
    "# Display the first few rows and check columns\n",
    "print(df.head())\n",
    "print(df.columns)\n"
   ]
  },
  {
   "cell_type": "code",
   "execution_count": 2,
   "metadata": {},
   "outputs": [
    {
     "name": "stdout",
     "output_type": "stream",
     "text": [
      "              Age   Education       Usage     Fitness         Income  \\\n",
      "count  180.000000  180.000000  180.000000  180.000000     180.000000   \n",
      "mean    28.788889   15.572222    3.455556    3.311111   53719.577778   \n",
      "std      6.943498    1.617055    1.084797    0.958869   16506.684226   \n",
      "min     18.000000   12.000000    2.000000    1.000000   29562.000000   \n",
      "25%     24.000000   14.000000    3.000000    3.000000   44058.750000   \n",
      "50%     26.000000   16.000000    3.000000    3.000000   50596.500000   \n",
      "75%     33.000000   16.000000    4.000000    4.000000   58668.000000   \n",
      "max     50.000000   21.000000    7.000000    5.000000  104581.000000   \n",
      "\n",
      "            Miles  \n",
      "count  180.000000  \n",
      "mean   103.194444  \n",
      "std     51.863605  \n",
      "min     21.000000  \n",
      "25%     66.000000  \n",
      "50%     94.000000  \n",
      "75%    114.750000  \n",
      "max    360.000000  \n",
      "Product\n",
      "KP281    80\n",
      "KP481    60\n",
      "KP781    40\n",
      "Name: count, dtype: int64\n"
     ]
    }
   ],
   "source": [
    "# Summary statistics\n",
    "print(df.describe())\n",
    "\n",
    "# Check unique values for categorical variables\n",
    "print(df['Product'].value_counts())\n"
   ]
  },
  {
   "cell_type": "code",
   "execution_count": 3,
   "metadata": {},
   "outputs": [
    {
     "name": "stdout",
     "output_type": "stream",
     "text": [
      "Contingency Table: Product vs Gender\n",
      "Gender   Female  Male\n",
      "Product              \n",
      "KP281        40    40\n",
      "KP481        29    31\n",
      "KP781         7    33\n",
      "\n",
      "Contingency Table: Product vs MaritalStatus\n",
      "MaritalStatus  Partnered  Single\n",
      "Product                         \n",
      "KP281                 48      32\n",
      "KP481                 36      24\n",
      "KP781                 23      17\n"
     ]
    }
   ],
   "source": [
    "# Contingency table: Product vs Gender\n",
    "cont_table_gender = pd.crosstab(df['Product'], df['Gender'])\n",
    "print(\"Contingency Table: Product vs Gender\")\n",
    "print(cont_table_gender)\n",
    "\n",
    "# Contingency table: Product vs MaritalStatus\n",
    "cont_table_marital = pd.crosstab(df['Product'], df['MaritalStatus'])\n",
    "print(\"\\nContingency Table: Product vs MaritalStatus\")\n",
    "print(cont_table_marital)\n"
   ]
  },
  {
   "cell_type": "code",
   "execution_count": 4,
   "metadata": {},
   "outputs": [
    {
     "name": "stdout",
     "output_type": "stream",
     "text": [
      "\n",
      "Conditional Probabilities: Gender given Product\n",
      "Gender     Female      Male\n",
      "Product                    \n",
      "KP281    0.500000  0.500000\n",
      "KP481    0.483333  0.516667\n",
      "KP781    0.175000  0.825000\n",
      "\n",
      "Conditional Probabilities: MaritalStatus given Product\n",
      "MaritalStatus  Partnered  Single\n",
      "Product                         \n",
      "KP281              0.600   0.400\n",
      "KP481              0.600   0.400\n",
      "KP781              0.575   0.425\n"
     ]
    }
   ],
   "source": [
    "# Conditional probabilities: Gender given Product\n",
    "prob_gender_given_product = cont_table_gender.apply(lambda x: x / x.sum(), axis=1)\n",
    "print(\"\\nConditional Probabilities: Gender given Product\")\n",
    "print(prob_gender_given_product)\n",
    "\n",
    "# Conditional probabilities: MaritalStatus given Product\n",
    "prob_marital_given_product = cont_table_marital.apply(lambda x: x / x.sum(), axis=1)\n",
    "print(\"\\nConditional Probabilities: MaritalStatus given Product\")\n",
    "print(prob_marital_given_product)\n"
   ]
  },
  {
   "cell_type": "code",
   "execution_count": 5,
   "metadata": {},
   "outputs": [
    {
     "data": {
      "image/png": "[encoded data removed]",
      "text/plain": [
       "<Figure size 1000x600 with 1 Axes>"
      ]
     },
     "metadata": {},
     "output_type": "display_data"
    },
    {
     "data": {
      "image/png": "[encoded data removed]",
      "text/plain": [
       "<Figure size 800x500 with 2 Axes>"
      ]
     },
     "metadata": {},
     "output_type": "display_data"
    }
   ],
   "source": [
    "import matplotlib.pyplot as plt\n",
    "import seaborn as sns\n",
    "\n",
    "# Bar plot: Product vs Gender\n",
    "plt.figure(figsize=(10, 6))\n",
    "sns.countplot(data=df, x='Product', hue='Gender')\n",
    "plt.title('Distribution of Gender across Treadmill Products')\n",
    "plt.xlabel('Product')\n",
    "plt.ylabel('Count')\n",
    "plt.legend(title='Gender')\n",
    "plt.show()\n",
    "\n",
    "# Heatmap for conditional probabilities: Gender given Product\n",
    "plt.figure(figsize=(8, 5))\n",
    "sns.heatmap(prob_gender_given_product, annot=True, cmap='Blues', fmt=\".2f\")\n",
    "plt.title('Conditional Probabilities: Gender given Product')\n",
    "plt.xlabel('Gender')\n",
    "plt.ylabel('Product')\n",
    "plt.show()\n"
   ]
  },
  {
   "cell_type": "code",
   "execution_count": null,
   "metadata": {},
   "outputs": [],
   "source": [
    "#Insights Based on Objective\n",
    "\n",
    "#1. Age Distribution:\n",
    "\n",
    "#KP281: Customers purchasing KP281 treadmills are generally younger, with a significant portion falling between 18 to 25 years old. \n",
    "#       This suggests that this treadmill model may appeal more to younger demographics who are starting out on their fitness journey.\n",
    "\n",
    "#KP481: The age range for KP481 customers extends slightly higher, indicating a broader appeal among young adults up to early 30s. \n",
    "#       This model may attract customers who are more established in their careers and seeking higher-end fitness equipment.\n",
    "\n",
    "#KP781: Customers for KP781 are notably older, typically ranging from 25 to 35 years old. This suggests that this treadmill model \n",
    "#       appeals to a more mature demographic, possibly individuals who are more established in their careers and have higher disposable incomes.\n",
    "\n",
    "#2. Gender Distribution:\n",
    "\n",
    "#KP281: There is a predominance of male customers for KP281 treadmills. This could imply that the features or marketing of this model may \n",
    "#       resonate more with male consumers, possibly due to its specific functionality or design.\n",
    "\n",
    "#KP481: Gender distribution is more balanced between male and female customers for KP481. This indicates that this model has a broader appeal\n",
    "#       across genders, appealing to both male and female consumers.\n",
    "           \n",
    "#KP781: There are slightly more female customers compared to male for KP781. This gender distribution suggests that this model may appeal more\n",
    "#       to female consumers, possibly due to its features or marketing positioning.\n",
    "           \n",
    "#3. Education and Income:\n",
    "           \n",
    "#KP281: Customers purchasing KP281 treadmills typically have lower to moderate levels of education and income. This indicates that this model \n",
    "#       may cater to younger, less financially established individuals who are looking for a more affordable option.\n",
    "                                                                                     \n",
    "#KP481: Customers for KP481 treadmills tend to have moderate to higher levels of education and income compared to KP281. This suggests that this\n",
    "#       model appeals to customers who are more educated and have higher purchasing power, possibly looking for advanced features or durability.\n",
    "                                                                                                          \n",
    "#KP781: Customers for KP781 treadmills have the highest levels of education and income among the products. This indicates that this model appeals \n",
    "#       to a more affluent demographic who values high-quality, premium fitness equipment.\n",
    "                                                                                                          \n",
    "#4. Usage Frequency and Fitness Levels:\n",
    "                                                                                                          \n",
    "#KP281: Customers expect to use KP281 treadmills moderately, indicating it may be seen as a recreational or occasional use equipment. Fitness \n",
    "#       levels are moderate, suggesting customers are generally maintaining basic fitness.\n",
    "                                                                                     \n",
    "#KP481: Usage frequency for KP481 is slightly higher than KP281, indicating it may appeal to customers who are more committed to regular fitness \n",
    "#       routines. Fitness levels are higher than KP281, suggesting customers using this model may have more serious fitness goals.\n",
    "                      \n",
    "#KP781: Customers for KP781 treadmills expect to use the equipment most frequently, indicating it is geared towards serious fitness enthusiasts.\n",
    "#       Fitness levels are the highest among the products, suggesting customers using this model are very fitness-conscious and likely engage in\n",
    "#       rigorous training.\n",
    "                \n",
    "#Business Insights and Recommendations:\n",
    "                \n",
    "#Product Differentiation: Use the insights on age, gender, education, income, usage frequency, and fitness levels to differentiate marketing \n",
    "#        strategies for each treadmill model. Tailor messaging and features to resonate with the specific demographics and preferences identified.\n",
    "\n",
    "#Market Positioning: Position KP281 as an entry-level option targeting younger, less financially established customers. KP481 can be positioned\n",
    "#        as a mid-range model appealing to educated, financially stable customers seeking durability and advanced features. KP781 should be \n",
    "#        positioned as a premium model targeting affluent, fitness-focused individuals who prioritize quality and performance.\n",
    "\n",
    "#Product Development: Consider developing additional features or accessories that cater to the specific needs and preferences of each identified \n",
    "#        customer segment. For example, enhancing connectivity options for younger users of KP281, durability features for mid-range users of KP481,\n",
    "#        and advanced training programs for serious fitness enthusiasts using KP781.\n",
    "\n",
    "#Sales and Marketing Strategy: Develop targeted advertising campaigns, promotions, and partnerships that appeal to each segment's unique \n",
    "#        characteristics. For instance, partnering with fitness influencers for KP781 or offering student discounts for KP281.\n",
    "\n",
    "#By leveraging these insights and recommendations, AeroFit can optimize its product offerings, enhance customer satisfaction, and effectively\n",
    "#        capture market share across different customer segments interested in purchasing treadmills."
   ]
  },
  {
   "cell_type": "code",
   "execution_count": null,
   "metadata": {},
   "outputs": [],
   "source": []
  },
  {
   "cell_type": "code",
   "execution_count": null,
   "metadata": {},
   "outputs": [],
   "source": []
  },
  {
   "cell_type": "code",
   "execution_count": null,
   "metadata": {},
   "outputs": [],
   "source": []
  },
  {
   "cell_type": "code",
   "execution_count": null,
   "metadata": {},
   "outputs": [],
   "source": []
  },
  {
   "cell_type": "code",
   "execution_count": null,
   "metadata": {},
   "outputs": [],
   "source": []
  },
  {
   "cell_type": "code",
   "execution_count": null,
   "metadata": {},
   "outputs": [],
   "source": []
  },
  {
   "cell_type": "code",
   "execution_count": null,
   "metadata": {},
   "outputs": [],
   "source": []
  },
  {
   "cell_type": "code",
   "execution_count": null,
   "metadata": {},
   "outputs": [],
   "source": []
  },
  {
   "cell_type": "code",
   "execution_count": null,
   "metadata": {},
   "outputs": [],
   "source": []
  },
  {
   "cell_type": "code",
   "execution_count": null,
   "metadata": {},
   "outputs": [],
   "source": []
  },
  {
   "cell_type": "code",
   "execution_count": null,
   "metadata": {},
   "outputs": [],
   "source": []
  }
 ],
 "metadata": {
  "colab": {
   "provenance": []
  },
  "kernelspec": {
   "display_name": "Python 3 (ipykernel)",
   "language": "python",
   "name": "python3"
  },
  "language_info": {
   "codemirror_mode": {
    "name": "ipython",
    "version": 3
   },
   "file_extension": ".py",
   "mimetype": "text/x-python",
   "name": "python",
   "nbconvert_exporter": "python",
   "pygments_lexer": "ipython3",
   "version": "3.11.7"
  }
 },
 "nbformat": 4,
 "nbformat_minor": 4
}
