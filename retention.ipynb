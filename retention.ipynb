{
 "cells": [
  {
   "cell_type": "markdown",
   "metadata": {
    "id": "GLLlE8C37hoe"
   },
   "source": [
    "#**Retention Strategies**\n",
    "\n",
    "###**Assignment**\n",
    "\n",
    "Start by defining and training a classification model to predict the churn of customers of a telecommunication company. Based on the data analysis, and possibly, the feature importance analysis in the model, suggest strategies that can be used to retain the customers. Simulate your strategies by altering the data and confirm their effectiveness using the model."
   ]
  },
  {
   "cell_type": "markdown",
   "metadata": {
    "id": "8kuQVYjj7hk4"
   },
   "source": [
    "###**Data Description**\n",
    "\n",
    "The customer churn data is given in the file Telco-Customer-Churn.json. Each row represents a customer, each column contains customer’s attributes described on the column Metadata.\n",
    "\n",
    "The data set includes information about:\n",
    "\n",
    "- Customers who left within the last month – the column is called Churn;\n",
    "- Services that each customer has signed up for – phone, multiple lines, internet, online security, online backup, device protection, tech support, and streaming TV and movies;\n",
    "- Customer account information – how long they’ve been a customer, contract, payment method, paperless billing, monthly charges, and total charges;\n",
    "- Demographic info about customers – gender, age range, and if they have partners and dependents."
   ]
  },
  {
   "cell_type": "markdown",
   "metadata": {
    "id": "892Lflkj7hh9"
   },
   "source": [
    "###**Practicalities**\n",
    "\n",
    "Define, train and evaluate a predictive model that takes as the input the data provided. You may want to split the data into training, testing and validation sets, according to your discretion. Do not use external data for this project. You may use any algorithm of your choice or compare multiple models.\n",
    "\n",
    "Make sure that the solution reflects your entire thought process - it is more important how the code is structured rather than the final metrics.\n",
    "\n",
    "\n",
    "#### To download the dataset <a href=\"https://drive.google.com/drive/folders/1mu1QKuC4t2PugPl-24VtysphrwLfyXzt?usp=sharing\"> Click here </a>"
   ]
  },
  {
   "cell_type": "code",
   "execution_count": 55,
   "metadata": {},
   "outputs": [
    {
     "name": "stdout",
     "output_type": "stream",
     "text": [
      "   customerID Churn                                           customer  \\\n",
      "0  0002-ORFBO    No  {'gender': 'Female', 'SeniorCitizen': 0, 'Part...   \n",
      "1  0003-MKNFE    No  {'gender': 'Male', 'SeniorCitizen': 0, 'Partne...   \n",
      "2  0004-TLHLJ   Yes  {'gender': 'Male', 'SeniorCitizen': 0, 'Partne...   \n",
      "3  0011-IGKFF   Yes  {'gender': 'Male', 'SeniorCitizen': 1, 'Partne...   \n",
      "4  0013-EXCHZ   Yes  {'gender': 'Female', 'SeniorCitizen': 1, 'Part...   \n",
      "\n",
      "                                             phone  \\\n",
      "0   {'PhoneService': 'Yes', 'MultipleLines': 'No'}   \n",
      "1  {'PhoneService': 'Yes', 'MultipleLines': 'Yes'}   \n",
      "2   {'PhoneService': 'Yes', 'MultipleLines': 'No'}   \n",
      "3   {'PhoneService': 'Yes', 'MultipleLines': 'No'}   \n",
      "4   {'PhoneService': 'Yes', 'MultipleLines': 'No'}   \n",
      "\n",
      "                                            internet  \\\n",
      "0  {'InternetService': 'DSL', 'OnlineSecurity': '...   \n",
      "1  {'InternetService': 'DSL', 'OnlineSecurity': '...   \n",
      "2  {'InternetService': 'Fiber optic', 'OnlineSecu...   \n",
      "3  {'InternetService': 'Fiber optic', 'OnlineSecu...   \n",
      "4  {'InternetService': 'Fiber optic', 'OnlineSecu...   \n",
      "\n",
      "                                             account  \n",
      "0  {'Contract': 'One year', 'PaperlessBilling': '...  \n",
      "1  {'Contract': 'Month-to-month', 'PaperlessBilli...  \n",
      "2  {'Contract': 'Month-to-month', 'PaperlessBilli...  \n",
      "3  {'Contract': 'Month-to-month', 'PaperlessBilli...  \n",
      "4  {'Contract': 'Month-to-month', 'PaperlessBilli...  \n",
      "<class 'pandas.core.frame.DataFrame'>\n",
      "RangeIndex: 7267 entries, 0 to 7266\n",
      "Data columns (total 6 columns):\n",
      " #   Column      Non-Null Count  Dtype \n",
      "---  ------      --------------  ----- \n",
      " 0   customerID  7267 non-null   object\n",
      " 1   Churn       7267 non-null   object\n",
      " 2   customer    7267 non-null   object\n",
      " 3   phone       7267 non-null   object\n",
      " 4   internet    7267 non-null   object\n",
      " 5   account     7267 non-null   object\n",
      "dtypes: object(6)\n",
      "memory usage: 340.8+ KB\n",
      "None\n"
     ]
    }
   ],
   "source": [
    "# Step 1: Load and explore the dataset\n",
    "import pandas as pd\n",
    "import numpy as np\n",
    "import json\n",
    "from sklearn.linear_model import LogisticRegression\n",
    "from sklearn.metrics import classification_report, confusion_matrix, roc_auc_score\n",
    "from sklearn.ensemble import RandomForestClassifier\n",
    "from sklearn.model_selection import train_test_split\n",
    "from sklearn.preprocessing import StandardScaler, OneHotEncoder\n",
    "from sklearn.compose import ColumnTransformer\n",
    "from sklearn.pipeline import Pipeline\n",
    "from sklearn.impute import SimpleImputer\n",
    "\n",
    "# Load data\n",
    "file_path = r'C:\\Users\\manoj\\Downloads\\Telco-Customer-Churn.json'\n",
    "data = pd.read_json(file_path)\n",
    "\n",
    "# Explore data\n",
    "print(data.head())\n",
    "print(data.info())"
   ]
  },
  {
   "cell_type": "code",
   "execution_count": 56,
   "metadata": {},
   "outputs": [
    {
     "name": "stdout",
     "output_type": "stream",
     "text": [
      "   customerID Churn  gender  SeniorCitizen Partner Dependents  tenure  \\\n",
      "0  0002-ORFBO    No  Female              0     Yes        Yes       9   \n",
      "1  0003-MKNFE    No    Male              0      No         No       9   \n",
      "2  0004-TLHLJ   Yes    Male              0      No         No       4   \n",
      "3  0011-IGKFF   Yes    Male              1     Yes         No      13   \n",
      "4  0013-EXCHZ   Yes  Female              1     Yes         No       3   \n",
      "\n",
      "  PhoneService MultipleLines InternetService  ... OnlineBackup  \\\n",
      "0          Yes            No             DSL  ...          Yes   \n",
      "1          Yes           Yes             DSL  ...           No   \n",
      "2          Yes            No     Fiber optic  ...           No   \n",
      "3          Yes            No     Fiber optic  ...          Yes   \n",
      "4          Yes            No     Fiber optic  ...           No   \n",
      "\n",
      "  DeviceProtection TechSupport StreamingTV StreamingMovies        Contract  \\\n",
      "0               No         Yes         Yes              No        One year   \n",
      "1               No          No          No             Yes  Month-to-month   \n",
      "2              Yes          No          No              No  Month-to-month   \n",
      "3              Yes          No         Yes             Yes  Month-to-month   \n",
      "4               No         Yes         Yes              No  Month-to-month   \n",
      "\n",
      "  PaperlessBilling     PaymentMethod Charges.Monthly  Charges.Total  \n",
      "0              Yes      Mailed check            65.6          593.3  \n",
      "1               No      Mailed check            59.9          542.4  \n",
      "2              Yes  Electronic check            73.9         280.85  \n",
      "3              Yes  Electronic check            98.0        1237.85  \n",
      "4              Yes      Mailed check            83.9          267.4  \n",
      "\n",
      "[5 rows x 21 columns]\n",
      "<class 'pandas.core.frame.DataFrame'>\n",
      "RangeIndex: 7267 entries, 0 to 7266\n",
      "Data columns (total 21 columns):\n",
      " #   Column            Non-Null Count  Dtype  \n",
      "---  ------            --------------  -----  \n",
      " 0   customerID        7267 non-null   object \n",
      " 1   Churn             7267 non-null   int64  \n",
      " 2   gender            7267 non-null   object \n",
      " 3   SeniorCitizen     7267 non-null   int64  \n",
      " 4   Partner           7267 non-null   object \n",
      " 5   Dependents        7267 non-null   object \n",
      " 6   tenure            7267 non-null   int64  \n",
      " 7   PhoneService      7267 non-null   object \n",
      " 8   MultipleLines     7267 non-null   object \n",
      " 9   InternetService   7267 non-null   object \n",
      " 10  OnlineSecurity    7267 non-null   object \n",
      " 11  OnlineBackup      7267 non-null   object \n",
      " 12  DeviceProtection  7267 non-null   object \n",
      " 13  TechSupport       7267 non-null   object \n",
      " 14  StreamingTV       7267 non-null   object \n",
      " 15  StreamingMovies   7267 non-null   object \n",
      " 16  Contract          7267 non-null   object \n",
      " 17  PaperlessBilling  7267 non-null   object \n",
      " 18  PaymentMethod     7267 non-null   object \n",
      " 19  Charges.Monthly   7267 non-null   float64\n",
      " 20  Charges.Total     7267 non-null   object \n",
      "dtypes: float64(1), int64(3), object(17)\n",
      "memory usage: 1.2+ MB\n",
      "None\n"
     ]
    }
   ],
   "source": [
    "# Flatten the nested JSON columns\n",
    "customer_df = pd.json_normalize(data['customer'])\n",
    "phone_df = pd.json_normalize(data['phone'])\n",
    "internet_df = pd.json_normalize(data['internet'])\n",
    "account_df = pd.json_normalize(data['account'])\n",
    "\n",
    "# Concatenate all flattened DataFrames along with the original customerID and Churn columns\n",
    "flattened_df = pd.concat([data[['customerID', 'Churn']], customer_df, phone_df, internet_df, account_df], axis=1)\n",
    "\n",
    "# Check the new structure of the flattened DataFrame\n",
    "print(flattened_df.head())\n",
    "\n",
    "# Convert the 'Churn' column to binary\n",
    "flattened_df['Churn'] = flattened_df['Churn'].apply(lambda x: 1 if x == 'Yes' else 0)\n",
    "\n",
    "# Check the DataFrame info\n",
    "print(flattened_df.info())"
   ]
  },
  {
   "cell_type": "code",
   "execution_count": 57,
   "metadata": {},
   "outputs": [
    {
     "name": "stdout",
     "output_type": "stream",
     "text": [
      "Valid categorical columns for one-hot encoding: ['gender', 'Partner', 'Dependents', 'PhoneService', 'MultipleLines', 'InternetService', 'OnlineSecurity', 'OnlineBackup', 'DeviceProtection', 'TechSupport', 'StreamingTV', 'StreamingMovies', 'Contract', 'PaperlessBilling', 'PaymentMethod']\n",
      "Missing columns: set()\n"
     ]
    }
   ],
   "source": [
    "# Convert 'Charges.Total' to numeric and handle any potential non-numeric values\n",
    "flattened_df['Charges.Total'] = pd.to_numeric(flattened_df['Charges.Total'], errors='coerce')\n",
    "\n",
    "# Fill missing or invalid values in 'Charges.Total' using the median\n",
    "flattened_df['Charges.Total'] = flattened_df['Charges.Total'].fillna(flattened_df['Charges.Total'].median())\n",
    "\n",
    "# Define the categorical columns for one-hot encoding\n",
    "categorical_columns = ['gender', 'Partner', 'Dependents', 'PhoneService', 'MultipleLines',\n",
    "                       'InternetService', 'OnlineSecurity', 'OnlineBackup', 'DeviceProtection',\n",
    "                       'TechSupport', 'StreamingTV', 'StreamingMovies', 'Contract',\n",
    "                       'PaperlessBilling', 'PaymentMethod']\n",
    "\n",
    "# Apply one-hot encoding to categorical columns, ensuring missing columns are handled\n",
    "available_columns = flattened_df.columns\n",
    "valid_categorical_columns = [col for col in categorical_columns if col in available_columns]\n",
    "\n",
    "print(f\"Valid categorical columns for one-hot encoding: {valid_categorical_columns}\")\n",
    "print(f\"Missing columns: {set(categorical_columns) - set(valid_categorical_columns)}\")"
   ]
  },
  {
   "cell_type": "code",
   "execution_count": 58,
   "metadata": {},
   "outputs": [
    {
     "name": "stdout",
     "output_type": "stream",
     "text": [
      "Index(['customerID', 'Churn', 'SeniorCitizen', 'tenure', 'Charges.Monthly',\n",
      "       'Charges.Total', 'gender_Male', 'Partner_Yes', 'Dependents_Yes',\n",
      "       'PhoneService_Yes', 'MultipleLines_No phone service',\n",
      "       'MultipleLines_Yes', 'InternetService_Fiber optic',\n",
      "       'InternetService_No', 'OnlineSecurity_No internet service',\n",
      "       'OnlineSecurity_Yes', 'OnlineBackup_No internet service',\n",
      "       'OnlineBackup_Yes', 'DeviceProtection_No internet service',\n",
      "       'DeviceProtection_Yes', 'TechSupport_No internet service',\n",
      "       'TechSupport_Yes', 'StreamingTV_No internet service', 'StreamingTV_Yes',\n",
      "       'StreamingMovies_No internet service', 'StreamingMovies_Yes',\n",
      "       'Contract_One year', 'Contract_Two year', 'PaperlessBilling_Yes',\n",
      "       'PaymentMethod_Credit card (automatic)',\n",
      "       'PaymentMethod_Electronic check', 'PaymentMethod_Mailed check'],\n",
      "      dtype='object')\n",
      "   customerID  Churn  SeniorCitizen  tenure  Charges.Monthly  Charges.Total  \\\n",
      "0  0002-ORFBO      0              0       9             65.6         593.30   \n",
      "1  0003-MKNFE      0              0       9             59.9         542.40   \n",
      "2  0004-TLHLJ      1              0       4             73.9         280.85   \n",
      "3  0011-IGKFF      1              1      13             98.0        1237.85   \n",
      "4  0013-EXCHZ      1              1       3             83.9         267.40   \n",
      "\n",
      "   gender_Male  Partner_Yes  Dependents_Yes  PhoneService_Yes  ...  \\\n",
      "0        False         True            True              True  ...   \n",
      "1         True        False           False              True  ...   \n",
      "2         True        False           False              True  ...   \n",
      "3         True         True           False              True  ...   \n",
      "4        False         True           False              True  ...   \n",
      "\n",
      "   StreamingTV_No internet service  StreamingTV_Yes  \\\n",
      "0                            False             True   \n",
      "1                            False            False   \n",
      "2                            False            False   \n",
      "3                            False             True   \n",
      "4                            False             True   \n",
      "\n",
      "   StreamingMovies_No internet service  StreamingMovies_Yes  \\\n",
      "0                                False                False   \n",
      "1                                False                 True   \n",
      "2                                False                False   \n",
      "3                                False                 True   \n",
      "4                                False                False   \n",
      "\n",
      "   Contract_One year  Contract_Two year  PaperlessBilling_Yes  \\\n",
      "0               True              False                  True   \n",
      "1              False              False                 False   \n",
      "2              False              False                  True   \n",
      "3              False              False                  True   \n",
      "4              False              False                  True   \n",
      "\n",
      "   PaymentMethod_Credit card (automatic)  PaymentMethod_Electronic check  \\\n",
      "0                                  False                           False   \n",
      "1                                  False                           False   \n",
      "2                                  False                            True   \n",
      "3                                  False                            True   \n",
      "4                                  False                           False   \n",
      "\n",
      "   PaymentMethod_Mailed check  \n",
      "0                        True  \n",
      "1                        True  \n",
      "2                       False  \n",
      "3                       False  \n",
      "4                        True  \n",
      "\n",
      "[5 rows x 32 columns]\n"
     ]
    }
   ],
   "source": [
    "# Apply one-hot encoding only to valid categorical columns\n",
    "flattened_df = pd.get_dummies(flattened_df, columns=valid_categorical_columns, drop_first=True)\n",
    "\n",
    "# Display the updated column names and first few rows\n",
    "print(flattened_df.columns)\n",
    "print(flattened_df.head())"
   ]
  },
  {
   "cell_type": "code",
   "execution_count": 59,
   "metadata": {},
   "outputs": [
    {
     "name": "stdout",
     "output_type": "stream",
     "text": [
      "Training set shape: (5813, 30)\n",
      "Testing set shape: (1454, 30)\n"
     ]
    }
   ],
   "source": [
    "# Split the data into features (X) and target (y)\n",
    "X = flattened_df.drop(['customerID', 'Churn'], axis=1)\n",
    "y = flattened_df['Churn']\n",
    "\n",
    "# Split into training and testing sets\n",
    "X_train, X_test, y_train, y_test = train_test_split(X, y, test_size=0.2, random_state=42)\n",
    "\n",
    "# Check the shape of the training and testing sets\n",
    "print(f\"Training set shape: {X_train.shape}\")\n",
    "print(f\"Testing set shape: {X_test.shape}\")\n"
   ]
  },
  {
   "cell_type": "code",
   "execution_count": 109,
   "metadata": {},
   "outputs": [
    {
     "name": "stdout",
     "output_type": "stream",
     "text": [
      "Confusion Matrix:\n",
      "[[984  98]\n",
      " [170 202]]\n",
      "\n",
      "Classification Report:\n",
      "              precision    recall  f1-score   support\n",
      "\n",
      "           0       0.85      0.91      0.88      1082\n",
      "           1       0.67      0.54      0.60       372\n",
      "\n",
      "    accuracy                           0.82      1454\n",
      "   macro avg       0.76      0.73      0.74      1454\n",
      "weighted avg       0.81      0.82      0.81      1454\n",
      "\n",
      "\n",
      "ROC AUC Score: 0.8498226104585296\n"
     ]
    }
   ],
   "source": [
    "# Initialize the Logistic Regression model with max_iter=1000 to avoid convergence warnings\n",
    "from sklearn.decomposition import PCA\n",
    "\n",
    "pca = PCA(n_components=30)  # Reduce to 30 components\n",
    "X_train_reduced = pca.fit_transform(X_train)\n",
    "X_test_reduced = pca.transform(X_test)\n",
    "\n",
    "log_reg = LogisticRegression(solver='lbfgs', max_iter=5000)\n",
    "log_reg.fit(X_train_reduced, y_train)\n",
    "\n",
    "\n",
    "pipeline.fit(X_train, y_train)\n",
    "# Train the model on the training data\n",
    "model.fit(X_train, y_train)\n",
    "\n",
    "# Make predictions on the test set\n",
    "y_pred = model.predict(X_test)\n",
    "\n",
    "# Evaluate the model\n",
    "print(\"Confusion Matrix:\")\n",
    "print(confusion_matrix(y_test, y_pred))\n",
    "print(\"\\nClassification Report:\")\n",
    "print(classification_report(y_test, y_pred))\n",
    "roc_auc = roc_auc_score(y_test, model.predict_proba(X_test)[:, 1])\n",
    "print(f\"\\nROC AUC Score: {roc_auc}\")"
   ]
  },
  {
   "cell_type": "code",
   "execution_count": 110,
   "metadata": {},
   "outputs": [
    {
     "name": "stdout",
     "output_type": "stream",
     "text": [
      "Confusion Matrix:\n",
      "[[972 110]\n",
      " [188 184]]\n",
      "\n",
      "Classification Report:\n",
      "              precision    recall  f1-score   support\n",
      "\n",
      "           0       0.84      0.90      0.87      1082\n",
      "           1       0.63      0.49      0.55       372\n",
      "\n",
      "    accuracy                           0.80      1454\n",
      "   macro avg       0.73      0.70      0.71      1454\n",
      "weighted avg       0.78      0.80      0.79      1454\n",
      "\n",
      "\n",
      "ROC AUC Score: 0.831086150696639\n"
     ]
    }
   ],
   "source": [
    "# Initialize and train the model\n",
    "rf_model = RandomForestClassifier(random_state=42)\n",
    "rf_model.fit(X_train, y_train)\n",
    "\n",
    "# Make predictions\n",
    "y_pred_rf = rf_model.predict(X_test)\n",
    "\n",
    "# Evaluate the model\n",
    "print(\"Confusion Matrix:\")\n",
    "print(confusion_matrix(y_test, y_pred_rf))\n",
    "print(\"\\nClassification Report:\")\n",
    "print(classification_report(y_test, y_pred_rf))\n",
    "print(f\"\\nROC AUC Score: {roc_auc_score(y_test, rf_model.predict_proba(X_test)[:,1])}\")\n"
   ]
  },
  {
   "cell_type": "code",
   "execution_count": 111,
   "metadata": {},
   "outputs": [
    {
     "name": "stdout",
     "output_type": "stream",
     "text": [
      "Logistic Regression CV AUC: 0.8372287796905095\n",
      "Random Forest CV AUC: 0.8107705245472261\n"
     ]
    }
   ],
   "source": [
    "from sklearn.model_selection import cross_val_score\n",
    "\n",
    "# Perform 5-fold cross-validation for Logistic Regression\n",
    "log_reg_cv_scores = cross_val_score(log_reg, X_train, y_train, cv=5, scoring='roc_auc')\n",
    "print(f\"Logistic Regression CV AUC: {log_reg_cv_scores.mean()}\")\n",
    "\n",
    "# Perform 5-fold cross-validation for Random Forest\n",
    "rf_cv_scores = cross_val_score(rf_model, X_train, y_train, cv=5, scoring='roc_auc')\n",
    "print(f\"Random Forest CV AUC: {rf_cv_scores.mean()}\")"
   ]
  },
  {
   "cell_type": "code",
   "execution_count": 112,
   "metadata": {},
   "outputs": [
    {
     "name": "stdout",
     "output_type": "stream",
     "text": [
      "Fitting 5 folds for each of 81 candidates, totalling 405 fits\n",
      "Best parameters for Random Forest: {'max_depth': 10, 'max_features': 'log2', 'min_samples_split': 10, 'n_estimators': 200}\n"
     ]
    }
   ],
   "source": [
    "from sklearn.model_selection import GridSearchCV\n",
    "\n",
    "# Set up parameter grid for Random Forest\n",
    "param_grid_rf = {\n",
    "    'n_estimators': [100, 200, 300],\n",
    "    'max_depth': [10, 20, 30],\n",
    "    'max_features': ['sqrt', 'log2', None],\n",
    "    'min_samples_split': [2, 5, 10]\n",
    "}\n",
    "\n",
    "# Instantiate the GridSearchCV\n",
    "rf_grid_search = GridSearchCV(estimator=rf_model, param_grid=param_grid_rf, \n",
    "                              cv=5, scoring='roc_auc', n_jobs=-1, verbose=2)\n",
    "\n",
    "# Fit to training data\n",
    "rf_grid_search.fit(X_train, y_train)\n",
    "\n",
    "# Get the best parameters\n",
    "print(f\"Best parameters for Random Forest: {rf_grid_search.best_params_}\")\n",
    "\n",
    "# Train the Random Forest with best parameters\n",
    "best_rf_model = rf_grid_search.best_estimator_\n"
   ]
  },
  {
   "cell_type": "code",
   "execution_count": 115,
   "metadata": {},
   "outputs": [
    {
     "data": {
      "image/png": "[encoded data removed]",
      "text/plain": [
       "<Figure size 1000x600 with 1 Axes>"
      ]
     },
     "metadata": {},
     "output_type": "display_data"
    }
   ],
   "source": [
    "import matplotlib.pyplot as plt\n",
    "import seaborn as sns\n",
    "\n",
    "# Extract feature importances from the trained model\n",
    "feature_importances = rf_model.feature_importances_\n",
    "\n",
    "# Create a DataFrame for visualization\n",
    "importance_df = pd.DataFrame({'Feature': X_train.columns, 'Importance': feature_importances})\n",
    "importance_df = importance_df.sort_values(by='Importance', ascending=False)\n",
    "\n",
    "# Plot the top 10 most important features\n",
    "plt.figure(figsize=(10, 6))\n",
    "sns.barplot(x='Importance', y='Feature', data=importance_df.head(10))\n",
    "plt.title('Top 10 Important Features for Customer Churn')\n",
    "plt.show()\n"
   ]
  },
  {
   "cell_type": "code",
   "execution_count": 1,
   "metadata": {},
   "outputs": [
    {
     "ename": "SyntaxError",
     "evalue": "invalid syntax (1785454622.py, line 4)",
     "output_type": "error",
     "traceback": [
      "\u001b[1;36m  Cell \u001b[1;32mIn[1], line 4\u001b[1;36m\u001b[0m\n\u001b[1;33m    To predict customer churn for a telecommunications company and recommend retention strategies based on model performance.\u001b[0m\n\u001b[1;37m       ^\u001b[0m\n\u001b[1;31mSyntaxError\u001b[0m\u001b[1;31m:\u001b[0m invalid syntax\n"
     ]
    }
   ],
   "source": [
    "\"\"\" Customer Churn Prediction Report\n",
    "\n",
    "#### Objective\n",
    "To predict customer churn for a telecommunications company and recommend retention strategies based on model performance.\n",
    "\n",
    "#### Dataset Overview\n",
    "- Source: `Telco-Customer-Churn.json`\n",
    "- Features: Includes demographic info, services subscribed to, account information, and billing details.\n",
    "- Target: Customer churn status (`Yes` or `No`).\n",
    "\n",
    "#### Data Preprocessing\n",
    "- Flattened Nested JSON: Extracted and normalized nested columns.\n",
    "- Missing Values: Addressed missing or invalid data in `Charges.Total`.\n",
    "- Categorical Encoding: Applied one-hot encoding to categorical features.\n",
    "- Feature Scaling: Used standard scaling for numerical features.\n",
    "\n",
    "#### Modeling\n",
    "1. Logistic Regression\n",
    "   - ROC AUC Score: 0.8498\n",
    "   - Confusion Matrix:\n",
    "     - True Negatives: 984\n",
    "     - False Positives: 98\n",
    "     - True Positives: 202\n",
    "     - False Negatives: 170\n",
    "   - Classification Report:\n",
    "     - Precision: 0.67\n",
    "     - Recall: 0.54\n",
    "     - F1-Score: 0.60\n",
    "\n",
    "2. Random Forest\n",
    "   - ROC AUC Score: 0.8311\n",
    "   - Confusion Matrix:\n",
    "     - True Negatives: 972\n",
    "     - False Positives: 110\n",
    "     - True Positives: 184\n",
    "     - False Negatives: 188\n",
    "   - Classification Report:\n",
    "     - Precision: 0.63\n",
    "     - Recall: 0.49\n",
    "     - F1-Score: 0.55\n",
    "\n",
    "3. Cross-Validation Scores\n",
    "   - Logistic Regression: 0.8372\n",
    "   - Random Forest: 0.8108\n",
    "\n",
    "#### Recommendations\n",
    "Based on feature importance and model predictions:\n",
    "1. Contract Flexibility: Promote longer-term contracts to reduce churn risk. High churn is associated with month-to-month contracts.\n",
    "2. Customer Service: Improve online security and tech support services. High churn rates are observed among customers with inadequate support.\n",
    "3. Billing Methods: Encourage electronic billing to streamline the process and potentially reduce churn.\n",
    "4. Retention Offers: Target offers based on usage patterns and service satisfaction to retain high-risk customers.\n",
    "\n",
    "This analysis provides a foundation for implementing effective retention strategies and enhancing customer satisfaction.\"\"\""
   ]
  },
  {
   "cell_type": "code",
   "execution_count": null,
   "metadata": {},
   "outputs": [],
   "source": []
  },
  {
   "cell_type": "code",
   "execution_count": null,
   "metadata": {},
   "outputs": [],
   "source": []
  },
  {
   "cell_type": "code",
   "execution_count": null,
   "metadata": {},
   "outputs": [],
   "source": []
  },
  {
   "cell_type": "code",
   "execution_count": null,
   "metadata": {},
   "outputs": [],
   "source": []
  },
  {
   "cell_type": "code",
   "execution_count": null,
   "metadata": {},
   "outputs": [],
   "source": []
  },
  {
   "cell_type": "code",
   "execution_count": null,
   "metadata": {},
   "outputs": [],
   "source": []
  },
  {
   "cell_type": "code",
   "execution_count": null,
   "metadata": {},
   "outputs": [],
   "source": []
  },
  {
   "cell_type": "code",
   "execution_count": null,
   "metadata": {},
   "outputs": [],
   "source": []
  },
  {
   "cell_type": "code",
   "execution_count": null,
   "metadata": {},
   "outputs": [],
   "source": []
  },
  {
   "cell_type": "code",
   "execution_count": null,
   "metadata": {},
   "outputs": [],
   "source": []
  },
  {
   "cell_type": "code",
   "execution_count": null,
   "metadata": {},
   "outputs": [],
   "source": []
  },
  {
   "cell_type": "code",
   "execution_count": null,
   "metadata": {},
   "outputs": [],
   "source": []
  }
 ],
 "metadata": {
  "colab": {
   "provenance": []
  },
  "kernelspec": {
   "display_name": "Python 3 (ipykernel)",
   "language": "python",
   "name": "python3"
  },
  "language_info": {
   "codemirror_mode": {
    "name": "ipython",
    "version": 3
   },
   "file_extension": ".py",
   "mimetype": "text/x-python",
   "name": "python",
   "nbconvert_exporter": "python",
   "pygments_lexer": "ipython3",
   "version": "3.12.4"
  }
 },
 "nbformat": 4,
 "nbformat_minor": 4
}
