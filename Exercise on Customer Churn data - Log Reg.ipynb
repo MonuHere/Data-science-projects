{
 "cells": [
  {
   "cell_type": "code",
   "execution_count": 1,
   "metadata": {},
   "outputs": [],
   "source": [
    "# Importing Necessary libraries\n",
    "import pandas as pd\n",
    "import numpy as np\n",
    "import matplotlib.pyplot as plt\n",
    "%matplotlib inline\n",
    "import seaborn as sns\n",
    "from sklearn.metrics import recall_score\n",
    "from sklearn.metrics import precision_score\n",
    "from sklearn.metrics import f1_score\n",
    "# Libraries for ML model\n",
    "from sklearn.model_selection import train_test_split\n",
    "from sklearn.tree import DecisionTreeClassifier\n",
    "from sklearn.ensemble import RandomForestClassifier\n",
    "from sklearn.linear_model import LogisticRegression\n",
    "from sklearn.metrics import accuracy_score\n",
    "import warnings \n",
    "warnings.filterwarnings('ignore')\n",
    "\n",
    "\n",
    "import tensorflow.keras\n",
    "from tensorflow.keras.layers import Dense\n",
    "from tensorflow.keras.models import Sequential\n",
    "from tensorflow.keras.callbacks import EarlyStopping"
   ]
  },
  {
   "cell_type": "markdown",
   "metadata": {},
   "source": [
    "#### Problem Statement- Here we are Predicting  whether a customer is churning or not based on these below columns \n",
    "##### \"Low churn rates\" means happy customers;\"High churn rates\" means customers are leaving the plan.\n",
    "##### Churn rate is the best  measure of \"Customer  Satisfaction\"."
   ]
  },
  {
   "cell_type": "markdown",
   "metadata": {},
   "source": [
    "#### About the dataset; Dataset consists of group of population like \"Age\",\"gender\",\"Phone number\"\n",
    "### Based on the past data we are predicting the future whether the customer is churning or not. \n",
    "#### Dataset has no of customers:2000 with 16 features(column names); Dependent Variable(y) is Churn And Remaining all are Independent Features(X)\n",
    "### Finally  prediction(Estimating) whether the customer is willing to use the subscription  or not (Yes or No)\n",
    "### Our Target Variable is \"Churn\" "
   ]
  },
  {
   "cell_type": "markdown",
   "metadata": {},
   "source": [
    "### To download the dataset <a href='https://drive.google.com/file/d/13jGTeW3vlLvQ5aimetJwmzoO_YXiGTtw/view?usp=sharing' title = \"Google Drive\"> Click here"
   ]
  },
  {
   "cell_type": "code",
   "execution_count": 20,
   "metadata": {},
   "outputs": [],
   "source": [
    "df = pd.read_csv(\"Data (1).csv\", sep=\",\")## Load the data set in csv format"
   ]
  },
  {
   "cell_type": "code",
   "execution_count": 21,
   "metadata": {},
   "outputs": [
    {
     "data": {
      "text/html": [
       "<div>\n",
       "<style scoped>\n",
       "    .dataframe tbody tr th:only-of-type {\n",
       "        vertical-align: middle;\n",
       "    }\n",
       "\n",
       "    .dataframe tbody tr th {\n",
       "        vertical-align: top;\n",
       "    }\n",
       "\n",
       "    .dataframe thead th {\n",
       "        text-align: right;\n",
       "    }\n",
       "</style>\n",
       "<table border=\"1\" class=\"dataframe\">\n",
       "  <thead>\n",
       "    <tr style=\"text-align: right;\">\n",
       "      <th></th>\n",
       "      <th>year</th>\n",
       "      <th>customer_id</th>\n",
       "      <th>phone_no</th>\n",
       "      <th>gender</th>\n",
       "      <th>age</th>\n",
       "      <th>no_of_days_subscribed</th>\n",
       "      <th>multi_screen</th>\n",
       "      <th>mail_subscribed</th>\n",
       "      <th>weekly_mins_watched</th>\n",
       "      <th>minimum_daily_mins</th>\n",
       "      <th>maximum_daily_mins</th>\n",
       "      <th>weekly_max_night_mins</th>\n",
       "      <th>videos_watched</th>\n",
       "      <th>maximum_days_inactive</th>\n",
       "      <th>customer_support_calls</th>\n",
       "      <th>churn</th>\n",
       "    </tr>\n",
       "  </thead>\n",
       "  <tbody>\n",
       "    <tr>\n",
       "      <th>0</th>\n",
       "      <td>2015</td>\n",
       "      <td>100198</td>\n",
       "      <td>409-8743</td>\n",
       "      <td>Female</td>\n",
       "      <td>36</td>\n",
       "      <td>62.0</td>\n",
       "      <td>no</td>\n",
       "      <td>no</td>\n",
       "      <td>148.35</td>\n",
       "      <td>12.2</td>\n",
       "      <td>16.81</td>\n",
       "      <td>82</td>\n",
       "      <td>1.0</td>\n",
       "      <td>4</td>\n",
       "      <td>1</td>\n",
       "      <td>0.0</td>\n",
       "    </tr>\n",
       "    <tr>\n",
       "      <th>1</th>\n",
       "      <td>2015</td>\n",
       "      <td>100643</td>\n",
       "      <td>340-5930</td>\n",
       "      <td>Female</td>\n",
       "      <td>39</td>\n",
       "      <td>149.0</td>\n",
       "      <td>no</td>\n",
       "      <td>no</td>\n",
       "      <td>294.45</td>\n",
       "      <td>7.7</td>\n",
       "      <td>33.37</td>\n",
       "      <td>87</td>\n",
       "      <td>3.0</td>\n",
       "      <td>3</td>\n",
       "      <td>2</td>\n",
       "      <td>0.0</td>\n",
       "    </tr>\n",
       "    <tr>\n",
       "      <th>2</th>\n",
       "      <td>2015</td>\n",
       "      <td>100756</td>\n",
       "      <td>372-3750</td>\n",
       "      <td>Female</td>\n",
       "      <td>65</td>\n",
       "      <td>126.0</td>\n",
       "      <td>no</td>\n",
       "      <td>no</td>\n",
       "      <td>87.30</td>\n",
       "      <td>11.9</td>\n",
       "      <td>9.89</td>\n",
       "      <td>91</td>\n",
       "      <td>1.0</td>\n",
       "      <td>4</td>\n",
       "      <td>5</td>\n",
       "      <td>1.0</td>\n",
       "    </tr>\n",
       "    <tr>\n",
       "      <th>3</th>\n",
       "      <td>2015</td>\n",
       "      <td>101595</td>\n",
       "      <td>331-4902</td>\n",
       "      <td>Female</td>\n",
       "      <td>24</td>\n",
       "      <td>131.0</td>\n",
       "      <td>no</td>\n",
       "      <td>yes</td>\n",
       "      <td>321.30</td>\n",
       "      <td>9.5</td>\n",
       "      <td>36.41</td>\n",
       "      <td>102</td>\n",
       "      <td>4.0</td>\n",
       "      <td>3</td>\n",
       "      <td>3</td>\n",
       "      <td>0.0</td>\n",
       "    </tr>\n",
       "    <tr>\n",
       "      <th>4</th>\n",
       "      <td>2015</td>\n",
       "      <td>101653</td>\n",
       "      <td>351-8398</td>\n",
       "      <td>Female</td>\n",
       "      <td>40</td>\n",
       "      <td>191.0</td>\n",
       "      <td>no</td>\n",
       "      <td>no</td>\n",
       "      <td>243.00</td>\n",
       "      <td>10.9</td>\n",
       "      <td>27.54</td>\n",
       "      <td>83</td>\n",
       "      <td>7.0</td>\n",
       "      <td>3</td>\n",
       "      <td>1</td>\n",
       "      <td>0.0</td>\n",
       "    </tr>\n",
       "  </tbody>\n",
       "</table>\n",
       "</div>"
      ],
      "text/plain": [
       "   year  customer_id  phone_no  gender  age  no_of_days_subscribed  \\\n",
       "0  2015       100198  409-8743  Female   36                   62.0   \n",
       "1  2015       100643  340-5930  Female   39                  149.0   \n",
       "2  2015       100756  372-3750  Female   65                  126.0   \n",
       "3  2015       101595  331-4902  Female   24                  131.0   \n",
       "4  2015       101653  351-8398  Female   40                  191.0   \n",
       "\n",
       "  multi_screen mail_subscribed  weekly_mins_watched  minimum_daily_mins  \\\n",
       "0           no              no               148.35                12.2   \n",
       "1           no              no               294.45                 7.7   \n",
       "2           no              no                87.30                11.9   \n",
       "3           no             yes               321.30                 9.5   \n",
       "4           no              no               243.00                10.9   \n",
       "\n",
       "   maximum_daily_mins  weekly_max_night_mins  videos_watched  \\\n",
       "0               16.81                     82             1.0   \n",
       "1               33.37                     87             3.0   \n",
       "2                9.89                     91             1.0   \n",
       "3               36.41                    102             4.0   \n",
       "4               27.54                     83             7.0   \n",
       "\n",
       "  maximum_days_inactive  customer_support_calls  churn  \n",
       "0                     4                       1    0.0  \n",
       "1                     3                       2    0.0  \n",
       "2                     4                       5    1.0  \n",
       "3                     3                       3    0.0  \n",
       "4                     3                       1    0.0  "
      ]
     },
     "execution_count": 21,
     "metadata": {},
     "output_type": "execute_result"
    }
   ],
   "source": [
    "df.head()## gives the first 5 rows of the dataset"
   ]
  },
  {
   "cell_type": "code",
   "execution_count": 22,
   "metadata": {},
   "outputs": [
    {
     "name": "stdout",
     "output_type": "stream",
     "text": [
      "<class 'pandas.core.frame.DataFrame'>\n",
      "RangeIndex: 2000 entries, 0 to 1999\n",
      "Data columns (total 16 columns):\n",
      " #   Column                  Non-Null Count  Dtype  \n",
      "---  ------                  --------------  -----  \n",
      " 0   year                    2000 non-null   int64  \n",
      " 1   customer_id             2000 non-null   int64  \n",
      " 2   phone_no                2000 non-null   object \n",
      " 3   gender                  1976 non-null   object \n",
      " 4   age                     2000 non-null   int64  \n",
      " 5   no_of_days_subscribed   1980 non-null   float64\n",
      " 6   multi_screen            2000 non-null   object \n",
      " 7   mail_subscribed         2000 non-null   object \n",
      " 8   weekly_mins_watched     1990 non-null   float64\n",
      " 9   minimum_daily_mins      2000 non-null   float64\n",
      " 10  maximum_daily_mins      2000 non-null   float64\n",
      " 11  weekly_max_night_mins   2000 non-null   int64  \n",
      " 12  videos_watched          1975 non-null   float64\n",
      " 13  maximum_days_inactive   1972 non-null   object \n",
      " 14  customer_support_calls  2000 non-null   int64  \n",
      " 15  churn                   1965 non-null   float64\n",
      "dtypes: float64(6), int64(5), object(5)\n",
      "memory usage: 250.1+ KB\n"
     ]
    }
   ],
   "source": [
    "df.info()### prints information about data like no of columns,memory usage,data type value,column names"
   ]
  },
  {
   "cell_type": "markdown",
   "metadata": {},
   "source": [
    "### Data preprocessing (Exploratory Data Analysis) EDA"
   ]
  },
  {
   "cell_type": "code",
   "execution_count": null,
   "metadata": {},
   "outputs": [],
   "source": [
    "## EDA means giving useful insights of data to understand well,interms of visualizing the data and removing duplicates, missing vales,outliers(odd data point)"
   ]
  },
  {
   "cell_type": "code",
   "execution_count": 23,
   "metadata": {},
   "outputs": [],
   "source": [
    "#### Checking the Different Data Types of Data"
   ]
  },
  {
   "cell_type": "code",
   "execution_count": 24,
   "metadata": {},
   "outputs": [
    {
     "data": {
      "text/plain": [
       "year                        int64\n",
       "customer_id                 int64\n",
       "phone_no                   object\n",
       "gender                     object\n",
       "age                         int64\n",
       "no_of_days_subscribed     float64\n",
       "multi_screen               object\n",
       "mail_subscribed            object\n",
       "weekly_mins_watched       float64\n",
       "minimum_daily_mins        float64\n",
       "maximum_daily_mins        float64\n",
       "weekly_max_night_mins       int64\n",
       "videos_watched            float64\n",
       "maximum_days_inactive      object\n",
       "customer_support_calls      int64\n",
       "churn                     float64\n",
       "dtype: object"
      ]
     },
     "execution_count": 24,
     "metadata": {},
     "output_type": "execute_result"
    }
   ],
   "source": [
    "df.dtypes"
   ]
  },
  {
   "cell_type": "code",
   "execution_count": 25,
   "metadata": {},
   "outputs": [
    {
     "data": {
      "text/plain": [
       "year                       0\n",
       "customer_id                0\n",
       "phone_no                   0\n",
       "gender                    24\n",
       "age                        0\n",
       "no_of_days_subscribed     20\n",
       "multi_screen               0\n",
       "mail_subscribed            0\n",
       "weekly_mins_watched       10\n",
       "minimum_daily_mins         0\n",
       "maximum_daily_mins         0\n",
       "weekly_max_night_mins      0\n",
       "videos_watched            25\n",
       "maximum_days_inactive     28\n",
       "customer_support_calls     0\n",
       "churn                     35\n",
       "dtype: int64"
      ]
     },
     "execution_count": 25,
     "metadata": {},
     "output_type": "execute_result"
    }
   ],
   "source": [
    "####gives the Missing Values in the data\n",
    "df.isnull().sum()"
   ]
  },
  {
   "cell_type": "code",
   "execution_count": 26,
   "metadata": {},
   "outputs": [
    {
     "data": {
      "text/plain": [
       "142"
      ]
     },
     "execution_count": 26,
     "metadata": {},
     "output_type": "execute_result"
    }
   ],
   "source": [
    "#Total Number of Missing Values in the data--->142\n",
    "df.isnull().sum().sum() "
   ]
  },
  {
   "cell_type": "code",
   "execution_count": 27,
   "metadata": {},
   "outputs": [
    {
     "data": {
      "text/plain": [
       "(2000, 16)"
      ]
     },
     "execution_count": 27,
     "metadata": {},
     "output_type": "execute_result"
    }
   ],
   "source": [
    "df.shape ## size of the data set interms of rows and columns"
   ]
  },
  {
   "cell_type": "code",
   "execution_count": 28,
   "metadata": {},
   "outputs": [],
   "source": [
    "df1 = df.copy()### making the copy of the dataset and storing the df1"
   ]
  },
  {
   "cell_type": "code",
   "execution_count": 29,
   "metadata": {},
   "outputs": [
    {
     "data": {
      "text/plain": [
       "(2000, 16)"
      ]
     },
     "execution_count": 29,
     "metadata": {},
     "output_type": "execute_result"
    }
   ],
   "source": [
    "df1.shape"
   ]
  },
  {
   "cell_type": "markdown",
   "metadata": {},
   "source": [
    "#### Dropping Missing Values from Dataset"
   ]
  },
  {
   "cell_type": "code",
   "execution_count": 30,
   "metadata": {},
   "outputs": [
    {
     "data": {
      "text/plain": [
       "(1866, 16)"
      ]
     },
     "execution_count": 30,
     "metadata": {},
     "output_type": "execute_result"
    }
   ],
   "source": [
    "df1=df1.dropna()##Dropping rows/columns which contain null values(NaN, junk values)\n",
    "df1.shape  ## Here Rows size reduced in the data"
   ]
  },
  {
   "cell_type": "code",
   "execution_count": 31,
   "metadata": {},
   "outputs": [
    {
     "data": {
      "text/plain": [
       "Male      991\n",
       "Female    866\n",
       "1           4\n",
       "0           3\n",
       "9           1\n",
       "4           1\n",
       "Name: gender, dtype: int64"
      ]
     },
     "execution_count": 31,
     "metadata": {},
     "output_type": "execute_result"
    }
   ],
   "source": [
    "df1['gender'].value_counts()## gives the unique count of \"gender\" column name"
   ]
  },
  {
   "cell_type": "markdown",
   "metadata": {},
   "source": [
    "\n",
    "### Data Preprocessing is a method in which we are preparing raw data in to more understandable way"
   ]
  },
  {
   "cell_type": "code",
   "execution_count": 33,
   "metadata": {},
   "outputs": [],
   "source": [
    "df1['gender']=df1['gender'].replace('0', 'Female') ###To increase the \"female\" count in the data, so we have replsced column names 1,0,9,4 in to female gender type\n",
    "df1['gender']=df1['gender'].replace('1', 'Female')"
   ]
  },
  {
   "cell_type": "code",
   "execution_count": 34,
   "metadata": {},
   "outputs": [],
   "source": [
    "df1['gender']=df1['gender'].replace('4', 'Female')\n",
    "df1['gender']=df1['gender'].replace('9', 'Female')"
   ]
  },
  {
   "cell_type": "code",
   "execution_count": 35,
   "metadata": {},
   "outputs": [
    {
     "data": {
      "text/plain": [
       "Male      991\n",
       "Female    875\n",
       "Name: gender, dtype: int64"
      ]
     },
     "execution_count": 35,
     "metadata": {},
     "output_type": "execute_result"
    }
   ],
   "source": [
    "df1['gender'].value_counts()### so, here we have increased the female count"
   ]
  },
  {
   "cell_type": "code",
   "execution_count": 37,
   "metadata": {},
   "outputs": [],
   "source": [
    "df1['gender']= df1['gender'].map({'Male':0, 'Female':1})  ### Using Map function converts or transforms  the 0's to Male and 1's to Female"
   ]
  },
  {
   "cell_type": "code",
   "execution_count": 38,
   "metadata": {},
   "outputs": [
    {
     "data": {
      "text/plain": [
       "0    991\n",
       "1    875\n",
       "Name: gender, dtype: int64"
      ]
     },
     "execution_count": 38,
     "metadata": {},
     "output_type": "execute_result"
    }
   ],
   "source": [
    "df1['gender'].value_counts() ##  gives the count of \"Male\" as 991 and \"Female\" as 875"
   ]
  },
  {
   "cell_type": "code",
   "execution_count": 40,
   "metadata": {},
   "outputs": [
    {
     "data": {
      "text/plain": [
       "year                        int64\n",
       "customer_id                 int64\n",
       "phone_no                   object\n",
       "gender                      int64\n",
       "age                         int64\n",
       "no_of_days_subscribed     float64\n",
       "multi_screen               object\n",
       "mail_subscribed            object\n",
       "weekly_mins_watched       float64\n",
       "minimum_daily_mins        float64\n",
       "maximum_daily_mins        float64\n",
       "weekly_max_night_mins       int64\n",
       "videos_watched            float64\n",
       "maximum_days_inactive      object\n",
       "customer_support_calls      int64\n",
       "churn                     float64\n",
       "dtype: object"
      ]
     },
     "execution_count": 40,
     "metadata": {},
     "output_type": "execute_result"
    }
   ],
   "source": [
    "df1.dtypes"
   ]
  },
  {
   "cell_type": "markdown",
   "metadata": {},
   "source": [
    "#### EDA"
   ]
  },
  {
   "cell_type": "code",
   "execution_count": 42,
   "metadata": {},
   "outputs": [
    {
     "data": {
      "text/plain": [
       "<AxesSubplot:xlabel='churn', ylabel='count'>"
      ]
     },
     "execution_count": 42,
     "metadata": {},
     "output_type": "execute_result"
    },
    {
     "data": {
      "image/png": "[encoded data removed]",
      "text/plain": [
       "<Figure size 432x288 with 1 Axes>"
      ]
     },
     "metadata": {
      "needs_background": "light"
     },
     "output_type": "display_data"
    }
   ],
   "source": [
    "#### Distribution of counts of variable \"Churn\" using bar representation(2D)\n",
    "### Here, 0 indicates \"no churn\", 1 indicates \"Churn\"\n",
    "\n",
    "sns.countplot(x = 'churn', data = df1)"
   ]
  },
  {
   "cell_type": "code",
   "execution_count": 43,
   "metadata": {},
   "outputs": [
    {
     "data": {
      "text/plain": [
       "0.0    0.866559\n",
       "1.0    0.133441\n",
       "Name: churn, dtype: float64"
      ]
     },
     "execution_count": 43,
     "metadata": {},
     "output_type": "execute_result"
    }
   ],
   "source": [
    "df1['churn'].value_counts(normalize = True) ## gives the \"churn\" variable count of 0's as 86% and 1's as 13% (percentage Format)"
   ]
  },
  {
   "cell_type": "markdown",
   "metadata": {},
   "source": [
    "#### Our Class variable(churn) is Imbalanced here with 86% of data is 0(no churn) and rest is with 1(churn). We need to balance it moving further Analysis."
   ]
  },
  {
   "cell_type": "code",
   "execution_count": 45,
   "metadata": {},
   "outputs": [
    {
     "data": {
      "text/plain": [
       "<AxesSubplot:xlabel='gender', ylabel='count'>"
      ]
     },
     "execution_count": 45,
     "metadata": {},
     "output_type": "execute_result"
    },
    {
     "data": {
      "image/png": "[encoded data removed]",
      "text/plain": [
       "<Figure size 432x288 with 1 Axes>"
      ]
     },
     "metadata": {
      "needs_background": "light"
     },
     "output_type": "display_data"
    }
   ],
   "source": [
    "sns.countplot(x = 'gender', data = df1)  ### \"gender\" variable Male- 0 and Female- 1"
   ]
  },
  {
   "cell_type": "code",
   "execution_count": 46,
   "metadata": {},
   "outputs": [
    {
     "data": {
      "text/plain": [
       "0    0.531083\n",
       "1    0.468917\n",
       "Name: gender, dtype: float64"
      ]
     },
     "execution_count": 46,
     "metadata": {},
     "output_type": "execute_result"
    }
   ],
   "source": [
    "df1['gender'].value_counts()/len(df1)## To denote \"gender\" in percentage Male- 0 and Female- 1"
   ]
  },
  {
   "cell_type": "markdown",
   "metadata": {},
   "source": [
    "#### Around 53.6% of customers were Male while 46.4% were female"
   ]
  },
  {
   "cell_type": "code",
   "execution_count": 47,
   "metadata": {},
   "outputs": [
    {
     "data": {
      "text/plain": [
       "<AxesSubplot:xlabel='multi_screen', ylabel='count'>"
      ]
     },
     "execution_count": 47,
     "metadata": {},
     "output_type": "execute_result"
    },
    {
     "data": {
      "image/png": "[encoded data removed]",
      "text/plain": [
       "<Figure size 432x288 with 1 Axes>"
      ]
     },
     "metadata": {
      "needs_background": "light"
     },
     "output_type": "display_data"
    }
   ],
   "source": [
    "sns.countplot(x = 'multi_screen', data = df1) ## customer who choose \"multi_screen\" as Yes / No"
   ]
  },
  {
   "cell_type": "code",
   "execution_count": 48,
   "metadata": {},
   "outputs": [
    {
     "data": {
      "text/plain": [
       "no     89.817792\n",
       "yes    10.182208\n",
       "Name: multi_screen, dtype: float64"
      ]
     },
     "execution_count": 48,
     "metadata": {},
     "output_type": "execute_result"
    }
   ],
   "source": [
    "df1['multi_screen'].value_counts()/len(df1)*100  ## Multiscreen in Yes as 10% No as 89% in percentage"
   ]
  },
  {
   "cell_type": "markdown",
   "metadata": {},
   "source": [
    "#### Only 10% of the customer have Multi_Screen Subscription and rest of them have Single Screen Subscription\n",
    "#### Probably, the charge for Single Screen is less compared to multi_screen. So, most of the customers opted for Single_Screen Subscription."
   ]
  },
  {
   "cell_type": "markdown",
   "metadata": {},
   "source": [
    "#### Mail_Subscribed"
   ]
  },
  {
   "cell_type": "code",
   "execution_count": 49,
   "metadata": {},
   "outputs": [
    {
     "data": {
      "text/plain": [
       "<AxesSubplot:xlabel='mail_subscribed', ylabel='count'>"
      ]
     },
     "execution_count": 49,
     "metadata": {},
     "output_type": "execute_result"
    },
    {
     "data": {
      "image/png": "[encoded data removed]",
      "text/plain": [
       "<Figure size 432x288 with 1 Axes>"
      ]
     },
     "metadata": {
      "needs_background": "light"
     },
     "output_type": "display_data"
    }
   ],
   "source": [
    "sns.countplot(x = 'mail_subscribed', data = df1)##classifying the count  \"Mail_Subscribed\" Yes or No"
   ]
  },
  {
   "cell_type": "code",
   "execution_count": 50,
   "metadata": {},
   "outputs": [],
   "source": [
    "df1['mail_subscribed']=df1['mail_subscribed'].replace('36.64', 'yes')  ### Replacing the above count plot \"Mail_Subscribed\" X-axis values\n",
    "df1['mail_subscribed']=df1['mail_subscribed'].replace('53.48', 'yes')  ### as Yes \n",
    "df1['mail_subscribed']=df1['mail_subscribed'].replace('21.88', 'yes')\n",
    "df1['mail_subscribed']=df1['mail_subscribed'].replace('32.78', 'yes')"
   ]
  },
  {
   "cell_type": "code",
   "execution_count": 51,
   "metadata": {},
   "outputs": [
    {
     "data": {
      "text/plain": [
       "no     71.221865\n",
       "yes    28.778135\n",
       "Name: mail_subscribed, dtype: float64"
      ]
     },
     "execution_count": 51,
     "metadata": {},
     "output_type": "execute_result"
    }
   ],
   "source": [
    "df1['mail_subscribed'].value_counts()/len(df1)*100   ### Percentage of mail_subscribed Yes as 28% only and No as 71%"
   ]
  },
  {
   "cell_type": "code",
   "execution_count": 52,
   "metadata": {},
   "outputs": [
    {
     "data": {
      "text/plain": [
       "<AxesSubplot:xlabel='mail_subscribed', ylabel='count'>"
      ]
     },
     "execution_count": 52,
     "metadata": {},
     "output_type": "execute_result"
    },
    {
     "data": {
      "image/png": "[encoded data removed]",
      "text/plain": [
       "<Figure size 432x288 with 1 Axes>"
      ]
     },
     "metadata": {
      "needs_background": "light"
     },
     "output_type": "display_data"
    }
   ],
   "source": [
    "sns.countplot(x = 'mail_subscribed', data = df1)"
   ]
  },
  {
   "cell_type": "markdown",
   "metadata": {},
   "source": [
    "#### Around 72% of customers haven't opted for Mail Subscription. Nowadays, most of the services asks for Mail Subscription"
   ]
  },
  {
   "cell_type": "markdown",
   "metadata": {},
   "source": [
    "#### Maximum_Days_Inactive"
   ]
  },
  {
   "cell_type": "code",
   "execution_count": 53,
   "metadata": {},
   "outputs": [
    {
     "data": {
      "text/plain": [
       "<AxesSubplot:xlabel='maximum_days_inactive', ylabel='count'>"
      ]
     },
     "execution_count": 53,
     "metadata": {},
     "output_type": "execute_result"
    },
    {
     "data": {
      "image/png": "[encoded data removed]",
      "text/plain": [
       "<Figure size 432x288 with 1 Axes>"
      ]
     },
     "metadata": {
      "needs_background": "light"
     },
     "output_type": "display_data"
    }
   ],
   "source": [
    "sns.countplot(x = 'maximum_days_inactive', data = df1)  ### For maximum 3 days Mostly Customers are Inactive"
   ]
  },
  {
   "cell_type": "code",
   "execution_count": 54,
   "metadata": {},
   "outputs": [
    {
     "data": {
      "text/plain": [
       "3     895\n",
       "4     610\n",
       "2     257\n",
       "5      81\n",
       "1      11\n",
       "0       9\n",
       "6       2\n",
       "NO      1\n",
       "Name: maximum_days_inactive, dtype: int64"
      ]
     },
     "execution_count": 54,
     "metadata": {},
     "output_type": "execute_result"
    }
   ],
   "source": [
    "df1['maximum_days_inactive'].value_counts()"
   ]
  },
  {
   "cell_type": "markdown",
   "metadata": {},
   "source": [
    "#### Here, one of the value is \"NO\". Replacing it with 0 to avoid further errors"
   ]
  },
  {
   "cell_type": "code",
   "execution_count": 55,
   "metadata": {},
   "outputs": [],
   "source": [
    "df1['maximum_days_inactive']=df1['maximum_days_inactive'].replace(\"NO\", '0')"
   ]
  },
  {
   "cell_type": "code",
   "execution_count": 56,
   "metadata": {},
   "outputs": [
    {
     "data": {
      "text/plain": [
       "<AxesSubplot:xlabel='maximum_days_inactive', ylabel='count'>"
      ]
     },
     "execution_count": 56,
     "metadata": {},
     "output_type": "execute_result"
    },
    {
     "data": {
      "image/png": "[encoded data removed]",
      "text/plain": [
       "<Figure size 432x288 with 1 Axes>"
      ]
     },
     "metadata": {
      "needs_background": "light"
     },
     "output_type": "display_data"
    }
   ],
   "source": [
    "sns.countplot(x = 'maximum_days_inactive', data = df1)"
   ]
  },
  {
   "cell_type": "markdown",
   "metadata": {},
   "source": [
    "#### The Maximum Number of Inactive Days are 3 with 945 Customers followed by 4 days with 644 Customers"
   ]
  },
  {
   "cell_type": "markdown",
   "metadata": {},
   "source": [
    "#### Visualization with respective to Churn"
   ]
  },
  {
   "cell_type": "code",
   "execution_count": 57,
   "metadata": {},
   "outputs": [
    {
     "data": {
      "text/plain": [
       "<AxesSubplot:xlabel='maximum_days_inactive', ylabel='count'>"
      ]
     },
     "execution_count": 57,
     "metadata": {},
     "output_type": "execute_result"
    },
    {
     "data": {
      "image/png": "[encoded data removed]",
      "text/plain": [
       "<Figure size 1440x864 with 4 Axes>"
      ]
     },
     "metadata": {
      "needs_background": "light"
     },
     "output_type": "display_data"
    }
   ],
   "source": [
    "fig, axarr = plt.subplots(2, 2, figsize=(20, 12))\n",
    "sns.countplot(x='gender', hue = 'churn',data = df1, ax=axarr[0][0])### Gender vs Churn count\n",
    "sns.countplot(x='multi_screen', hue = 'churn',data = df1, ax=axarr[0][1]) ### Multiscreen vs Churn count\n",
    "sns.countplot(x='mail_subscribed', hue = 'churn',data = df1, ax=axarr[1][0])#### Mailsubscribed vs Churn count\n",
    "sns.countplot(x='maximum_days_inactive', hue = 'churn',data = df1, ax=axarr[1][1])####maximum days inactive vs churn count"
   ]
  },
  {
   "cell_type": "code",
   "execution_count": 58,
   "metadata": {},
   "outputs": [
    {
     "data": {
      "text/plain": [
       "gender  churn\n",
       "0       0.0      861\n",
       "        1.0      130\n",
       "1       0.0      756\n",
       "        1.0      119\n",
       "Name: churn, dtype: int64"
      ]
     },
     "execution_count": 58,
     "metadata": {},
     "output_type": "execute_result"
    }
   ],
   "source": [
    "df1.groupby(['gender'])['churn'].value_counts() #Gender Vs Churn"
   ]
  },
  {
   "cell_type": "code",
   "execution_count": 59,
   "metadata": {},
   "outputs": [
    {
     "data": {
      "text/plain": [
       "multi_screen  churn\n",
       "no            0.0      1504\n",
       "              1.0       172\n",
       "yes           0.0       113\n",
       "              1.0        77\n",
       "Name: churn, dtype: int64"
      ]
     },
     "execution_count": 59,
     "metadata": {},
     "output_type": "execute_result"
    }
   ],
   "source": [
    "df1.groupby(['multi_screen'])['churn'].value_counts() #multi_screen Vs Churn"
   ]
  },
  {
   "cell_type": "code",
   "execution_count": 60,
   "metadata": {},
   "outputs": [
    {
     "data": {
      "text/plain": [
       "mail_subscribed  churn\n",
       "no               0.0      1131\n",
       "                 1.0       198\n",
       "yes              0.0       486\n",
       "                 1.0        51\n",
       "Name: churn, dtype: int64"
      ]
     },
     "execution_count": 60,
     "metadata": {},
     "output_type": "execute_result"
    }
   ],
   "source": [
    "df1.groupby(['mail_subscribed'])['churn'].value_counts() #mail_Subscribed Vs Churn"
   ]
  },
  {
   "cell_type": "markdown",
   "metadata": {},
   "source": [
    "#### Insights form the EDA Plots\n",
    "#### From Plot 1, we can say that both male & female customers are almost equally churned\n",
    "#### From Plot 2, Customers with no Multi_Screen (single screen) have more churned customers rather than with multi_screen\n",
    "#### From Plot 3,\n",
    "#### a. Customers with no mail_subscribed have more churned customers than with mail subscription.\n",
    "#### b. Having Mail Subscription & Sending Mails can lead to more way of advertising to customers and make them use its service.\n",
    "#### c. These days many of the services have mandatory mail subscription.\n",
    "#### From plot 4, Customers with maximum_days_inactive (3)days have higher churn customers followed by 4 days."
   ]
  },
  {
   "cell_type": "markdown",
   "metadata": {},
   "source": [
    "#### Pie Chart for Churn"
   ]
  },
  {
   "cell_type": "code",
   "execution_count": 62,
   "metadata": {},
   "outputs": [
    {
     "data": {
      "image/png": "[encoded data removed]",
      "text/plain": [
       "<Figure size 720x576 with 1 Axes>"
      ]
     },
     "metadata": {},
     "output_type": "display_data"
    }
   ],
   "source": [
    "labels = '0', '1' # 0--->No Churn, 1----> Churn\n",
    "sizes = [df1.churn[df1['churn']==0].count(), df1.churn[df1['churn']==1].count()]\n",
    "explode = (0, 0.1)\n",
    "fig1, ax1 = plt.subplots(figsize=(10, 8))\n",
    "ax1.pie(sizes, explode=explode, labels=labels, autopct='%1.1f%%',\n",
    "        shadow=True, startangle=90)\n",
    "ax1.axis('equal')\n",
    "plt.title(\"Proportion of customer churned and not churned\", size = 20)\n",
    "plt.show()"
   ]
  },
  {
   "cell_type": "markdown",
   "metadata": {},
   "source": [
    "#### From above pie chart, we can say that 86.7%(0) of customers are of no churn while rest are churned customers.\n",
    "\n",
    "#### Total No. of Customer Support Calls"
   ]
  },
  {
   "cell_type": "code",
   "execution_count": 64,
   "metadata": {},
   "outputs": [
    {
     "data": {
      "text/plain": [
       "2885"
      ]
     },
     "execution_count": 64,
     "metadata": {},
     "output_type": "execute_result"
    }
   ],
   "source": [
    "df1['customer_support_calls'].sum() #2885 Calls received by Customer Care from all the customers"
   ]
  },
  {
   "cell_type": "markdown",
   "metadata": {},
   "source": [
    "#### Videos Watched"
   ]
  },
  {
   "cell_type": "code",
   "execution_count": 65,
   "metadata": {},
   "outputs": [
    {
     "data": {
      "text/plain": [
       "8375.0"
      ]
     },
     "execution_count": 65,
     "metadata": {},
     "output_type": "execute_result"
    }
   ],
   "source": [
    "df1['videos_watched'].sum() #Total Number of Videos Watched by Customers"
   ]
  },
  {
   "cell_type": "markdown",
   "metadata": {},
   "source": [
    "#### Gender V/S Multi Screen Subscription"
   ]
  },
  {
   "cell_type": "code",
   "execution_count": 69,
   "metadata": {},
   "outputs": [
    {
     "data": {
      "text/plain": [
       "gender  multi_screen\n",
       "0       no              886\n",
       "        yes             105\n",
       "1       no              790\n",
       "        yes              85\n",
       "Name: multi_screen, dtype: int64"
      ]
     },
     "execution_count": 69,
     "metadata": {},
     "output_type": "execute_result"
    }
   ],
   "source": [
    "df1.groupby(['gender'])['multi_screen'].value_counts()"
   ]
  },
  {
   "cell_type": "markdown",
   "metadata": {},
   "source": [
    "#### We can say that, only 105 male customers & 85 Female customers have opted for Multi_screen. Rest all have Single Screen Subscription"
   ]
  },
  {
   "cell_type": "code",
   "execution_count": 67,
   "metadata": {},
   "outputs": [
    {
     "data": {
      "text/plain": [
       "no     89.817792\n",
       "yes    10.182208\n",
       "Name: multi_screen, dtype: float64"
      ]
     },
     "execution_count": 67,
     "metadata": {},
     "output_type": "execute_result"
    }
   ],
   "source": [
    "df1['multi_screen'].value_counts()/len(df1)*100"
   ]
  },
  {
   "cell_type": "markdown",
   "metadata": {},
   "source": [
    "#### Gender Vs Customer Support Calls"
   ]
  },
  {
   "cell_type": "code",
   "execution_count": 70,
   "metadata": {},
   "outputs": [
    {
     "data": {
      "text/plain": [
       "gender\n",
       "0    1549\n",
       "1    1336\n",
       "Name: customer_support_calls, dtype: int64"
      ]
     },
     "execution_count": 70,
     "metadata": {},
     "output_type": "execute_result"
    }
   ],
   "source": [
    "df1.groupby(['gender'])['customer_support_calls'].sum()"
   ]
  },
  {
   "cell_type": "markdown",
   "metadata": {},
   "source": [
    "#### Male Customers have more Customer_support_calls compared to Female Customers"
   ]
  },
  {
   "cell_type": "code",
   "execution_count": 71,
   "metadata": {},
   "outputs": [],
   "source": [
    "df1['multi_screen']= df1['multi_screen'].replace(\"no\", \"0\") # MutiScreen \"NO\"---> 0\n",
    "df1['multi_screen']= df1['multi_screen'].replace(\"yes\", \"1\") # MutiScreen \"yes\"---> 1\n",
    "\n",
    "####\n",
    "\n",
    "df1['mail_subscribed']=df1['mail_subscribed'].replace(\"no\", \"0\") # Mail Subscribed \"no\"---> 0\n",
    "df1['mail_subscribed']=df1['mail_subscribed'].replace(\"yes\", \"1\") # Mail Subscribed \"yes\"--->1"
   ]
  },
  {
   "cell_type": "code",
   "execution_count": 72,
   "metadata": {},
   "outputs": [
    {
     "data": {
      "text/html": [
       "<div>\n",
       "<style scoped>\n",
       "    .dataframe tbody tr th:only-of-type {\n",
       "        vertical-align: middle;\n",
       "    }\n",
       "\n",
       "    .dataframe tbody tr th {\n",
       "        vertical-align: top;\n",
       "    }\n",
       "\n",
       "    .dataframe thead th {\n",
       "        text-align: right;\n",
       "    }\n",
       "</style>\n",
       "<table border=\"1\" class=\"dataframe\">\n",
       "  <thead>\n",
       "    <tr style=\"text-align: right;\">\n",
       "      <th></th>\n",
       "      <th>year</th>\n",
       "      <th>customer_id</th>\n",
       "      <th>phone_no</th>\n",
       "      <th>gender</th>\n",
       "      <th>age</th>\n",
       "      <th>no_of_days_subscribed</th>\n",
       "      <th>multi_screen</th>\n",
       "      <th>mail_subscribed</th>\n",
       "      <th>weekly_mins_watched</th>\n",
       "      <th>minimum_daily_mins</th>\n",
       "      <th>maximum_daily_mins</th>\n",
       "      <th>weekly_max_night_mins</th>\n",
       "      <th>videos_watched</th>\n",
       "      <th>maximum_days_inactive</th>\n",
       "      <th>customer_support_calls</th>\n",
       "      <th>churn</th>\n",
       "    </tr>\n",
       "  </thead>\n",
       "  <tbody>\n",
       "    <tr>\n",
       "      <th>0</th>\n",
       "      <td>2015</td>\n",
       "      <td>100198</td>\n",
       "      <td>409-8743</td>\n",
       "      <td>1</td>\n",
       "      <td>36</td>\n",
       "      <td>62.0</td>\n",
       "      <td>0</td>\n",
       "      <td>0</td>\n",
       "      <td>148.35</td>\n",
       "      <td>12.2</td>\n",
       "      <td>16.81</td>\n",
       "      <td>82</td>\n",
       "      <td>1.0</td>\n",
       "      <td>4</td>\n",
       "      <td>1</td>\n",
       "      <td>0.0</td>\n",
       "    </tr>\n",
       "    <tr>\n",
       "      <th>1</th>\n",
       "      <td>2015</td>\n",
       "      <td>100643</td>\n",
       "      <td>340-5930</td>\n",
       "      <td>1</td>\n",
       "      <td>39</td>\n",
       "      <td>149.0</td>\n",
       "      <td>0</td>\n",
       "      <td>0</td>\n",
       "      <td>294.45</td>\n",
       "      <td>7.7</td>\n",
       "      <td>33.37</td>\n",
       "      <td>87</td>\n",
       "      <td>3.0</td>\n",
       "      <td>3</td>\n",
       "      <td>2</td>\n",
       "      <td>0.0</td>\n",
       "    </tr>\n",
       "    <tr>\n",
       "      <th>2</th>\n",
       "      <td>2015</td>\n",
       "      <td>100756</td>\n",
       "      <td>372-3750</td>\n",
       "      <td>1</td>\n",
       "      <td>65</td>\n",
       "      <td>126.0</td>\n",
       "      <td>0</td>\n",
       "      <td>0</td>\n",
       "      <td>87.30</td>\n",
       "      <td>11.9</td>\n",
       "      <td>9.89</td>\n",
       "      <td>91</td>\n",
       "      <td>1.0</td>\n",
       "      <td>4</td>\n",
       "      <td>5</td>\n",
       "      <td>1.0</td>\n",
       "    </tr>\n",
       "    <tr>\n",
       "      <th>3</th>\n",
       "      <td>2015</td>\n",
       "      <td>101595</td>\n",
       "      <td>331-4902</td>\n",
       "      <td>1</td>\n",
       "      <td>24</td>\n",
       "      <td>131.0</td>\n",
       "      <td>0</td>\n",
       "      <td>1</td>\n",
       "      <td>321.30</td>\n",
       "      <td>9.5</td>\n",
       "      <td>36.41</td>\n",
       "      <td>102</td>\n",
       "      <td>4.0</td>\n",
       "      <td>3</td>\n",
       "      <td>3</td>\n",
       "      <td>0.0</td>\n",
       "    </tr>\n",
       "    <tr>\n",
       "      <th>4</th>\n",
       "      <td>2015</td>\n",
       "      <td>101653</td>\n",
       "      <td>351-8398</td>\n",
       "      <td>1</td>\n",
       "      <td>40</td>\n",
       "      <td>191.0</td>\n",
       "      <td>0</td>\n",
       "      <td>0</td>\n",
       "      <td>243.00</td>\n",
       "      <td>10.9</td>\n",
       "      <td>27.54</td>\n",
       "      <td>83</td>\n",
       "      <td>7.0</td>\n",
       "      <td>3</td>\n",
       "      <td>1</td>\n",
       "      <td>0.0</td>\n",
       "    </tr>\n",
       "  </tbody>\n",
       "</table>\n",
       "</div>"
      ],
      "text/plain": [
       "   year  customer_id  phone_no  gender  age  no_of_days_subscribed  \\\n",
       "0  2015       100198  409-8743       1   36                   62.0   \n",
       "1  2015       100643  340-5930       1   39                  149.0   \n",
       "2  2015       100756  372-3750       1   65                  126.0   \n",
       "3  2015       101595  331-4902       1   24                  131.0   \n",
       "4  2015       101653  351-8398       1   40                  191.0   \n",
       "\n",
       "  multi_screen mail_subscribed  weekly_mins_watched  minimum_daily_mins  \\\n",
       "0            0               0               148.35                12.2   \n",
       "1            0               0               294.45                 7.7   \n",
       "2            0               0                87.30                11.9   \n",
       "3            0               1               321.30                 9.5   \n",
       "4            0               0               243.00                10.9   \n",
       "\n",
       "   maximum_daily_mins  weekly_max_night_mins  videos_watched  \\\n",
       "0               16.81                     82             1.0   \n",
       "1               33.37                     87             3.0   \n",
       "2                9.89                     91             1.0   \n",
       "3               36.41                    102             4.0   \n",
       "4               27.54                     83             7.0   \n",
       "\n",
       "  maximum_days_inactive  customer_support_calls  churn  \n",
       "0                     4                       1    0.0  \n",
       "1                     3                       2    0.0  \n",
       "2                     4                       5    1.0  \n",
       "3                     3                       3    0.0  \n",
       "4                     3                       1    0.0  "
      ]
     },
     "execution_count": 72,
     "metadata": {},
     "output_type": "execute_result"
    }
   ],
   "source": [
    "df1.head()"
   ]
  },
  {
   "cell_type": "code",
   "execution_count": 73,
   "metadata": {},
   "outputs": [],
   "source": [
    "# After Filling Missing Values, Pre-Processing data and EDA on few of the columns. Our Dataset is ready for model building process"
   ]
  },
  {
   "cell_type": "code",
   "execution_count": 74,
   "metadata": {},
   "outputs": [],
   "source": [
    "df1 = df1.drop(['customer_id', 'phone_no', 'year'], axis = 1)"
   ]
  },
  {
   "cell_type": "code",
   "execution_count": 75,
   "metadata": {},
   "outputs": [
    {
     "data": {
      "text/html": [
       "<div>\n",
       "<style scoped>\n",
       "    .dataframe tbody tr th:only-of-type {\n",
       "        vertical-align: middle;\n",
       "    }\n",
       "\n",
       "    .dataframe tbody tr th {\n",
       "        vertical-align: top;\n",
       "    }\n",
       "\n",
       "    .dataframe thead th {\n",
       "        text-align: right;\n",
       "    }\n",
       "</style>\n",
       "<table border=\"1\" class=\"dataframe\">\n",
       "  <thead>\n",
       "    <tr style=\"text-align: right;\">\n",
       "      <th></th>\n",
       "      <th>gender</th>\n",
       "      <th>age</th>\n",
       "      <th>no_of_days_subscribed</th>\n",
       "      <th>multi_screen</th>\n",
       "      <th>mail_subscribed</th>\n",
       "      <th>weekly_mins_watched</th>\n",
       "      <th>minimum_daily_mins</th>\n",
       "      <th>maximum_daily_mins</th>\n",
       "      <th>weekly_max_night_mins</th>\n",
       "      <th>videos_watched</th>\n",
       "      <th>maximum_days_inactive</th>\n",
       "      <th>customer_support_calls</th>\n",
       "      <th>churn</th>\n",
       "    </tr>\n",
       "  </thead>\n",
       "  <tbody>\n",
       "    <tr>\n",
       "      <th>0</th>\n",
       "      <td>1</td>\n",
       "      <td>36</td>\n",
       "      <td>62.0</td>\n",
       "      <td>0</td>\n",
       "      <td>0</td>\n",
       "      <td>148.35</td>\n",
       "      <td>12.2</td>\n",
       "      <td>16.81</td>\n",
       "      <td>82</td>\n",
       "      <td>1.0</td>\n",
       "      <td>4</td>\n",
       "      <td>1</td>\n",
       "      <td>0.0</td>\n",
       "    </tr>\n",
       "    <tr>\n",
       "      <th>1</th>\n",
       "      <td>1</td>\n",
       "      <td>39</td>\n",
       "      <td>149.0</td>\n",
       "      <td>0</td>\n",
       "      <td>0</td>\n",
       "      <td>294.45</td>\n",
       "      <td>7.7</td>\n",
       "      <td>33.37</td>\n",
       "      <td>87</td>\n",
       "      <td>3.0</td>\n",
       "      <td>3</td>\n",
       "      <td>2</td>\n",
       "      <td>0.0</td>\n",
       "    </tr>\n",
       "    <tr>\n",
       "      <th>2</th>\n",
       "      <td>1</td>\n",
       "      <td>65</td>\n",
       "      <td>126.0</td>\n",
       "      <td>0</td>\n",
       "      <td>0</td>\n",
       "      <td>87.30</td>\n",
       "      <td>11.9</td>\n",
       "      <td>9.89</td>\n",
       "      <td>91</td>\n",
       "      <td>1.0</td>\n",
       "      <td>4</td>\n",
       "      <td>5</td>\n",
       "      <td>1.0</td>\n",
       "    </tr>\n",
       "    <tr>\n",
       "      <th>3</th>\n",
       "      <td>1</td>\n",
       "      <td>24</td>\n",
       "      <td>131.0</td>\n",
       "      <td>0</td>\n",
       "      <td>1</td>\n",
       "      <td>321.30</td>\n",
       "      <td>9.5</td>\n",
       "      <td>36.41</td>\n",
       "      <td>102</td>\n",
       "      <td>4.0</td>\n",
       "      <td>3</td>\n",
       "      <td>3</td>\n",
       "      <td>0.0</td>\n",
       "    </tr>\n",
       "    <tr>\n",
       "      <th>4</th>\n",
       "      <td>1</td>\n",
       "      <td>40</td>\n",
       "      <td>191.0</td>\n",
       "      <td>0</td>\n",
       "      <td>0</td>\n",
       "      <td>243.00</td>\n",
       "      <td>10.9</td>\n",
       "      <td>27.54</td>\n",
       "      <td>83</td>\n",
       "      <td>7.0</td>\n",
       "      <td>3</td>\n",
       "      <td>1</td>\n",
       "      <td>0.0</td>\n",
       "    </tr>\n",
       "  </tbody>\n",
       "</table>\n",
       "</div>"
      ],
      "text/plain": [
       "   gender  age  no_of_days_subscribed multi_screen mail_subscribed  \\\n",
       "0       1   36                   62.0            0               0   \n",
       "1       1   39                  149.0            0               0   \n",
       "2       1   65                  126.0            0               0   \n",
       "3       1   24                  131.0            0               1   \n",
       "4       1   40                  191.0            0               0   \n",
       "\n",
       "   weekly_mins_watched  minimum_daily_mins  maximum_daily_mins  \\\n",
       "0               148.35                12.2               16.81   \n",
       "1               294.45                 7.7               33.37   \n",
       "2                87.30                11.9                9.89   \n",
       "3               321.30                 9.5               36.41   \n",
       "4               243.00                10.9               27.54   \n",
       "\n",
       "   weekly_max_night_mins  videos_watched maximum_days_inactive  \\\n",
       "0                     82             1.0                     4   \n",
       "1                     87             3.0                     3   \n",
       "2                     91             1.0                     4   \n",
       "3                    102             4.0                     3   \n",
       "4                     83             7.0                     3   \n",
       "\n",
       "   customer_support_calls  churn  \n",
       "0                       1    0.0  \n",
       "1                       2    0.0  \n",
       "2                       5    1.0  \n",
       "3                       3    0.0  \n",
       "4                       1    0.0  "
      ]
     },
     "execution_count": 75,
     "metadata": {},
     "output_type": "execute_result"
    }
   ],
   "source": [
    "df1.head()"
   ]
  },
  {
   "cell_type": "code",
   "execution_count": 76,
   "metadata": {},
   "outputs": [],
   "source": [
    "#### Creating Age in to Bins(buckets)to equal intervals "
   ]
  },
  {
   "cell_type": "code",
   "execution_count": 77,
   "metadata": {},
   "outputs": [
    {
     "data": {
      "text/plain": [
       "array([36, 39, 65, 24, 40, 61, 31, 34, 30, 23, 21, 44, 45, 59, 32, 50, 28,\n",
       "       37, 33, 35, 52, 55, 41, 43, 38, 26, 29, 27, 56, 49, 47, 42, 67, 46,\n",
       "       64, 48, 57, 66, 22, 51, 25, 62, 53, 19, 76, 54, 60, 75, 58, 20, 74,\n",
       "       77, 82, 80, 71, 73, 18, 70, 72, 63, 69, 68], dtype=int64)"
      ]
     },
     "execution_count": 77,
     "metadata": {},
     "output_type": "execute_result"
    }
   ],
   "source": [
    "df1['age'].unique() ### prints age of unique values"
   ]
  },
  {
   "cell_type": "code",
   "execution_count": 78,
   "metadata": {},
   "outputs": [
    {
     "data": {
      "text/plain": [
       "count    1866.000000\n",
       "mean       38.670954\n",
       "std        10.126597\n",
       "min        18.000000\n",
       "25%        32.000000\n",
       "50%        37.000000\n",
       "75%        44.000000\n",
       "max        82.000000\n",
       "Name: age, dtype: float64"
      ]
     },
     "execution_count": 78,
     "metadata": {},
     "output_type": "execute_result"
    }
   ],
   "source": [
    "df1['age'].describe() ### gives summary of my Age varibale which gives me min,max,count,deviation,count and median(middle value) values"
   ]
  },
  {
   "cell_type": "code",
   "execution_count": 79,
   "metadata": {},
   "outputs": [],
   "source": [
    "df1['age_bins'] = pd.cut(x = df1['age'], bins=[18,36,54,72,90]) ### pd.cut method used to separate the elements into different intervals"
   ]
  },
  {
   "cell_type": "code",
   "execution_count": 80,
   "metadata": {},
   "outputs": [
    {
     "data": {
      "text/html": [
       "<div>\n",
       "<style scoped>\n",
       "    .dataframe tbody tr th:only-of-type {\n",
       "        vertical-align: middle;\n",
       "    }\n",
       "\n",
       "    .dataframe tbody tr th {\n",
       "        vertical-align: top;\n",
       "    }\n",
       "\n",
       "    .dataframe thead th {\n",
       "        text-align: right;\n",
       "    }\n",
       "</style>\n",
       "<table border=\"1\" class=\"dataframe\">\n",
       "  <thead>\n",
       "    <tr style=\"text-align: right;\">\n",
       "      <th></th>\n",
       "      <th>gender</th>\n",
       "      <th>age</th>\n",
       "      <th>no_of_days_subscribed</th>\n",
       "      <th>multi_screen</th>\n",
       "      <th>mail_subscribed</th>\n",
       "      <th>weekly_mins_watched</th>\n",
       "      <th>minimum_daily_mins</th>\n",
       "      <th>maximum_daily_mins</th>\n",
       "      <th>weekly_max_night_mins</th>\n",
       "      <th>videos_watched</th>\n",
       "      <th>maximum_days_inactive</th>\n",
       "      <th>customer_support_calls</th>\n",
       "      <th>churn</th>\n",
       "      <th>age_bins</th>\n",
       "    </tr>\n",
       "  </thead>\n",
       "  <tbody>\n",
       "    <tr>\n",
       "      <th>0</th>\n",
       "      <td>1</td>\n",
       "      <td>36</td>\n",
       "      <td>62.0</td>\n",
       "      <td>0</td>\n",
       "      <td>0</td>\n",
       "      <td>148.35</td>\n",
       "      <td>12.2</td>\n",
       "      <td>16.81</td>\n",
       "      <td>82</td>\n",
       "      <td>1.0</td>\n",
       "      <td>4</td>\n",
       "      <td>1</td>\n",
       "      <td>0.0</td>\n",
       "      <td>(18, 36]</td>\n",
       "    </tr>\n",
       "    <tr>\n",
       "      <th>1</th>\n",
       "      <td>1</td>\n",
       "      <td>39</td>\n",
       "      <td>149.0</td>\n",
       "      <td>0</td>\n",
       "      <td>0</td>\n",
       "      <td>294.45</td>\n",
       "      <td>7.7</td>\n",
       "      <td>33.37</td>\n",
       "      <td>87</td>\n",
       "      <td>3.0</td>\n",
       "      <td>3</td>\n",
       "      <td>2</td>\n",
       "      <td>0.0</td>\n",
       "      <td>(36, 54]</td>\n",
       "    </tr>\n",
       "    <tr>\n",
       "      <th>2</th>\n",
       "      <td>1</td>\n",
       "      <td>65</td>\n",
       "      <td>126.0</td>\n",
       "      <td>0</td>\n",
       "      <td>0</td>\n",
       "      <td>87.30</td>\n",
       "      <td>11.9</td>\n",
       "      <td>9.89</td>\n",
       "      <td>91</td>\n",
       "      <td>1.0</td>\n",
       "      <td>4</td>\n",
       "      <td>5</td>\n",
       "      <td>1.0</td>\n",
       "      <td>(54, 72]</td>\n",
       "    </tr>\n",
       "    <tr>\n",
       "      <th>3</th>\n",
       "      <td>1</td>\n",
       "      <td>24</td>\n",
       "      <td>131.0</td>\n",
       "      <td>0</td>\n",
       "      <td>1</td>\n",
       "      <td>321.30</td>\n",
       "      <td>9.5</td>\n",
       "      <td>36.41</td>\n",
       "      <td>102</td>\n",
       "      <td>4.0</td>\n",
       "      <td>3</td>\n",
       "      <td>3</td>\n",
       "      <td>0.0</td>\n",
       "      <td>(18, 36]</td>\n",
       "    </tr>\n",
       "    <tr>\n",
       "      <th>4</th>\n",
       "      <td>1</td>\n",
       "      <td>40</td>\n",
       "      <td>191.0</td>\n",
       "      <td>0</td>\n",
       "      <td>0</td>\n",
       "      <td>243.00</td>\n",
       "      <td>10.9</td>\n",
       "      <td>27.54</td>\n",
       "      <td>83</td>\n",
       "      <td>7.0</td>\n",
       "      <td>3</td>\n",
       "      <td>1</td>\n",
       "      <td>0.0</td>\n",
       "      <td>(36, 54]</td>\n",
       "    </tr>\n",
       "  </tbody>\n",
       "</table>\n",
       "</div>"
      ],
      "text/plain": [
       "   gender  age  no_of_days_subscribed multi_screen mail_subscribed  \\\n",
       "0       1   36                   62.0            0               0   \n",
       "1       1   39                  149.0            0               0   \n",
       "2       1   65                  126.0            0               0   \n",
       "3       1   24                  131.0            0               1   \n",
       "4       1   40                  191.0            0               0   \n",
       "\n",
       "   weekly_mins_watched  minimum_daily_mins  maximum_daily_mins  \\\n",
       "0               148.35                12.2               16.81   \n",
       "1               294.45                 7.7               33.37   \n",
       "2                87.30                11.9                9.89   \n",
       "3               321.30                 9.5               36.41   \n",
       "4               243.00                10.9               27.54   \n",
       "\n",
       "   weekly_max_night_mins  videos_watched maximum_days_inactive  \\\n",
       "0                     82             1.0                     4   \n",
       "1                     87             3.0                     3   \n",
       "2                     91             1.0                     4   \n",
       "3                    102             4.0                     3   \n",
       "4                     83             7.0                     3   \n",
       "\n",
       "   customer_support_calls  churn  age_bins  \n",
       "0                       1    0.0  (18, 36]  \n",
       "1                       2    0.0  (36, 54]  \n",
       "2                       5    1.0  (54, 72]  \n",
       "3                       3    0.0  (18, 36]  \n",
       "4                       1    0.0  (36, 54]  "
      ]
     },
     "execution_count": 80,
     "metadata": {},
     "output_type": "execute_result"
    }
   ],
   "source": [
    "df1.head()"
   ]
  },
  {
   "cell_type": "code",
   "execution_count": 81,
   "metadata": {},
   "outputs": [
    {
     "data": {
      "text/plain": [
       "<AxesSubplot:xlabel='age_bins', ylabel='count'>"
      ]
     },
     "execution_count": 81,
     "metadata": {},
     "output_type": "execute_result"
    },
    {
     "data": {
      "image/png": "[encoded data removed]",
      "text/plain": [
       "<Figure size 432x288 with 1 Axes>"
      ]
     },
     "metadata": {
      "needs_background": "light"
     },
     "output_type": "display_data"
    }
   ],
   "source": [
    "sns.countplot(x='age_bins',data = df1) ### Gives count of Age in different intervals"
   ]
  },
  {
   "cell_type": "markdown",
   "metadata": {},
   "source": [
    "As we can see most number of customers are from age group (18,36),(36,54). This age includes Teenagers,Adults and rest are older adults who are less in number."
   ]
  },
  {
   "cell_type": "code",
   "execution_count": 83,
   "metadata": {},
   "outputs": [
    {
     "data": {
      "text/plain": [
       "<AxesSubplot:xlabel='age_bins', ylabel='maximum_daily_mins'>"
      ]
     },
     "execution_count": 83,
     "metadata": {},
     "output_type": "execute_result"
    },
    {
     "data": {
      "image/png": "[encoded data removed]",
      "text/plain": [
       "<Figure size 432x288 with 1 Axes>"
      ]
     },
     "metadata": {
      "needs_background": "light"
     },
     "output_type": "display_data"
    }
   ],
   "source": [
    "sns.barplot(x='age_bins',y = \"maximum_daily_mins\",data = df1)"
   ]
  },
  {
   "cell_type": "markdown",
   "metadata": {},
   "source": [
    "#### This is interesting!!! Age Group (72,90) has a better average of maximum_daily_mins compared to rest of age groups.\n",
    "#### Maybe in this age_group of (72,90) many of them were relaxing/retire stage. They get bored and using the service.\n",
    "#### Rest other age groups have approximately same average daily_mins"
   ]
  },
  {
   "cell_type": "code",
   "execution_count": 86,
   "metadata": {},
   "outputs": [
    {
     "data": {
      "text/plain": [
       "age_bins  churn\n",
       "(18, 36]  0.0      751\n",
       "          1.0      122\n",
       "(36, 54]  0.0      742\n",
       "          1.0      100\n",
       "(54, 72]  0.0      114\n",
       "          1.0       22\n",
       "(72, 90]  0.0        8\n",
       "          1.0        4\n",
       "Name: churn, dtype: int64"
      ]
     },
     "execution_count": 86,
     "metadata": {},
     "output_type": "execute_result"
    }
   ],
   "source": [
    "df1.groupby(['age_bins'])['churn'].value_counts()"
   ]
  },
  {
   "cell_type": "markdown",
   "metadata": {},
   "source": [
    "#### Here, we can see age_bins Vs Churn. Most of the people from age groups (18,36) & (36,54) have churned out. Least from (72,90)"
   ]
  },
  {
   "cell_type": "code",
   "execution_count": 97,
   "metadata": {},
   "outputs": [],
   "source": [
    "df2 = df1.copy()"
   ]
  },
  {
   "cell_type": "code",
   "execution_count": 98,
   "metadata": {},
   "outputs": [
    {
     "data": {
      "text/html": [
       "<div>\n",
       "<style scoped>\n",
       "    .dataframe tbody tr th:only-of-type {\n",
       "        vertical-align: middle;\n",
       "    }\n",
       "\n",
       "    .dataframe tbody tr th {\n",
       "        vertical-align: top;\n",
       "    }\n",
       "\n",
       "    .dataframe thead th {\n",
       "        text-align: right;\n",
       "    }\n",
       "</style>\n",
       "<table border=\"1\" class=\"dataframe\">\n",
       "  <thead>\n",
       "    <tr style=\"text-align: right;\">\n",
       "      <th></th>\n",
       "      <th>gender</th>\n",
       "      <th>age</th>\n",
       "      <th>no_of_days_subscribed</th>\n",
       "      <th>multi_screen</th>\n",
       "      <th>mail_subscribed</th>\n",
       "      <th>weekly_mins_watched</th>\n",
       "      <th>minimum_daily_mins</th>\n",
       "      <th>maximum_daily_mins</th>\n",
       "      <th>weekly_max_night_mins</th>\n",
       "      <th>videos_watched</th>\n",
       "      <th>maximum_days_inactive</th>\n",
       "      <th>customer_support_calls</th>\n",
       "      <th>churn</th>\n",
       "      <th>age_bins</th>\n",
       "    </tr>\n",
       "  </thead>\n",
       "  <tbody>\n",
       "    <tr>\n",
       "      <th>0</th>\n",
       "      <td>1</td>\n",
       "      <td>36</td>\n",
       "      <td>62.0</td>\n",
       "      <td>0</td>\n",
       "      <td>0</td>\n",
       "      <td>148.35</td>\n",
       "      <td>12.2</td>\n",
       "      <td>16.81</td>\n",
       "      <td>82</td>\n",
       "      <td>1.0</td>\n",
       "      <td>4</td>\n",
       "      <td>1</td>\n",
       "      <td>0.0</td>\n",
       "      <td>(18, 36]</td>\n",
       "    </tr>\n",
       "    <tr>\n",
       "      <th>1</th>\n",
       "      <td>1</td>\n",
       "      <td>39</td>\n",
       "      <td>149.0</td>\n",
       "      <td>0</td>\n",
       "      <td>0</td>\n",
       "      <td>294.45</td>\n",
       "      <td>7.7</td>\n",
       "      <td>33.37</td>\n",
       "      <td>87</td>\n",
       "      <td>3.0</td>\n",
       "      <td>3</td>\n",
       "      <td>2</td>\n",
       "      <td>0.0</td>\n",
       "      <td>(36, 54]</td>\n",
       "    </tr>\n",
       "    <tr>\n",
       "      <th>2</th>\n",
       "      <td>1</td>\n",
       "      <td>65</td>\n",
       "      <td>126.0</td>\n",
       "      <td>0</td>\n",
       "      <td>0</td>\n",
       "      <td>87.30</td>\n",
       "      <td>11.9</td>\n",
       "      <td>9.89</td>\n",
       "      <td>91</td>\n",
       "      <td>1.0</td>\n",
       "      <td>4</td>\n",
       "      <td>5</td>\n",
       "      <td>1.0</td>\n",
       "      <td>(54, 72]</td>\n",
       "    </tr>\n",
       "    <tr>\n",
       "      <th>3</th>\n",
       "      <td>1</td>\n",
       "      <td>24</td>\n",
       "      <td>131.0</td>\n",
       "      <td>0</td>\n",
       "      <td>1</td>\n",
       "      <td>321.30</td>\n",
       "      <td>9.5</td>\n",
       "      <td>36.41</td>\n",
       "      <td>102</td>\n",
       "      <td>4.0</td>\n",
       "      <td>3</td>\n",
       "      <td>3</td>\n",
       "      <td>0.0</td>\n",
       "      <td>(18, 36]</td>\n",
       "    </tr>\n",
       "    <tr>\n",
       "      <th>4</th>\n",
       "      <td>1</td>\n",
       "      <td>40</td>\n",
       "      <td>191.0</td>\n",
       "      <td>0</td>\n",
       "      <td>0</td>\n",
       "      <td>243.00</td>\n",
       "      <td>10.9</td>\n",
       "      <td>27.54</td>\n",
       "      <td>83</td>\n",
       "      <td>7.0</td>\n",
       "      <td>3</td>\n",
       "      <td>1</td>\n",
       "      <td>0.0</td>\n",
       "      <td>(36, 54]</td>\n",
       "    </tr>\n",
       "  </tbody>\n",
       "</table>\n",
       "</div>"
      ],
      "text/plain": [
       "   gender  age  no_of_days_subscribed multi_screen mail_subscribed  \\\n",
       "0       1   36                   62.0            0               0   \n",
       "1       1   39                  149.0            0               0   \n",
       "2       1   65                  126.0            0               0   \n",
       "3       1   24                  131.0            0               1   \n",
       "4       1   40                  191.0            0               0   \n",
       "\n",
       "   weekly_mins_watched  minimum_daily_mins  maximum_daily_mins  \\\n",
       "0               148.35                12.2               16.81   \n",
       "1               294.45                 7.7               33.37   \n",
       "2                87.30                11.9                9.89   \n",
       "3               321.30                 9.5               36.41   \n",
       "4               243.00                10.9               27.54   \n",
       "\n",
       "   weekly_max_night_mins  videos_watched maximum_days_inactive  \\\n",
       "0                     82             1.0                     4   \n",
       "1                     87             3.0                     3   \n",
       "2                     91             1.0                     4   \n",
       "3                    102             4.0                     3   \n",
       "4                     83             7.0                     3   \n",
       "\n",
       "   customer_support_calls  churn  age_bins  \n",
       "0                       1    0.0  (18, 36]  \n",
       "1                       2    0.0  (36, 54]  \n",
       "2                       5    1.0  (54, 72]  \n",
       "3                       3    0.0  (18, 36]  \n",
       "4                       1    0.0  (36, 54]  "
      ]
     },
     "execution_count": 98,
     "metadata": {},
     "output_type": "execute_result"
    }
   ],
   "source": [
    "df2.head()"
   ]
  },
  {
   "cell_type": "code",
   "execution_count": 99,
   "metadata": {},
   "outputs": [],
   "source": [
    "df2 = df2.drop(['age_bins'],axis = 1)"
   ]
  },
  {
   "cell_type": "code",
   "execution_count": 100,
   "metadata": {},
   "outputs": [
    {
     "data": {
      "text/html": [
       "<div>\n",
       "<style scoped>\n",
       "    .dataframe tbody tr th:only-of-type {\n",
       "        vertical-align: middle;\n",
       "    }\n",
       "\n",
       "    .dataframe tbody tr th {\n",
       "        vertical-align: top;\n",
       "    }\n",
       "\n",
       "    .dataframe thead th {\n",
       "        text-align: right;\n",
       "    }\n",
       "</style>\n",
       "<table border=\"1\" class=\"dataframe\">\n",
       "  <thead>\n",
       "    <tr style=\"text-align: right;\">\n",
       "      <th></th>\n",
       "      <th>gender</th>\n",
       "      <th>age</th>\n",
       "      <th>no_of_days_subscribed</th>\n",
       "      <th>multi_screen</th>\n",
       "      <th>mail_subscribed</th>\n",
       "      <th>weekly_mins_watched</th>\n",
       "      <th>minimum_daily_mins</th>\n",
       "      <th>maximum_daily_mins</th>\n",
       "      <th>weekly_max_night_mins</th>\n",
       "      <th>videos_watched</th>\n",
       "      <th>maximum_days_inactive</th>\n",
       "      <th>customer_support_calls</th>\n",
       "      <th>churn</th>\n",
       "    </tr>\n",
       "  </thead>\n",
       "  <tbody>\n",
       "    <tr>\n",
       "      <th>0</th>\n",
       "      <td>1</td>\n",
       "      <td>36</td>\n",
       "      <td>62.0</td>\n",
       "      <td>0</td>\n",
       "      <td>0</td>\n",
       "      <td>148.35</td>\n",
       "      <td>12.2</td>\n",
       "      <td>16.81</td>\n",
       "      <td>82</td>\n",
       "      <td>1.0</td>\n",
       "      <td>4</td>\n",
       "      <td>1</td>\n",
       "      <td>0.0</td>\n",
       "    </tr>\n",
       "    <tr>\n",
       "      <th>1</th>\n",
       "      <td>1</td>\n",
       "      <td>39</td>\n",
       "      <td>149.0</td>\n",
       "      <td>0</td>\n",
       "      <td>0</td>\n",
       "      <td>294.45</td>\n",
       "      <td>7.7</td>\n",
       "      <td>33.37</td>\n",
       "      <td>87</td>\n",
       "      <td>3.0</td>\n",
       "      <td>3</td>\n",
       "      <td>2</td>\n",
       "      <td>0.0</td>\n",
       "    </tr>\n",
       "    <tr>\n",
       "      <th>2</th>\n",
       "      <td>1</td>\n",
       "      <td>65</td>\n",
       "      <td>126.0</td>\n",
       "      <td>0</td>\n",
       "      <td>0</td>\n",
       "      <td>87.30</td>\n",
       "      <td>11.9</td>\n",
       "      <td>9.89</td>\n",
       "      <td>91</td>\n",
       "      <td>1.0</td>\n",
       "      <td>4</td>\n",
       "      <td>5</td>\n",
       "      <td>1.0</td>\n",
       "    </tr>\n",
       "    <tr>\n",
       "      <th>3</th>\n",
       "      <td>1</td>\n",
       "      <td>24</td>\n",
       "      <td>131.0</td>\n",
       "      <td>0</td>\n",
       "      <td>1</td>\n",
       "      <td>321.30</td>\n",
       "      <td>9.5</td>\n",
       "      <td>36.41</td>\n",
       "      <td>102</td>\n",
       "      <td>4.0</td>\n",
       "      <td>3</td>\n",
       "      <td>3</td>\n",
       "      <td>0.0</td>\n",
       "    </tr>\n",
       "    <tr>\n",
       "      <th>4</th>\n",
       "      <td>1</td>\n",
       "      <td>40</td>\n",
       "      <td>191.0</td>\n",
       "      <td>0</td>\n",
       "      <td>0</td>\n",
       "      <td>243.00</td>\n",
       "      <td>10.9</td>\n",
       "      <td>27.54</td>\n",
       "      <td>83</td>\n",
       "      <td>7.0</td>\n",
       "      <td>3</td>\n",
       "      <td>1</td>\n",
       "      <td>0.0</td>\n",
       "    </tr>\n",
       "  </tbody>\n",
       "</table>\n",
       "</div>"
      ],
      "text/plain": [
       "   gender  age  no_of_days_subscribed multi_screen mail_subscribed  \\\n",
       "0       1   36                   62.0            0               0   \n",
       "1       1   39                  149.0            0               0   \n",
       "2       1   65                  126.0            0               0   \n",
       "3       1   24                  131.0            0               1   \n",
       "4       1   40                  191.0            0               0   \n",
       "\n",
       "   weekly_mins_watched  minimum_daily_mins  maximum_daily_mins  \\\n",
       "0               148.35                12.2               16.81   \n",
       "1               294.45                 7.7               33.37   \n",
       "2                87.30                11.9                9.89   \n",
       "3               321.30                 9.5               36.41   \n",
       "4               243.00                10.9               27.54   \n",
       "\n",
       "   weekly_max_night_mins  videos_watched maximum_days_inactive  \\\n",
       "0                     82             1.0                     4   \n",
       "1                     87             3.0                     3   \n",
       "2                     91             1.0                     4   \n",
       "3                    102             4.0                     3   \n",
       "4                     83             7.0                     3   \n",
       "\n",
       "   customer_support_calls  churn  \n",
       "0                       1    0.0  \n",
       "1                       2    0.0  \n",
       "2                       5    1.0  \n",
       "3                       3    0.0  \n",
       "4                       1    0.0  "
      ]
     },
     "execution_count": 100,
     "metadata": {},
     "output_type": "execute_result"
    }
   ],
   "source": [
    "df2.head()"
   ]
  },
  {
   "cell_type": "code",
   "execution_count": 101,
   "metadata": {},
   "outputs": [],
   "source": [
    "#nums = ['age','no_of_days_subscribed','weekly_mins_watched','minimum_daily_mins','maximum_daily_mins','weekly_max_night_mins','videos_watched','maximum_days_inactive','customer_support_calls']\n",
    "from sklearn.preprocessing import StandardScaler\n",
    "scaler = StandardScaler()### Scaling the data in range from 0 to 1 \n",
    "## reshape  function shapes an array without affecting the columns in the dataset.Here I gave 9 Columns and it reshaped into 13 columns.\n",
    "df2['age'] = scaler.fit_transform(df2['age'].values.reshape(-1,1))##by using fit_transform() method \n",
    "df2['no_of_days_subscribed'] = scaler.fit_transform(df2['no_of_days_subscribed'].values.reshape(-1,1))\n",
    "df2['weekly_mins_watched'] = scaler.fit_transform(df2['weekly_mins_watched'].values.reshape(-1,1))\n",
    "df2['minimum_daily_mins'] = scaler.fit_transform(df2['minimum_daily_mins'].values.reshape(-1,1))\n",
    "df2['maximum_daily_mins'] = scaler.fit_transform(df2['maximum_daily_mins'].values.reshape(-1,1))\n",
    "df2['weekly_max_night_mins'] = scaler.fit_transform(df2['weekly_max_night_mins'].values.reshape(-1,1))\n",
    "df2['videos_watched'] = scaler.fit_transform(df2['videos_watched'].values.reshape(-1,1))\n",
    "df2['maximum_days_inactive'] = scaler.fit_transform(df2['maximum_days_inactive'].values.reshape(-1,1))\n",
    "df2['customer_support_calls'] = scaler.fit_transform(df2['customer_support_calls'].values.reshape(-1,1))"
   ]
  },
  {
   "cell_type": "code",
   "execution_count": 102,
   "metadata": {},
   "outputs": [
    {
     "data": {
      "text/html": [
       "<div>\n",
       "<style scoped>\n",
       "    .dataframe tbody tr th:only-of-type {\n",
       "        vertical-align: middle;\n",
       "    }\n",
       "\n",
       "    .dataframe tbody tr th {\n",
       "        vertical-align: top;\n",
       "    }\n",
       "\n",
       "    .dataframe thead th {\n",
       "        text-align: right;\n",
       "    }\n",
       "</style>\n",
       "<table border=\"1\" class=\"dataframe\">\n",
       "  <thead>\n",
       "    <tr style=\"text-align: right;\">\n",
       "      <th></th>\n",
       "      <th>gender</th>\n",
       "      <th>age</th>\n",
       "      <th>no_of_days_subscribed</th>\n",
       "      <th>multi_screen</th>\n",
       "      <th>mail_subscribed</th>\n",
       "      <th>weekly_mins_watched</th>\n",
       "      <th>minimum_daily_mins</th>\n",
       "      <th>maximum_daily_mins</th>\n",
       "      <th>weekly_max_night_mins</th>\n",
       "      <th>videos_watched</th>\n",
       "      <th>maximum_days_inactive</th>\n",
       "      <th>customer_support_calls</th>\n",
       "      <th>churn</th>\n",
       "    </tr>\n",
       "  </thead>\n",
       "  <tbody>\n",
       "    <tr>\n",
       "      <th>0</th>\n",
       "      <td>1</td>\n",
       "      <td>-0.263827</td>\n",
       "      <td>-0.953154</td>\n",
       "      <td>0</td>\n",
       "      <td>0</td>\n",
       "      <td>-0.138102</td>\n",
       "      <td>0.721525</td>\n",
       "      <td>-1.512683</td>\n",
       "      <td>-0.939316</td>\n",
       "      <td>-1.409389</td>\n",
       "      <td>0.923955</td>\n",
       "      <td>-0.418413</td>\n",
       "      <td>0.0</td>\n",
       "    </tr>\n",
       "    <tr>\n",
       "      <th>1</th>\n",
       "      <td>1</td>\n",
       "      <td>0.032502</td>\n",
       "      <td>1.225779</td>\n",
       "      <td>0</td>\n",
       "      <td>0</td>\n",
       "      <td>-0.074775</td>\n",
       "      <td>-0.900341</td>\n",
       "      <td>0.304985</td>\n",
       "      <td>-0.683744</td>\n",
       "      <td>-0.601302</td>\n",
       "      <td>-0.310190</td>\n",
       "      <td>0.347788</td>\n",
       "      <td>0.0</td>\n",
       "    </tr>\n",
       "    <tr>\n",
       "      <th>2</th>\n",
       "      <td>1</td>\n",
       "      <td>2.600686</td>\n",
       "      <td>0.649739</td>\n",
       "      <td>0</td>\n",
       "      <td>0</td>\n",
       "      <td>-0.164564</td>\n",
       "      <td>0.613400</td>\n",
       "      <td>-2.272240</td>\n",
       "      <td>-0.479287</td>\n",
       "      <td>-1.409389</td>\n",
       "      <td>0.923955</td>\n",
       "      <td>2.646388</td>\n",
       "      <td>1.0</td>\n",
       "    </tr>\n",
       "    <tr>\n",
       "      <th>3</th>\n",
       "      <td>1</td>\n",
       "      <td>-1.449143</td>\n",
       "      <td>0.774965</td>\n",
       "      <td>0</td>\n",
       "      <td>1</td>\n",
       "      <td>-0.063137</td>\n",
       "      <td>-0.251595</td>\n",
       "      <td>0.638663</td>\n",
       "      <td>0.082972</td>\n",
       "      <td>-0.197258</td>\n",
       "      <td>-0.310190</td>\n",
       "      <td>1.113988</td>\n",
       "      <td>0.0</td>\n",
       "    </tr>\n",
       "    <tr>\n",
       "      <th>4</th>\n",
       "      <td>1</td>\n",
       "      <td>0.131278</td>\n",
       "      <td>2.277677</td>\n",
       "      <td>0</td>\n",
       "      <td>0</td>\n",
       "      <td>-0.097076</td>\n",
       "      <td>0.252986</td>\n",
       "      <td>-0.334931</td>\n",
       "      <td>-0.888202</td>\n",
       "      <td>1.014872</td>\n",
       "      <td>-0.310190</td>\n",
       "      <td>-0.418413</td>\n",
       "      <td>0.0</td>\n",
       "    </tr>\n",
       "  </tbody>\n",
       "</table>\n",
       "</div>"
      ],
      "text/plain": [
       "   gender       age  no_of_days_subscribed multi_screen mail_subscribed  \\\n",
       "0       1 -0.263827              -0.953154            0               0   \n",
       "1       1  0.032502               1.225779            0               0   \n",
       "2       1  2.600686               0.649739            0               0   \n",
       "3       1 -1.449143               0.774965            0               1   \n",
       "4       1  0.131278               2.277677            0               0   \n",
       "\n",
       "   weekly_mins_watched  minimum_daily_mins  maximum_daily_mins  \\\n",
       "0            -0.138102            0.721525           -1.512683   \n",
       "1            -0.074775           -0.900341            0.304985   \n",
       "2            -0.164564            0.613400           -2.272240   \n",
       "3            -0.063137           -0.251595            0.638663   \n",
       "4            -0.097076            0.252986           -0.334931   \n",
       "\n",
       "   weekly_max_night_mins  videos_watched  maximum_days_inactive  \\\n",
       "0              -0.939316       -1.409389               0.923955   \n",
       "1              -0.683744       -0.601302              -0.310190   \n",
       "2              -0.479287       -1.409389               0.923955   \n",
       "3               0.082972       -0.197258              -0.310190   \n",
       "4              -0.888202        1.014872              -0.310190   \n",
       "\n",
       "   customer_support_calls  churn  \n",
       "0               -0.418413    0.0  \n",
       "1                0.347788    0.0  \n",
       "2                2.646388    1.0  \n",
       "3                1.113988    0.0  \n",
       "4               -0.418413    0.0  "
      ]
     },
     "execution_count": 102,
     "metadata": {},
     "output_type": "execute_result"
    }
   ],
   "source": [
    "df2.head()"
   ]
  },
  {
   "cell_type": "code",
   "execution_count": 137,
   "metadata": {},
   "outputs": [],
   "source": [
    "df2['multi_screen'] = pd.to_numeric(df2['multi_screen'])### converts into numeric data type\n",
    "df2['mail_subscribed'] = pd.to_numeric(df2['mail_subscribed'])"
   ]
  },
  {
   "cell_type": "markdown",
   "metadata": {},
   "source": [
    "### Model Building & Evaluation"
   ]
  },
  {
   "cell_type": "markdown",
   "metadata": {},
   "source": [
    "#### Logistic Regression : It is a Classification algorithm that used to predict the probability of a categorical Dependent(churn) variable.\n",
    "#### Outcome variable gives only two variable as 0(no churn) and 1(churn).So it is a Binary Classification.\n",
    "###### Finally Our main end goal is to find the customer churning or not."
   ]
  },
  {
   "cell_type": "code",
   "execution_count": 138,
   "metadata": {},
   "outputs": [],
   "source": [
    "y = df2['churn'].values\n",
    "X = df2.drop(columns = ['churn'])"
   ]
  },
  {
   "cell_type": "code",
   "execution_count": 139,
   "metadata": {},
   "outputs": [],
   "source": [
    "#Splitting into Train & Test in to 80:20 Training and Validation datasets\n",
    "###X_train and y_train contains the independent and response variable values for the training dataset respectively.\n",
    "### X_test and y_test contains the independent and response variable values for the test data set.\n",
    "from sklearn.model_selection import train_test_split\n",
    "X_train,X_test,y_train,y_test=train_test_split(X,y,test_size = 0.2,random_state = 101)"
   ]
  },
  {
   "cell_type": "code",
   "execution_count": 140,
   "metadata": {},
   "outputs": [
    {
     "name": "stdout",
     "output_type": "stream",
     "text": [
      "X_train Shape (1492, 12)\n",
      "y_train Shape (1492,)\n",
      "X_test Shape (374, 12)\n",
      "y_test Shape (374,)\n"
     ]
    }
   ],
   "source": [
    "print(\"X_train Shape\", X_train.shape)\n",
    "print(\"y_train Shape\", y_train.shape)\n",
    "print(\"X_test Shape\", X_test.shape)\n",
    "print(\"y_test Shape\", y_test.shape)"
   ]
  },
  {
   "cell_type": "code",
   "execution_count": 141,
   "metadata": {},
   "outputs": [],
   "source": [
    "#Logistic Regression Model\n",
    "from sklearn.linear_model import LogisticRegression\n",
    "model = LogisticRegression()\n",
    "result = model.fit(X_train, y_train)"
   ]
  },
  {
   "cell_type": "code",
   "execution_count": 142,
   "metadata": {},
   "outputs": [
    {
     "name": "stdout",
     "output_type": "stream",
     "text": [
      "0.8609625668449198\n"
     ]
    }
   ],
   "source": [
    "# Accuracy Score\n",
    "from sklearn import metrics\n",
    "prediction_test = model.predict(X_test)\n",
    "# Print the prediction accuracy\n",
    "print (metrics.accuracy_score(y_test, prediction_test))"
   ]
  },
  {
   "cell_type": "markdown",
   "metadata": {},
   "source": [
    "### As our data is imbalanced, so I have achieved accuracy score of 86% . \n",
    "\n",
    "### Also tried using weighted_average which got a better F1_score of 82% compared to Macro_average"
   ]
  },
  {
   "cell_type": "markdown",
   "metadata": {},
   "source": [
    "#### Confusion Matrix is used to evaluate the performance of a classification model.The rows represents the predicted values of the target variable(Churn).\n",
    "#### Here Accuracy is 85% with Predicted my Class Varibles(Predictors)."
   ]
  },
  {
   "cell_type": "code",
   "execution_count": 146,
   "metadata": {},
   "outputs": [
    {
     "name": "stdout",
     "output_type": "stream",
     "text": [
      "[[311   5]\n",
      " [ 47  11]]\n"
     ]
    }
   ],
   "source": [
    "from sklearn.metrics import confusion_matrix\n",
    "print(confusion_matrix(y_test,prediction_test))"
   ]
  },
  {
   "cell_type": "code",
   "execution_count": 147,
   "metadata": {},
   "outputs": [
    {
     "name": "stdout",
     "output_type": "stream",
     "text": [
      "              precision    recall  f1-score   support\n",
      "\n",
      "         0.0       0.87      0.98      0.92       316\n",
      "         1.0       0.69      0.19      0.30        58\n",
      "\n",
      "    accuracy                           0.86       374\n",
      "   macro avg       0.78      0.59      0.61       374\n",
      "weighted avg       0.84      0.86      0.83       374\n",
      "\n"
     ]
    }
   ],
   "source": [
    "from sklearn.metrics import classification_report\n",
    "print(classification_report(y_test,prediction_test))"
   ]
  },
  {
   "cell_type": "code",
   "execution_count": 176,
   "metadata": {},
   "outputs": [
    {
     "name": "stdout",
     "output_type": "stream",
     "text": [
      "accuracy 0.861\n",
      "Recall 0.861\n",
      "F1 Score 0.8258\n",
      "Precision 0.8406\n"
     ]
    }
   ],
   "source": [
    "print(\"accuracy\",(round(accuracy_score(y_test, prediction_test),4)))\n",
    "print(\"Recall\",(round(recall_score(y_test,  prediction_test,average = \"weighted\"),4)))\n",
    "print(\"F1 Score\",(round(f1_score(y_test,  prediction_test,average = \"weighted\"),4)))\n",
    "print(\"Precision\",(round(precision_score(y_test,  prediction_test, average = \"weighted\"),4)))"
   ]
  },
  {
   "cell_type": "markdown",
   "metadata": {},
   "source": [
    "### Accuracy for Log Reg Model is 86% which is good it means it estimated  my customers churn rate  with 86% good accuracy.\n",
    "### Here F1 score is a measure used to compare performance of a two classifiers\n",
    "### Highest F1 score with 0.82 that model would be good  in terms of performance(prediction)."
   ]
  },
  {
   "cell_type": "markdown",
   "metadata": {},
   "source": [
    "#### F1 score depends on Precision and Recall score,(value) gives better than accuracy"
   ]
  },
  {
   "cell_type": "markdown",
   "metadata": {},
   "source": [
    "#                                                              THE END "
   ]
  },
  {
   "cell_type": "code",
   "execution_count": null,
   "metadata": {},
   "outputs": [],
   "source": []
  }
 ],
 "metadata": {
  "kernelspec": {
   "display_name": "Python 3 (ipykernel)",
   "language": "python",
   "name": "python3"
  },
  "language_info": {
   "codemirror_mode": {
    "name": "ipython",
    "version": 3
   },
   "file_extension": ".py",
   "mimetype": "text/x-python",
   "name": "python",
   "nbconvert_exporter": "python",
   "pygments_lexer": "ipython3",
   "version": "3.11.4"
  }
 },
 "nbformat": 4,
 "nbformat_minor": 2
}
