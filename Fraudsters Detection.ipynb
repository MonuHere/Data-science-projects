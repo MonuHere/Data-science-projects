{
 "cells": [
  {
   "cell_type": "markdown",
   "metadata": {
    "id": "U3y-G2AMktnU"
   },
   "source": [
    "#**Fraudsters Detection**\n",
    "\n",
    "###**Assignment**\n",
    "\n",
    "Explore the data for identified fraudsters and other users. What are your preliminary observations? Utilizing your findings from and some creativity, create some features. Explain your reasoning behind the features. Create an ML model which identifies fraudsters. Assess the quality of your model and explain.\n"
   ]
  },
  {
   "cell_type": "markdown",
   "metadata": {
    "id": "Eqz3Fr45ktj0"
   },
   "source": [
    "##**Data Description**\n",
    "The file users.csv contains data on a subset of fictional banking users. The abbreviation 'KYC' stands for 'Know Your Customer' - a process of identifying and verifying the client's identity when opening an account and periodically over time. The variable IS_FRAUDSTER from this dataset is your target variable. The file transactions.csv contains details of fictional transactions of these users.\n",
    "\n",
    "The files countries.csv and currency_details.csv are dictionaries that provide explanations of abbreviations used in columns COUNTRY of the users dataset and CURRENCY of the transactions dataset respectively. These dictionaries may be useful but you don't need to use them when solving this task."
   ]
  },
  {
   "cell_type": "markdown",
   "metadata": {
    "id": "75HpFqi1kthC"
   },
   "source": [
    "###**Practicalities**\n",
    "\n",
    "Define, train and evaluate predictive models that take as the input the data provided. You may want to split the data into training, testing and validation sets, according to your discretion. Do not use external data for this project. You may use any algorithm of your choice or compare multiple models.\n",
    "\n",
    "Make sure that the solution reflects your entire thought process - it is more important how the code is structured rather than the final metrics.\n",
    "\n",
    "\n",
    "#### To download the dataset <a href=\"https://drive.google.com/drive/folders/1cVmladtHxbDNoMFeX8xk5cLgYFAGkMh4?usp=sharing\"> Click here </a>"
   ]
  },
  {
   "cell_type": "code",
   "execution_count": 52,
   "metadata": {},
   "outputs": [
    {
     "name": "stdout",
     "output_type": "stream",
     "text": [
      "Users Dataset:\n",
      "                                     ID  HAS_EMAIL   PHONE_COUNTRY  \\\n",
      "0  1872820f-e3ac-4c02-bdc7-727897b60043          1  GB||JE||IM||GG   \n",
      "1  545ff94d-66f8-4bea-b398-84425fb2301e          1  GB||JE||IM||GG   \n",
      "2  10376f1a-a28a-4885-8daa-c8ca496026bb          1              ES   \n",
      "3  fd308db7-0753-4377-879f-6ecf2af14e4f          1              FR   \n",
      "4  755fe256-a34d-4853-b7ca-d9bb991a86d3          1  GB||JE||IM||GG   \n",
      "\n",
      "   IS_FRAUDSTER TERMS_VERSION                CREATED_DATE   STATE COUNTRY  \\\n",
      "0         False    2018-05-25  2017-08-06 07:33:33.341000  ACTIVE      GB   \n",
      "1         False    2018-01-01  2017-03-07 10:18:59.427000  ACTIVE      GB   \n",
      "2         False    2018-09-20  2018-05-31 04:41:24.672000  ACTIVE      ES   \n",
      "3         False    2018-05-25  2018-06-01 17:24:23.852000  ACTIVE      FR   \n",
      "4         False    2018-09-20  2017-08-09 15:03:33.945000  ACTIVE      GB   \n",
      "\n",
      "   BIRTH_YEAR     KYC  FAILED_SIGN_IN_ATTEMPTS  \n",
      "0        1971  PASSED                        0  \n",
      "1        1982  PASSED                        0  \n",
      "2        1973  PASSED                        0  \n",
      "3        1986  PASSED                        0  \n",
      "4        1989  PASSED                        0  \n"
     ]
    }
   ],
   "source": [
    "import pandas as pd\n",
    "import numpy as np\n",
    "import matplotlib.pyplot as plt\n",
    "import seaborn as sns\n",
    "from datetime import datetime\n",
    "from sklearn.model_selection import train_test_split\n",
    "from sklearn.preprocessing import StandardScaler, OneHotEncoder\n",
    "from sklearn.compose import ColumnTransformer\n",
    "from sklearn.pipeline import Pipeline\n",
    "from sklearn.impute import SimpleImputer\n",
    "from sklearn.ensemble import RandomForestClassifier\n",
    "from sklearn.metrics import classification_report, confusion_matrix, roc_auc_score\n",
    "from sklearn.model_selection import GridSearchCV\n",
    "\n",
    "# Load the datasets\n",
    "users = pd.read_csv(r\"C:\\Users\\manoj\\Downloads\\users.csv\")\n",
    "transactions = pd.read_csv(r\"C:\\Users\\manoj\\Downloads\\transactions.csv\")\n",
    "countries = pd.read_csv(r\"C:\\Users\\manoj\\Downloads\\countries.csv\")\n",
    "currency_details = pd.read_csv(r\"C:\\Users\\manoj\\Downloads\\currency_details.csv\")\n",
    "\n",
    "# Display the first few rows of each dataset\n",
    "print(\"Users Dataset:\")\n",
    "print(users.head())"
   ]
  },
  {
   "cell_type": "code",
   "execution_count": 53,
   "metadata": {},
   "outputs": [
    {
     "name": "stdout",
     "output_type": "stream",
     "text": [
      "\n",
      "Transactions Dataset:\n",
      "  CURRENCY  AMOUNT      STATE             CREATED_DATE  MERCHANT_CATEGORY  \\\n",
      "0      GBP    4420  COMPLETED  2017-12-10 16:38:55.577                NaN   \n",
      "1      PLN    1500  COMPLETED  2017-12-10 16:37:24.792  point_of_interest   \n",
      "2      GBP     191  COMPLETED  2017-12-10 16:37:16.234            airport   \n",
      "3      GBP   10000  COMPLETED  2017-12-10 16:34:42.592                NaN   \n",
      "4      EUR    1159  COMPLETED   2017-12-10 16:34:17.88                NaN   \n",
      "\n",
      "  MERCHANT_COUNTRY ENTRY_METHOD                               USER_ID  \\\n",
      "0              NLD         chip  3ff52b92-d416-4e22-8cad-018f500d4bbc   \n",
      "1              POL         manu  76cbaad3-4721-4a3b-92b9-3eb9e9319565   \n",
      "2              PRT         chip  7bcaa34e-b889-4582-9c29-0b3bab34fb8c   \n",
      "3              NaN         misc  b3a6762b-a940-4459-bb1d-8e28e151f901   \n",
      "4              FRA         manu  f5723f5e-5a00-4851-ae1d-5c11146aa491   \n",
      "\n",
      "           TYPE SOURCE                                    ID  AMOUNT_USD  \n",
      "0           ATM   GAIA  367bf5f9-7cce-4683-90b9-d3c011bf4c87      3268.0  \n",
      "1  CARD_PAYMENT   GAIA  ff6802b9-360d-4efe-b09b-f99c6cac3383         NaN  \n",
      "2  CARD_PAYMENT   GAIA  ddb4a930-7d8a-4f38-9079-ddc4b0db980e       141.0  \n",
      "3         TOPUP   HERA  080ef0be-850a-4f14-ab03-28ff68e6b797      7394.0  \n",
      "4  CARD_PAYMENT   GAIA  bd13abac-4004-4c67-9bb7-90a42b027e82       977.0  \n"
     ]
    }
   ],
   "source": [
    "print(\"\\nTransactions Dataset:\")\n",
    "print(transactions.head())"
   ]
  },
  {
   "cell_type": "code",
   "execution_count": 54,
   "metadata": {},
   "outputs": [
    {
     "name": "stdout",
     "output_type": "stream",
     "text": [
      "\n",
      "Countries Dataset:\n",
      "  CODE            NAME CODE3  NUMCODE  PHONECODE\n",
      "0   AF     Afghanistan   AFG        4         93\n",
      "1   AL         Albania   ALB        8        355\n",
      "2   DZ         Algeria   DZA       12        213\n",
      "3   AS  American Samoa   ASM       16       1684\n",
      "4   AO          Angola   AGO       24        244\n"
     ]
    }
   ],
   "source": [
    "print(\"\\nCountries Dataset:\")\n",
    "print(countries.head())"
   ]
  },
  {
   "cell_type": "code",
   "execution_count": 55,
   "metadata": {},
   "outputs": [
    {
     "name": "stdout",
     "output_type": "stream",
     "text": [
      "\n",
      "Currency Details Dataset:\n",
      "   CCY  EXPONENT  IS_CRYPTO\n",
      "0  AED         2      False\n",
      "1  AFN         2      False\n",
      "2  ALL         2      False\n",
      "3  AMD         2      False\n",
      "4  ANG         2      False\n"
     ]
    }
   ],
   "source": [
    "print(\"\\nCurrency Details Dataset:\")\n",
    "print(currency_details.head())"
   ]
  },
  {
   "cell_type": "code",
   "execution_count": 56,
   "metadata": {},
   "outputs": [],
   "source": [
    "# Handle infinite values\n",
    "users.replace([np.inf, -np.inf], np.nan, inplace=True)\n",
    "transactions.replace([np.inf, -np.inf], np.nan, inplace=True)"
   ]
  },
  {
   "cell_type": "code",
   "execution_count": 57,
   "metadata": {},
   "outputs": [
    {
     "name": "stdout",
     "output_type": "stream",
     "text": [
      "Users Dataset Info:\n",
      "<class 'pandas.core.frame.DataFrame'>\n",
      "RangeIndex: 9944 entries, 0 to 9943\n",
      "Data columns (total 11 columns):\n",
      " #   Column                   Non-Null Count  Dtype \n",
      "---  ------                   --------------  ----- \n",
      " 0   ID                       9944 non-null   object\n",
      " 1   HAS_EMAIL                9944 non-null   int64 \n",
      " 2   PHONE_COUNTRY            9944 non-null   object\n",
      " 3   IS_FRAUDSTER             9944 non-null   bool  \n",
      " 4   TERMS_VERSION            8417 non-null   object\n",
      " 5   CREATED_DATE             9944 non-null   object\n",
      " 6   STATE                    9944 non-null   object\n",
      " 7   COUNTRY                  9944 non-null   object\n",
      " 8   BIRTH_YEAR               9944 non-null   int64 \n",
      " 9   KYC                      9944 non-null   object\n",
      " 10  FAILED_SIGN_IN_ATTEMPTS  9944 non-null   int64 \n",
      "dtypes: bool(1), int64(3), object(7)\n",
      "memory usage: 786.7+ KB\n",
      "None\n",
      "         HAS_EMAIL   BIRTH_YEAR  FAILED_SIGN_IN_ATTEMPTS\n",
      "count  9944.000000  9944.000000              9944.000000\n",
      "mean      0.946702  1983.553298                 0.008045\n",
      "std       0.224639    11.350379                 0.129737\n",
      "min       0.000000  1927.000000                 0.000000\n",
      "25%       1.000000  1978.000000                 0.000000\n",
      "50%       1.000000  1986.000000                 0.000000\n",
      "75%       1.000000  1992.000000                 0.000000\n",
      "max       1.000000  2000.000000                 6.000000\n"
     ]
    }
   ],
   "source": [
    "# Display structure and summary of the datasets\n",
    "print(\"Users Dataset Info:\")\n",
    "print(users.info())\n",
    "print(users.describe())"
   ]
  },
  {
   "cell_type": "code",
   "execution_count": 58,
   "metadata": {},
   "outputs": [
    {
     "name": "stdout",
     "output_type": "stream",
     "text": [
      "\n",
      "Transactions Dataset Info:\n",
      "<class 'pandas.core.frame.DataFrame'>\n",
      "RangeIndex: 688651 entries, 0 to 688650\n",
      "Data columns (total 12 columns):\n",
      " #   Column             Non-Null Count   Dtype  \n",
      "---  ------             --------------   -----  \n",
      " 0   CURRENCY           688651 non-null  object \n",
      " 1   AMOUNT             688651 non-null  int64  \n",
      " 2   STATE              688651 non-null  object \n",
      " 3   CREATED_DATE       688651 non-null  object \n",
      " 4   MERCHANT_CATEGORY  223065 non-null  object \n",
      " 5   MERCHANT_COUNTRY   483055 non-null  object \n",
      " 6   ENTRY_METHOD       688651 non-null  object \n",
      " 7   USER_ID            688651 non-null  object \n",
      " 8   TYPE               688651 non-null  object \n",
      " 9   SOURCE             688651 non-null  object \n",
      " 10  ID                 688651 non-null  object \n",
      " 11  AMOUNT_USD         635328 non-null  float64\n",
      "dtypes: float64(1), int64(1), object(10)\n",
      "memory usage: 63.0+ MB\n",
      "None\n",
      "             AMOUNT    AMOUNT_USD\n",
      "count  6.886510e+05  6.353280e+05\n",
      "mean   3.172575e+04  6.856953e+03\n",
      "std    2.304381e+06  7.441684e+04\n",
      "min    0.000000e+00  0.000000e+00\n",
      "25%    4.800000e+02  3.590000e+02\n",
      "50%    1.420000e+03  1.037000e+03\n",
      "75%    5.000000e+03  3.713000e+03\n",
      "max    9.000000e+08  1.641211e+07\n"
     ]
    }
   ],
   "source": [
    "print(\"\\nTransactions Dataset Info:\")\n",
    "print(transactions.info())\n",
    "print(transactions.describe())"
   ]
  },
  {
   "cell_type": "code",
   "execution_count": 59,
   "metadata": {},
   "outputs": [
    {
     "name": "stdout",
     "output_type": "stream",
     "text": [
      "\n",
      "Countries Dataset Info:\n",
      "<class 'pandas.core.frame.DataFrame'>\n",
      "RangeIndex: 226 entries, 0 to 225\n",
      "Data columns (total 5 columns):\n",
      " #   Column     Non-Null Count  Dtype \n",
      "---  ------     --------------  ----- \n",
      " 0   CODE       225 non-null    object\n",
      " 1   NAME       226 non-null    object\n",
      " 2   CODE3      226 non-null    object\n",
      " 3   NUMCODE    226 non-null    int64 \n",
      " 4   PHONECODE  226 non-null    int64 \n",
      "dtypes: int64(2), object(3)\n",
      "memory usage: 9.0+ KB\n",
      "None\n"
     ]
    }
   ],
   "source": [
    "print(\"\\nCountries Dataset Info:\")\n",
    "print(countries.info())"
   ]
  },
  {
   "cell_type": "code",
   "execution_count": 60,
   "metadata": {},
   "outputs": [
    {
     "name": "stdout",
     "output_type": "stream",
     "text": [
      "\n",
      "Currency Details Dataset Info:\n",
      "<class 'pandas.core.frame.DataFrame'>\n",
      "RangeIndex: 184 entries, 0 to 183\n",
      "Data columns (total 3 columns):\n",
      " #   Column     Non-Null Count  Dtype \n",
      "---  ------     --------------  ----- \n",
      " 0   CCY        184 non-null    object\n",
      " 1   EXPONENT   184 non-null    int64 \n",
      " 2   IS_CRYPTO  184 non-null    bool  \n",
      "dtypes: bool(1), int64(1), object(1)\n",
      "memory usage: 3.2+ KB\n",
      "None\n"
     ]
    }
   ],
   "source": [
    "print(\"\\nCurrency Details Dataset Info:\")\n",
    "print(currency_details.info())"
   ]
  },
  {
   "cell_type": "code",
   "execution_count": 61,
   "metadata": {},
   "outputs": [
    {
     "name": "stdout",
     "output_type": "stream",
     "text": [
      "Missing Values in Users Dataset:\n",
      "ID                            0\n",
      "HAS_EMAIL                     0\n",
      "PHONE_COUNTRY                 0\n",
      "IS_FRAUDSTER                  0\n",
      "TERMS_VERSION              1527\n",
      "CREATED_DATE                  0\n",
      "STATE                         0\n",
      "COUNTRY                       0\n",
      "BIRTH_YEAR                    0\n",
      "KYC                           0\n",
      "FAILED_SIGN_IN_ATTEMPTS       0\n",
      "dtype: int64\n"
     ]
    }
   ],
   "source": [
    "# Check for missing values\n",
    "print(\"Missing Values in Users Dataset:\")\n",
    "print(users.isnull().sum())"
   ]
  },
  {
   "cell_type": "code",
   "execution_count": 62,
   "metadata": {},
   "outputs": [
    {
     "name": "stdout",
     "output_type": "stream",
     "text": [
      "\n",
      "Missing Values in Transactions Dataset:\n",
      "CURRENCY                  0\n",
      "AMOUNT                    0\n",
      "STATE                     0\n",
      "CREATED_DATE              0\n",
      "MERCHANT_CATEGORY    465586\n",
      "MERCHANT_COUNTRY     205596\n",
      "ENTRY_METHOD              0\n",
      "USER_ID                   0\n",
      "TYPE                      0\n",
      "SOURCE                    0\n",
      "ID                        0\n",
      "AMOUNT_USD            53323\n",
      "dtype: int64\n"
     ]
    }
   ],
   "source": [
    "print(\"\\nMissing Values in Transactions Dataset:\")\n",
    "print(transactions.isnull().sum())"
   ]
  },
  {
   "cell_type": "code",
   "execution_count": 63,
   "metadata": {},
   "outputs": [
    {
     "name": "stdout",
     "output_type": "stream",
     "text": [
      "\n",
      "Missing Values in Countries Dataset:\n",
      "CODE         1\n",
      "NAME         0\n",
      "CODE3        0\n",
      "NUMCODE      0\n",
      "PHONECODE    0\n",
      "dtype: int64\n"
     ]
    }
   ],
   "source": [
    "print(\"\\nMissing Values in Countries Dataset:\")\n",
    "print(countries.isnull().sum())"
   ]
  },
  {
   "cell_type": "code",
   "execution_count": 64,
   "metadata": {},
   "outputs": [
    {
     "name": "stdout",
     "output_type": "stream",
     "text": [
      "\n",
      "Missing Values in Currency Details Dataset:\n",
      "CCY          0\n",
      "EXPONENT     0\n",
      "IS_CRYPTO    0\n",
      "dtype: int64\n"
     ]
    }
   ],
   "source": [
    "print(\"\\nMissing Values in Currency Details Dataset:\")\n",
    "print(currency_details.isnull().sum())"
   ]
  },
  {
   "cell_type": "code",
   "execution_count": 65,
   "metadata": {},
   "outputs": [
    {
     "data": {
      "image/png": "[encoded data removed]",
      "text/plain": [
       "<Figure size 640x480 with 1 Axes>"
      ]
     },
     "metadata": {},
     "output_type": "display_data"
    },
    {
     "name": "stdout",
     "output_type": "stream",
     "text": [
      "         HAS_EMAIL   BIRTH_YEAR  FAILED_SIGN_IN_ATTEMPTS\n",
      "count  9944.000000  9944.000000              9944.000000\n",
      "mean      0.946702  1983.553298                 0.008045\n",
      "std       0.224639    11.350379                 0.129737\n",
      "min       0.000000  1927.000000                 0.000000\n",
      "25%       1.000000  1978.000000                 0.000000\n",
      "50%       1.000000  1986.000000                 0.000000\n",
      "75%       1.000000  1992.000000                 0.000000\n",
      "max       1.000000  2000.000000                 6.000000\n"
     ]
    }
   ],
   "source": [
    "# Check the distribution of the target variable\n",
    "sns.countplot(x='IS_FRAUDSTER', data=users)\n",
    "plt.title('Distribution of Fraudsters vs. Non-Fraudsters')\n",
    "plt.show()\n",
    "\n",
    "# Summary statistics for numeric features in users dataset\n",
    "print(users.describe())"
   ]
  },
  {
   "cell_type": "code",
   "execution_count": 66,
   "metadata": {},
   "outputs": [
    {
     "name": "stdout",
     "output_type": "stream",
     "text": [
      "                                     ID  HAS_EMAIL   PHONE_COUNTRY  \\\n",
      "0  1872820f-e3ac-4c02-bdc7-727897b60043          1  GB||JE||IM||GG   \n",
      "1  545ff94d-66f8-4bea-b398-84425fb2301e          1  GB||JE||IM||GG   \n",
      "2  10376f1a-a28a-4885-8daa-c8ca496026bb          1              ES   \n",
      "3  fd308db7-0753-4377-879f-6ecf2af14e4f          1              FR   \n",
      "4  755fe256-a34d-4853-b7ca-d9bb991a86d3          1  GB||JE||IM||GG   \n",
      "\n",
      "   IS_FRAUDSTER TERMS_VERSION            CREATED_DATE   STATE COUNTRY  \\\n",
      "0         False    2018-05-25 2017-08-06 07:33:33.341  ACTIVE      GB   \n",
      "1         False    2018-01-01 2017-03-07 10:18:59.427  ACTIVE      GB   \n",
      "2         False    2018-09-20 2018-05-31 04:41:24.672  ACTIVE      ES   \n",
      "3         False    2018-05-25 2018-06-01 17:24:23.852  ACTIVE      FR   \n",
      "4         False    2018-09-20 2017-08-09 15:03:33.945  ACTIVE      GB   \n",
      "\n",
      "   BIRTH_YEAR     KYC  FAILED_SIGN_IN_ATTEMPTS  ACCOUNT_AGE  \\\n",
      "0        1971  PASSED                        0         2569   \n",
      "1        1982  PASSED                        0         2721   \n",
      "2        1973  PASSED                        0         2271   \n",
      "3        1986  PASSED                        0         2270   \n",
      "4        1989  PASSED                        0         2566   \n",
      "\n",
      "   TRANSACTION_COUNT  AVG_TRANSACTION_AMOUNT  \\\n",
      "0                6.0            13251.666667   \n",
      "1               11.0             5382.272727   \n",
      "2               60.0             2226.250000   \n",
      "3                2.0              800.000000   \n",
      "4              121.0           147805.776860   \n",
      "\n",
      "                                USER_ID  UNIQUE_MERCHANT_CATEGORIES  \n",
      "0  1872820f-e3ac-4c02-bdc7-727897b60043                         1.0  \n",
      "1  545ff94d-66f8-4bea-b398-84425fb2301e                         3.0  \n",
      "2  10376f1a-a28a-4885-8daa-c8ca496026bb                         1.0  \n",
      "3  fd308db7-0753-4377-879f-6ecf2af14e4f                         0.0  \n",
      "4  755fe256-a34d-4853-b7ca-d9bb991a86d3                        16.0  \n",
      "<class 'pandas.core.frame.DataFrame'>\n",
      "RangeIndex: 9944 entries, 0 to 9943\n",
      "Data columns (total 16 columns):\n",
      " #   Column                      Non-Null Count  Dtype         \n",
      "---  ------                      --------------  -----         \n",
      " 0   ID                          9944 non-null   object        \n",
      " 1   HAS_EMAIL                   9944 non-null   int64         \n",
      " 2   PHONE_COUNTRY               9944 non-null   object        \n",
      " 3   IS_FRAUDSTER                9944 non-null   bool          \n",
      " 4   TERMS_VERSION               9944 non-null   object        \n",
      " 5   CREATED_DATE                9944 non-null   datetime64[ns]\n",
      " 6   STATE                       9944 non-null   object        \n",
      " 7   COUNTRY                     9944 non-null   object        \n",
      " 8   BIRTH_YEAR                  9944 non-null   int64         \n",
      " 9   KYC                         9944 non-null   object        \n",
      " 10  FAILED_SIGN_IN_ATTEMPTS     9944 non-null   int64         \n",
      " 11  ACCOUNT_AGE                 9944 non-null   int64         \n",
      " 12  TRANSACTION_COUNT           9944 non-null   float64       \n",
      " 13  AVG_TRANSACTION_AMOUNT      9944 non-null   float64       \n",
      " 14  USER_ID                     9944 non-null   object        \n",
      " 15  UNIQUE_MERCHANT_CATEGORIES  9944 non-null   float64       \n",
      "dtypes: bool(1), datetime64[ns](1), float64(3), int64(4), object(7)\n",
      "memory usage: 1.1+ MB\n",
      "None\n"
     ]
    }
   ],
   "source": [
    "# Handle missing values by filling or dropping\n",
    "users['TERMS_VERSION'].fillna('unknown', inplace=True)\n",
    "\n",
    "# Feature: Account Age in days\n",
    "users['CREATED_DATE'] = pd.to_datetime(users['CREATED_DATE'])\n",
    "users['ACCOUNT_AGE'] = (datetime.now() - users['CREATED_DATE']).dt.days\n",
    "\n",
    "# Feature: Transactions per user\n",
    "transactions_per_user = transactions.groupby('USER_ID').size().reset_index(name='TRANSACTION_COUNT')\n",
    "\n",
    "# Feature: Average Transaction Amount per user\n",
    "avg_transaction_amount = transactions.groupby('USER_ID')['AMOUNT'].mean().reset_index(name='AVG_TRANSACTION_AMOUNT')\n",
    "\n",
    "# Feature: Number of distinct merchant categories\n",
    "merchant_categories_per_user = transactions.groupby('USER_ID')['MERCHANT_CATEGORY'].nunique().reset_index(name='UNIQUE_MERCHANT_CATEGORIES')\n",
    "\n",
    "# Feature: Total failed sign-in attempts\n",
    "failed_sign_in_attempts = users[['ID', 'FAILED_SIGN_IN_ATTEMPTS']]\n",
    "\n",
    "# Merge the new features into the users dataframe\n",
    "users = users.merge(transactions_per_user, left_on='ID', right_on='USER_ID', how='left').fillna(0)\n",
    "users = users.merge(avg_transaction_amount, left_on='ID', right_on='USER_ID', how='left').fillna(0)\n",
    "users = users.merge(merchant_categories_per_user, left_on='ID', right_on='USER_ID', how='left').fillna(0)\n",
    "\n",
    "# Drop unnecessary columns after merging\n",
    "users.drop(columns=['USER_ID_y', 'USER_ID_x'], inplace=True)\n",
    "\n",
    "# Handle infinite values if any\n",
    "users.replace([np.inf, -np.inf], np.nan, inplace=True)\n",
    "\n",
    "# Fill missing numerical values with 0 (though there should be none after this step)\n",
    "users.fillna(0, inplace=True)\n",
    "\n",
    "# Final dataset overview\n",
    "print(users.head())\n",
    "print(users.info())"
   ]
  },
  {
   "cell_type": "code",
   "execution_count": 70,
   "metadata": {},
   "outputs": [
    {
     "name": "stdout",
     "output_type": "stream",
     "text": [
      "Accuracy: 1.0\n",
      "ROC AUC Score: 1.0\n",
      "\n",
      "Classification Report:\n",
      "               precision    recall  f1-score   support\n",
      "\n",
      "       False       1.00      1.00      1.00      2895\n",
      "        True       1.00      1.00      1.00        89\n",
      "\n",
      "    accuracy                           1.00      2984\n",
      "   macro avg       1.00      1.00      1.00      2984\n",
      "weighted avg       1.00      1.00      1.00      2984\n",
      "\n"
     ]
    }
   ],
   "source": [
    "# Convert CREATED_DATE to year, month, and day\n",
    "users['CREATED_YEAR'] = users['CREATED_DATE'].dt.year\n",
    "users['CREATED_MONTH'] = users['CREATED_DATE'].dt.month\n",
    "users['CREATED_DAY'] = users['CREATED_DATE'].dt.day\n",
    "\n",
    "# Drop the original CREATED_DATE column\n",
    "users = users.drop(columns=['CREATED_DATE'])\n",
    "\n",
    "# Identify categorical columns\n",
    "categorical_features = ['PHONE_COUNTRY', 'TERMS_VERSION', 'STATE', 'COUNTRY', 'KYC']\n",
    "\n",
    "# Create a ColumnTransformer to apply one-hot encoding to the categorical columns\n",
    "preprocessor = ColumnTransformer(\n",
    "    transformers=[\n",
    "        ('cat', OneHotEncoder(handle_unknown='ignore'), categorical_features)\n",
    "    ],\n",
    "    remainder='passthrough'  # Keep the remaining columns as they are\n",
    ")\n",
    "\n",
    "# Define the model pipeline\n",
    "pipeline = Pipeline(steps=[('preprocessor', preprocessor),\n",
    "                           ('model', RandomForestClassifier(random_state=42))])\n",
    "\n",
    "# Split the data into features (X) and target (y)\n",
    "X = users.drop(columns=['IS_FRAUDSTER', 'ID', 'USER_ID'])\n",
    "y = users['IS_FRAUDSTER']\n",
    "\n",
    "# Train-Test Split\n",
    "X_train, X_test, y_train, y_test = train_test_split(X, y, test_size=0.3, random_state=42, stratify=y)\n",
    "\n",
    "# Train the model\n",
    "pipeline.fit(X_train, y_train)\n",
    "\n",
    "# Predictions\n",
    "y_pred = pipeline.predict(X_test)\n",
    "y_pred_proba = pipeline.predict_proba(X_test)[:, 1]\n",
    "\n",
    "# Model Evaluation\n",
    "accuracy = accuracy_score(y_test, y_pred)\n",
    "roc_auc = roc_auc_score(y_test, y_pred_proba)\n",
    "classification_rep = classification_report(y_test, y_pred)\n",
    "\n",
    "print(\"Accuracy:\", accuracy)\n",
    "print(\"ROC AUC Score:\", roc_auc)\n",
    "print(\"\\nClassification Report:\\n\", classification_rep)"
   ]
  },
  {
   "cell_type": "code",
   "execution_count": 71,
   "metadata": {},
   "outputs": [
    {
     "data": {
      "text/plain": [
       "IS_FRAUDSTER\n",
       "False    0.970032\n",
       "True     0.029968\n",
       "Name: proportion, dtype: float64"
      ]
     },
     "execution_count": 71,
     "metadata": {},
     "output_type": "execute_result"
    }
   ],
   "source": [
    "# Check for Class Imbalance\n",
    "y.value_counts(normalize=True)"
   ]
  },
  {
   "cell_type": "code",
   "execution_count": 73,
   "metadata": {},
   "outputs": [
    {
     "name": "stdout",
     "output_type": "stream",
     "text": [
      "Cross-Validation ROC AUC scores: [1. 1. 1. 1. 1.]\n",
      "Mean ROC AUC score: 1.0\n"
     ]
    }
   ],
   "source": [
    "# Cross-Validation\n",
    "from sklearn.model_selection import cross_val_score\n",
    "\n",
    "scores = cross_val_score(pipeline, X, y, cv=5, scoring='roc_auc')\n",
    "print(\"Cross-Validation ROC AUC scores:\", scores)\n",
    "print(\"Mean ROC AUC score:\", scores.mean())"
   ]
  },
  {
   "cell_type": "code",
   "execution_count": 74,
   "metadata": {},
   "outputs": [
    {
     "name": "stdout",
     "output_type": "stream",
     "text": [
      "Confusion Matrix:\n",
      " [[2895    0]\n",
      " [   0   89]]\n"
     ]
    }
   ],
   "source": [
    "# Confusion Matrix:\n",
    "from sklearn.metrics import confusion_matrix\n",
    "\n",
    "cm = confusion_matrix(y_test, y_pred)\n",
    "print(\"Confusion Matrix:\\n\", cm)\n"
   ]
  },
  {
   "cell_type": "code",
   "execution_count": null,
   "metadata": {},
   "outputs": [],
   "source": []
  },
  {
   "cell_type": "code",
   "execution_count": null,
   "metadata": {},
   "outputs": [],
   "source": []
  },
  {
   "cell_type": "code",
   "execution_count": null,
   "metadata": {},
   "outputs": [],
   "source": []
  },
  {
   "cell_type": "code",
   "execution_count": null,
   "metadata": {},
   "outputs": [],
   "source": []
  },
  {
   "cell_type": "code",
   "execution_count": null,
   "metadata": {},
   "outputs": [],
   "source": []
  },
  {
   "cell_type": "code",
   "execution_count": null,
   "metadata": {},
   "outputs": [],
   "source": []
  },
  {
   "cell_type": "code",
   "execution_count": null,
   "metadata": {},
   "outputs": [],
   "source": []
  },
  {
   "cell_type": "code",
   "execution_count": null,
   "metadata": {},
   "outputs": [],
   "source": []
  }
 ],
 "metadata": {
  "colab": {
   "provenance": []
  },
  "kernelspec": {
   "display_name": "Python 3 (ipykernel)",
   "language": "python",
   "name": "python3"
  },
  "language_info": {
   "codemirror_mode": {
    "name": "ipython",
    "version": 3
   },
   "file_extension": ".py",
   "mimetype": "text/x-python",
   "name": "python",
   "nbconvert_exporter": "python",
   "pygments_lexer": "ipython3",
   "version": "3.11.7"
  }
 },
 "nbformat": 4,
 "nbformat_minor": 4
}
