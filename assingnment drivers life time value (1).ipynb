{
 "cells": [
  {
   "cell_type": "markdown",
   "metadata": {
    "id": "3NJg9oZrOejR"
   },
   "source": [
    "#**Drivers Lifetime Value**\n",
    "\n",
    "##**Assignment**\n",
    "\n",
    "After exploring and analyzing the data, please:\n",
    "\n",
    "1. Recommend a Driver's Lifetime Value (i.e., the value of a driver to Lyft over the entire projected lifetime of a driver).\n",
    "2. Please answer the following questions:\n",
    "- What are the main factors that affect a driver's lifetime value?\n",
    "- What is the average projected lifetime of a driver? That is, once a driver is onboarded, how long do they typically continue driving with Lyft?\n",
    "- Do all drivers act alike? Are there specific segments of drivers that generate more value for Lyft than the average driver?\n",
    "- What actionable recommendations are there for the business?\n",
    "\n",
    "3. Prepare and submit a writeup of your findings for consumption by a cross-functional audience.\n",
    "\n",
    "You can make the following assumptions about the Lyft rate card:\n",
    "\n",
    "- Base Fare: USD 2.00\n",
    "- Cost per Mile: USD 1.15\n",
    "- Cost per Minute:  USD 0.22\n",
    "- Service Fee USD:  1.75\n",
    "- Minimum Fare USD:  5.00\n",
    "- Maximum Fare USD:  400.00"
   ]
  },
  {
   "cell_type": "markdown",
   "metadata": {
    "id": "YZxiXkcNOefo"
   },
   "source": [
    "##**Data Description**\n",
    "\n",
    "You'll find three CSV files attached with the following data:\n",
    "\n",
    "**driver_ids.csv**\n",
    "\n",
    "- driver_id Unique identifier for a driver\n",
    "- driver_onboard_date Date on which driver was on-boarded\n",
    "\n",
    "**ride_ids.csv**\n",
    "\n",
    "- driver_id Unique identifier for a driver\n",
    "- ride_id Unique identifier for a ride that was completed by the driver\n",
    "- ride_distance Ride distance in meters\n",
    "- ride_duration Ride duration in seconds\n",
    "- ride_prime_time Prime Time applied on the ride\n",
    "\n",
    "**ride_timestamps.csv**\n",
    "\n",
    "- ride_id Unique identifier for a ride\n",
    "- event describes the type of event; this variable takes the following values:\n",
    "  - requested_at - passenger requested a ride\n",
    "  - accepted_at - driver accepted a passenger request\n",
    "  - arrived_at - driver arrived at pickup point\n",
    "  - picked_up_at - driver picked up the passenger\n",
    "  - dropped_off_at - driver dropped off a passenger at destination\n",
    "\n",
    "**timestamp Time of event**\n",
    "\n",
    "You can assume that:\n",
    "\n",
    "- All rides in the data set occurred in San Francisco\n",
    "- All timestamps in the data set are in UTC\n"
   ]
  },
  {
   "cell_type": "markdown",
   "metadata": {
    "id": "B_4K2QreOedL"
   },
   "source": [
    "###**Practicalities**\n",
    "Please work on the questions in the displayed order. Make sure that the solution reflects your entire thought process - it is more important how the code is structured rather than the final answers.\n",
    "\n",
    "#### To download the dataset <a href=\"https://drive.google.com/drive/folders/1ZCuQJMgTfsdLnJIMBkZK36FjXXdeqzBM?usp=sharing\"> Click here </a>"
   ]
  },
  {
   "cell_type": "code",
   "execution_count": 18,
   "metadata": {},
   "outputs": [
    {
     "data": {
      "text/html": [
       "<div>\n",
       "<style scoped>\n",
       "    .dataframe tbody tr th:only-of-type {\n",
       "        vertical-align: middle;\n",
       "    }\n",
       "\n",
       "    .dataframe tbody tr th {\n",
       "        vertical-align: top;\n",
       "    }\n",
       "\n",
       "    .dataframe thead th {\n",
       "        text-align: right;\n",
       "    }\n",
       "</style>\n",
       "<table border=\"1\" class=\"dataframe\">\n",
       "  <thead>\n",
       "    <tr style=\"text-align: right;\">\n",
       "      <th></th>\n",
       "      <th>ride_id</th>\n",
       "      <th>event</th>\n",
       "      <th>timestamp</th>\n",
       "    </tr>\n",
       "  </thead>\n",
       "  <tbody>\n",
       "    <tr>\n",
       "      <th>0</th>\n",
       "      <td>00003037a262d9ee40e61b5c0718f7f0</td>\n",
       "      <td>requested_at</td>\n",
       "      <td>2016-06-13 09:39:19</td>\n",
       "    </tr>\n",
       "    <tr>\n",
       "      <th>1</th>\n",
       "      <td>00003037a262d9ee40e61b5c0718f7f0</td>\n",
       "      <td>accepted_at</td>\n",
       "      <td>2016-06-13 09:39:51</td>\n",
       "    </tr>\n",
       "    <tr>\n",
       "      <th>2</th>\n",
       "      <td>00003037a262d9ee40e61b5c0718f7f0</td>\n",
       "      <td>arrived_at</td>\n",
       "      <td>2016-06-13 09:44:31</td>\n",
       "    </tr>\n",
       "    <tr>\n",
       "      <th>3</th>\n",
       "      <td>00003037a262d9ee40e61b5c0718f7f0</td>\n",
       "      <td>picked_up_at</td>\n",
       "      <td>2016-06-13 09:44:33</td>\n",
       "    </tr>\n",
       "    <tr>\n",
       "      <th>4</th>\n",
       "      <td>00003037a262d9ee40e61b5c0718f7f0</td>\n",
       "      <td>dropped_off_at</td>\n",
       "      <td>2016-06-13 10:03:05</td>\n",
       "    </tr>\n",
       "  </tbody>\n",
       "</table>\n",
       "</div>"
      ],
      "text/plain": [
       "                            ride_id           event            timestamp\n",
       "0  00003037a262d9ee40e61b5c0718f7f0    requested_at  2016-06-13 09:39:19\n",
       "1  00003037a262d9ee40e61b5c0718f7f0     accepted_at  2016-06-13 09:39:51\n",
       "2  00003037a262d9ee40e61b5c0718f7f0      arrived_at  2016-06-13 09:44:31\n",
       "3  00003037a262d9ee40e61b5c0718f7f0    picked_up_at  2016-06-13 09:44:33\n",
       "4  00003037a262d9ee40e61b5c0718f7f0  dropped_off_at  2016-06-13 10:03:05"
      ]
     },
     "execution_count": 18,
     "metadata": {},
     "output_type": "execute_result"
    }
   ],
   "source": [
    "import pandas as pd\n",
    "\n",
    "# Load the data\n",
    "driver_ids = pd.read_csv(\"C:/Users/manoj/Downloads/driver_ids.csv\")\n",
    "ride_ids = pd.read_csv(\"C:/Users/manoj/Downloads/ride_ids.csv\")\n",
    "ride_timestamps = pd.read_csv(\"C:/Users/manoj/Downloads/ride_timestamps.csv\")\n",
    "\n",
    "# Display the first few rows of each dataframe\n",
    "\n",
    "\n",
    "ride_timestamps.head()\n"
   ]
  },
  {
   "cell_type": "code",
   "execution_count": 19,
   "metadata": {},
   "outputs": [
    {
     "data": {
      "text/html": [
       "<div>\n",
       "<style scoped>\n",
       "    .dataframe tbody tr th:only-of-type {\n",
       "        vertical-align: middle;\n",
       "    }\n",
       "\n",
       "    .dataframe tbody tr th {\n",
       "        vertical-align: top;\n",
       "    }\n",
       "\n",
       "    .dataframe thead th {\n",
       "        text-align: right;\n",
       "    }\n",
       "</style>\n",
       "<table border=\"1\" class=\"dataframe\">\n",
       "  <thead>\n",
       "    <tr style=\"text-align: right;\">\n",
       "      <th></th>\n",
       "      <th>driver_id</th>\n",
       "      <th>ride_id</th>\n",
       "      <th>ride_distance</th>\n",
       "      <th>ride_duration</th>\n",
       "      <th>ride_prime_time</th>\n",
       "    </tr>\n",
       "  </thead>\n",
       "  <tbody>\n",
       "    <tr>\n",
       "      <th>0</th>\n",
       "      <td>002be0ffdc997bd5c50703158b7c2491</td>\n",
       "      <td>006d61cf7446e682f7bc50b0f8a5bea5</td>\n",
       "      <td>1811</td>\n",
       "      <td>327</td>\n",
       "      <td>50</td>\n",
       "    </tr>\n",
       "    <tr>\n",
       "      <th>1</th>\n",
       "      <td>002be0ffdc997bd5c50703158b7c2491</td>\n",
       "      <td>01b522c5c3a756fbdb12e95e87507eda</td>\n",
       "      <td>3362</td>\n",
       "      <td>809</td>\n",
       "      <td>0</td>\n",
       "    </tr>\n",
       "    <tr>\n",
       "      <th>2</th>\n",
       "      <td>002be0ffdc997bd5c50703158b7c2491</td>\n",
       "      <td>029227c4c2971ce69ff2274dc798ef43</td>\n",
       "      <td>3282</td>\n",
       "      <td>572</td>\n",
       "      <td>0</td>\n",
       "    </tr>\n",
       "    <tr>\n",
       "      <th>3</th>\n",
       "      <td>002be0ffdc997bd5c50703158b7c2491</td>\n",
       "      <td>034e861343a63ac3c18a9ceb1ce0ac69</td>\n",
       "      <td>65283</td>\n",
       "      <td>3338</td>\n",
       "      <td>25</td>\n",
       "    </tr>\n",
       "    <tr>\n",
       "      <th>4</th>\n",
       "      <td>002be0ffdc997bd5c50703158b7c2491</td>\n",
       "      <td>034f2e614a2f9fc7f1c2f77647d1b981</td>\n",
       "      <td>4115</td>\n",
       "      <td>823</td>\n",
       "      <td>100</td>\n",
       "    </tr>\n",
       "  </tbody>\n",
       "</table>\n",
       "</div>"
      ],
      "text/plain": [
       "                          driver_id                           ride_id  \\\n",
       "0  002be0ffdc997bd5c50703158b7c2491  006d61cf7446e682f7bc50b0f8a5bea5   \n",
       "1  002be0ffdc997bd5c50703158b7c2491  01b522c5c3a756fbdb12e95e87507eda   \n",
       "2  002be0ffdc997bd5c50703158b7c2491  029227c4c2971ce69ff2274dc798ef43   \n",
       "3  002be0ffdc997bd5c50703158b7c2491  034e861343a63ac3c18a9ceb1ce0ac69   \n",
       "4  002be0ffdc997bd5c50703158b7c2491  034f2e614a2f9fc7f1c2f77647d1b981   \n",
       "\n",
       "   ride_distance  ride_duration  ride_prime_time  \n",
       "0           1811            327               50  \n",
       "1           3362            809                0  \n",
       "2           3282            572                0  \n",
       "3          65283           3338               25  \n",
       "4           4115            823              100  "
      ]
     },
     "execution_count": 19,
     "metadata": {},
     "output_type": "execute_result"
    }
   ],
   "source": [
    "ride_ids.head()"
   ]
  },
  {
   "cell_type": "code",
   "execution_count": 20,
   "metadata": {},
   "outputs": [
    {
     "data": {
      "text/html": [
       "<div>\n",
       "<style scoped>\n",
       "    .dataframe tbody tr th:only-of-type {\n",
       "        vertical-align: middle;\n",
       "    }\n",
       "\n",
       "    .dataframe tbody tr th {\n",
       "        vertical-align: top;\n",
       "    }\n",
       "\n",
       "    .dataframe thead th {\n",
       "        text-align: right;\n",
       "    }\n",
       "</style>\n",
       "<table border=\"1\" class=\"dataframe\">\n",
       "  <thead>\n",
       "    <tr style=\"text-align: right;\">\n",
       "      <th></th>\n",
       "      <th>driver_id</th>\n",
       "      <th>driver_onboard_date</th>\n",
       "    </tr>\n",
       "  </thead>\n",
       "  <tbody>\n",
       "    <tr>\n",
       "      <th>0</th>\n",
       "      <td>002be0ffdc997bd5c50703158b7c2491</td>\n",
       "      <td>2016-03-29 00:00:00</td>\n",
       "    </tr>\n",
       "    <tr>\n",
       "      <th>1</th>\n",
       "      <td>007f0389f9c7b03ef97098422f902e62</td>\n",
       "      <td>2016-03-29 00:00:00</td>\n",
       "    </tr>\n",
       "    <tr>\n",
       "      <th>2</th>\n",
       "      <td>011e5c5dfc5c2c92501b8b24d47509bc</td>\n",
       "      <td>2016-04-05 00:00:00</td>\n",
       "    </tr>\n",
       "    <tr>\n",
       "      <th>3</th>\n",
       "      <td>0152a2f305e71d26cc964f8d4411add9</td>\n",
       "      <td>2016-04-23 00:00:00</td>\n",
       "    </tr>\n",
       "    <tr>\n",
       "      <th>4</th>\n",
       "      <td>01674381af7edd264113d4e6ed55ecda</td>\n",
       "      <td>2016-04-29 00:00:00</td>\n",
       "    </tr>\n",
       "  </tbody>\n",
       "</table>\n",
       "</div>"
      ],
      "text/plain": [
       "                          driver_id  driver_onboard_date\n",
       "0  002be0ffdc997bd5c50703158b7c2491  2016-03-29 00:00:00\n",
       "1  007f0389f9c7b03ef97098422f902e62  2016-03-29 00:00:00\n",
       "2  011e5c5dfc5c2c92501b8b24d47509bc  2016-04-05 00:00:00\n",
       "3  0152a2f305e71d26cc964f8d4411add9  2016-04-23 00:00:00\n",
       "4  01674381af7edd264113d4e6ed55ecda  2016-04-29 00:00:00"
      ]
     },
     "execution_count": 20,
     "metadata": {},
     "output_type": "execute_result"
    }
   ],
   "source": [
    "driver_ids.head()"
   ]
  },
  {
   "cell_type": "code",
   "execution_count": 21,
   "metadata": {},
   "outputs": [],
   "source": [
    "# Convert necessary columns to appropriate data types\n",
    "driver_ids['driver_onboard_date'] = pd.to_datetime(driver_ids['driver_onboard_date'])\n",
    "ride_timestamps['timestamp'] = pd.to_datetime(ride_timestamps['timestamp'])"
   ]
  },
  {
   "cell_type": "code",
   "execution_count": 22,
   "metadata": {},
   "outputs": [],
   "source": [
    "# Merge ride_timestamps with ride_ids to include driver_id\n",
    "merged_rides = pd.merge(ride_timestamps, ride_ids[['ride_id', 'driver_id']], on='ride_id')"
   ]
  },
  {
   "cell_type": "code",
   "execution_count": 23,
   "metadata": {},
   "outputs": [],
   "source": [
    "# Determine the last ride date for each driver\n",
    "driver_last_ride = merged_rides[merged_rides['event'] == 'dropped_off_at'].groupby('driver_id')['timestamp'].max().reset_index()\n",
    "driver_last_ride.columns = ['driver_id', 'last_ride_date']"
   ]
  },
  {
   "cell_type": "code",
   "execution_count": 24,
   "metadata": {},
   "outputs": [],
   "source": [
    "# Calculate driver lifetime\n",
    "driver_lifetime = pd.merge(driver_ids, driver_last_ride, on='driver_id')\n",
    "driver_lifetime['driver_lifetime_days'] = (driver_lifetime['last_ride_date'] - driver_lifetime['driver_onboard_date']).dt.days"
   ]
  },
  {
   "cell_type": "code",
   "execution_count": 25,
   "metadata": {},
   "outputs": [
    {
     "data": {
      "text/html": [
       "<div>\n",
       "<style scoped>\n",
       "    .dataframe tbody tr th:only-of-type {\n",
       "        vertical-align: middle;\n",
       "    }\n",
       "\n",
       "    .dataframe tbody tr th {\n",
       "        vertical-align: top;\n",
       "    }\n",
       "\n",
       "    .dataframe thead th {\n",
       "        text-align: right;\n",
       "    }\n",
       "</style>\n",
       "<table border=\"1\" class=\"dataframe\">\n",
       "  <thead>\n",
       "    <tr style=\"text-align: right;\">\n",
       "      <th></th>\n",
       "      <th>driver_id</th>\n",
       "      <th>driver_onboard_date</th>\n",
       "      <th>last_ride_date</th>\n",
       "      <th>driver_lifetime_days</th>\n",
       "    </tr>\n",
       "  </thead>\n",
       "  <tbody>\n",
       "    <tr>\n",
       "      <th>0</th>\n",
       "      <td>002be0ffdc997bd5c50703158b7c2491</td>\n",
       "      <td>2016-03-29</td>\n",
       "      <td>2016-06-23 10:29:53</td>\n",
       "      <td>86</td>\n",
       "    </tr>\n",
       "    <tr>\n",
       "      <th>1</th>\n",
       "      <td>007f0389f9c7b03ef97098422f902e62</td>\n",
       "      <td>2016-03-29</td>\n",
       "      <td>2016-06-22 13:28:38</td>\n",
       "      <td>85</td>\n",
       "    </tr>\n",
       "    <tr>\n",
       "      <th>2</th>\n",
       "      <td>011e5c5dfc5c2c92501b8b24d47509bc</td>\n",
       "      <td>2016-04-05</td>\n",
       "      <td>2016-06-12 20:30:38</td>\n",
       "      <td>68</td>\n",
       "    </tr>\n",
       "    <tr>\n",
       "      <th>3</th>\n",
       "      <td>0152a2f305e71d26cc964f8d4411add9</td>\n",
       "      <td>2016-04-23</td>\n",
       "      <td>2016-06-26 10:36:13</td>\n",
       "      <td>64</td>\n",
       "    </tr>\n",
       "    <tr>\n",
       "      <th>4</th>\n",
       "      <td>01674381af7edd264113d4e6ed55ecda</td>\n",
       "      <td>2016-04-29</td>\n",
       "      <td>2016-06-24 13:27:38</td>\n",
       "      <td>56</td>\n",
       "    </tr>\n",
       "  </tbody>\n",
       "</table>\n",
       "</div>"
      ],
      "text/plain": [
       "                          driver_id driver_onboard_date      last_ride_date  \\\n",
       "0  002be0ffdc997bd5c50703158b7c2491          2016-03-29 2016-06-23 10:29:53   \n",
       "1  007f0389f9c7b03ef97098422f902e62          2016-03-29 2016-06-22 13:28:38   \n",
       "2  011e5c5dfc5c2c92501b8b24d47509bc          2016-04-05 2016-06-12 20:30:38   \n",
       "3  0152a2f305e71d26cc964f8d4411add9          2016-04-23 2016-06-26 10:36:13   \n",
       "4  01674381af7edd264113d4e6ed55ecda          2016-04-29 2016-06-24 13:27:38   \n",
       "\n",
       "   driver_lifetime_days  \n",
       "0                    86  \n",
       "1                    85  \n",
       "2                    68  \n",
       "3                    64  \n",
       "4                    56  "
      ]
     },
     "execution_count": 25,
     "metadata": {},
     "output_type": "execute_result"
    }
   ],
   "source": [
    "# Display the first few rows of driver_lifetime to check the results\n",
    "driver_lifetime.head()"
   ]
  },
  {
   "cell_type": "code",
   "execution_count": 27,
   "metadata": {},
   "outputs": [],
   "source": [
    "#Calculate Total Revenue for Each Driver\n",
    "#Convert ride distance from meters to miles and duration from seconds to minutes\n",
    "ride_ids['ride_distance_miles'] = ride_ids['ride_distance'] * 0.000621371\n",
    "ride_ids['ride_duration_minutes'] = ride_ids['ride_duration'] / 60\n"
   ]
  },
  {
   "cell_type": "code",
   "execution_count": 28,
   "metadata": {},
   "outputs": [],
   "source": [
    "#Calculate the revenue for each ride\n",
    "def calculate_revenue(distance, duration, prime_time):\n",
    "    base_fare = 2.00\n",
    "    cost_per_mile = 1.15\n",
    "    cost_per_minute = 0.22\n",
    "    service_fee = 1.75\n",
    "    \n",
    "    ride_revenue = base_fare + (cost_per_mile * distance) + (cost_per_minute * duration) + service_fee\n",
    "    ride_revenue *= (1 + prime_time / 100)  # Apply prime time multiplier\n",
    "    return max(min(ride_revenue, 400.00), 5.00)  # Enforce min and max fare\n",
    "\n",
    "ride_ids['ride_revenue'] = ride_ids.apply(lambda row: calculate_revenue(row['ride_distance_miles'], row['ride_duration_minutes'], row['ride_prime_time']), axis=1)\n"
   ]
  },
  {
   "cell_type": "code",
   "execution_count": 29,
   "metadata": {},
   "outputs": [],
   "source": [
    "#Calculate total revenue per driver\n",
    "driver_revenue = ride_ids.groupby('driver_id')['ride_revenue'].sum().reset_index()\n",
    "driver_revenue.columns = ['driver_id', 'total_revenue']"
   ]
  },
  {
   "cell_type": "code",
   "execution_count": 30,
   "metadata": {},
   "outputs": [],
   "source": [
    "#Analyze Main Factors Affecting Driver's Lifetime Value\n",
    "#Merge driver revenue with driver lifetime\n",
    "driver_data = pd.merge(driver_lifetime, driver_revenue, on='driver_id')"
   ]
  },
  {
   "cell_type": "code",
   "execution_count": 31,
   "metadata": {},
   "outputs": [
    {
     "name": "stdout",
     "output_type": "stream",
     "text": [
      "Average Total Revenue per Driver: 3046.719715666579\n",
      "Average Lifetime (in days) per Driver: 55.10513739545998\n"
     ]
    }
   ],
   "source": [
    "#Analyze the data\n",
    "# Basic statistics\n",
    "avg_revenue = driver_data['total_revenue'].mean()\n",
    "avg_lifetime_days = driver_data['driver_lifetime_days'].mean()\n",
    "\n",
    "# Display basic statistics\n",
    "print(\"Average Total Revenue per Driver:\", avg_revenue)\n",
    "print(\"Average Lifetime (in days) per Driver:\", avg_lifetime_days)"
   ]
  },
  {
   "cell_type": "code",
   "execution_count": 32,
   "metadata": {},
   "outputs": [
    {
     "name": "stderr",
     "output_type": "stream",
     "text": [
      "C:\\Users\\manoj\\AppData\\Local\\Temp\\ipykernel_22948\\186674455.py:4: FutureWarning: The default of observed=False is deprecated and will be changed to True in a future version of pandas. Pass observed=False to retain current behavior or observed=True to adopt the future default and silence this warning.\n",
      "  revenue_segments = driver_data.groupby('revenue_quartile').agg({\n"
     ]
    }
   ],
   "source": [
    "#Identify Specific Segments of Drivers\n",
    "#Segment drivers by revenue quartiles\n",
    "driver_data['revenue_quartile'] = pd.qcut(driver_data['total_revenue'], 4, labels=['Low', 'Medium', 'High', 'Very High'])\n",
    "revenue_segments = driver_data.groupby('revenue_quartile').agg({\n",
    "    'total_revenue': 'mean',\n",
    "    'driver_lifetime_days': 'mean',\n",
    "    'driver_id': 'count'\n",
    "}).reset_index()\n",
    "revenue_segments.columns = ['revenue_quartile', 'avg_revenue', 'avg_lifetime_days', 'num_drivers']"
   ]
  },
  {
   "cell_type": "code",
   "execution_count": 33,
   "metadata": {},
   "outputs": [
    {
     "data": {
      "text/html": [
       "<div>\n",
       "<style scoped>\n",
       "    .dataframe tbody tr th:only-of-type {\n",
       "        vertical-align: middle;\n",
       "    }\n",
       "\n",
       "    .dataframe tbody tr th {\n",
       "        vertical-align: top;\n",
       "    }\n",
       "\n",
       "    .dataframe thead th {\n",
       "        text-align: right;\n",
       "    }\n",
       "</style>\n",
       "<table border=\"1\" class=\"dataframe\">\n",
       "  <thead>\n",
       "    <tr style=\"text-align: right;\">\n",
       "      <th></th>\n",
       "      <th>revenue_quartile</th>\n",
       "      <th>avg_revenue</th>\n",
       "      <th>avg_lifetime_days</th>\n",
       "      <th>num_drivers</th>\n",
       "    </tr>\n",
       "  </thead>\n",
       "  <tbody>\n",
       "    <tr>\n",
       "      <th>0</th>\n",
       "      <td>Low</td>\n",
       "      <td>453.880395</td>\n",
       "      <td>36.433333</td>\n",
       "      <td>210</td>\n",
       "    </tr>\n",
       "    <tr>\n",
       "      <th>1</th>\n",
       "      <td>Medium</td>\n",
       "      <td>1556.148513</td>\n",
       "      <td>52.124402</td>\n",
       "      <td>209</td>\n",
       "    </tr>\n",
       "    <tr>\n",
       "      <th>2</th>\n",
       "      <td>High</td>\n",
       "      <td>3754.983218</td>\n",
       "      <td>64.875598</td>\n",
       "      <td>209</td>\n",
       "    </tr>\n",
       "    <tr>\n",
       "      <th>3</th>\n",
       "      <td>Very High</td>\n",
       "      <td>6434.272666</td>\n",
       "      <td>67.076555</td>\n",
       "      <td>209</td>\n",
       "    </tr>\n",
       "  </tbody>\n",
       "</table>\n",
       "</div>"
      ],
      "text/plain": [
       "  revenue_quartile  avg_revenue  avg_lifetime_days  num_drivers\n",
       "0              Low   453.880395          36.433333          210\n",
       "1           Medium  1556.148513          52.124402          209\n",
       "2             High  3754.983218          64.875598          209\n",
       "3        Very High  6434.272666          67.076555          209"
      ]
     },
     "execution_count": 33,
     "metadata": {},
     "output_type": "execute_result"
    }
   ],
   "source": [
    "#Display revenue segments\n",
    "revenue_segments"
   ]
  },
  {
   "cell_type": "code",
   "execution_count": null,
   "metadata": {},
   "outputs": [],
   "source": [
    "(\"Findings\n",
    "Average Total Revenue per Driver: The average total revenue generated by a driver over their lifetime with Lyft is approximately $3046.72.\n",
    "\n",
    "Average Lifetime per Driver: On average, a driver remains active with Lyft for about 55.1 days.\n",
    "\n",
    "Driver Segments:\n",
    "\n",
    "Low Revenue Drivers:\n",
    "Average Revenue: $453.88\n",
    "Average Lifetime: 36.4 days\n",
    "Number of Drivers: 210\n",
    "Medium Revenue Drivers:\n",
    "Average Revenue: $1556.15\n",
    "Average Lifetime: 52.1 days\n",
    "Number of Drivers: 209\n",
    "High Revenue Drivers:\n",
    "Average Revenue: $3754.98\n",
    "Average Lifetime: 64.9 days\n",
    "Number of Drivers: 209\n",
    "Very High Revenue Drivers:\n",
    "Average Revenue: $6434.27\n",
    "Average Lifetime: 67.1 days\n",
    "Number of Drivers: 209\n",
    "Main Factors Affecting Driver's Lifetime Value\n",
    "Ride Frequency: Drivers with higher ride frequencies tend to generate more revenue.\n",
    "Ride Duration and Distance: Longer and farther rides contribute to higher earnings.\n",
    "Prime Time Rides: Rides taken during prime time periods, which have a higher fare multiplier, significantly increase driver revenue.\n",
    "Driver Retention: Drivers who stay longer with Lyft tend to accumulate higher revenues.\n",
    "Recommendations\n",
    "Driver Retention Programs:\n",
    "\n",
    "Incentives for Longevity: Offer bonuses or incentives for drivers who stay active beyond the average lifetime of 55 days.\n",
    "Engagement Activities: Regularly engage with drivers through feedback sessions, performance reviews, and personalized support to address their needs \n",
    "and concerns.\n",
    "\n",
    "Incentive Programs:\n",
    "\n",
    "Performance-Based Bonuses: Implement a tiered bonus system that rewards drivers based on the number of rides completed, total distance driven, or \n",
    "total revenue generated.\n",
    "Prime Time Promotions: Encourage drivers to operate during prime time periods by offering additional incentives or bonuses.\n",
    "\n",
    "Targeted Support:\n",
    "\n",
    "New Driver Support: Provide comprehensive training and support to new drivers to help them maximize their earnings potential early on.\n",
    "Segment-Specific Strategies: Develop tailored strategies for different driver segments (Low, Medium, High, Very High) to address their unique needs \n",
    "and optimize their performance.\n",
    "Marketing and Recruitment:\n",
    "\n",
    "Attract High-Performing Drivers: Focus marketing efforts on attracting drivers who are likely to perform well, based on historical data of high-revenue\n",
    "drivers.\n",
    "Referral Programs: Implement referral programs to encourage existing drivers to refer high-quality new drivers.\n",
    "Writeup for Cross-Functional Audience\n",
    "Executive Summary:\n",
    "The analysis of driver data at Lyft reveals key insights into driver behavior and revenue generation. On average, drivers generate $3046.72 over a \n",
    "period of 55.1 days. Segmenting drivers into four revenue quartiles (Low, Medium, High, Very High) helps in identifying specific strategies to improve \n",
    "driver retention and performance.\n",
    "\n",
    "Main Factors:\n",
    "\n",
    "Ride frequency, duration, and distance are crucial in determining driver revenue.\n",
    "Prime time rides significantly boost earnings.\n",
    "Retention is vital for maximizing driver lifetime value.\n",
    "Recommendations:\n",
    "To enhance driver retention and increase revenue, Lyft should implement driver retention programs, performance-based incentives, and targeted support.\n",
    "Additionally, marketing efforts should focus on attracting high-performing drivers, and referral programs can help bring in quality new drivers.\n",
    "\n",
    "This comprehensive approach will not only increase the lifetime value of drivers but also contribute to overall business growth and customer \n",
    "satisfaction.\n",
    "\n",
    "\")"
   ]
  },
  {
   "cell_type": "code",
   "execution_count": null,
   "metadata": {},
   "outputs": [],
   "source": []
  },
  {
   "cell_type": "code",
   "execution_count": null,
   "metadata": {},
   "outputs": [],
   "source": []
  },
  {
   "cell_type": "code",
   "execution_count": null,
   "metadata": {},
   "outputs": [],
   "source": []
  },
  {
   "cell_type": "code",
   "execution_count": null,
   "metadata": {},
   "outputs": [],
   "source": []
  },
  {
   "cell_type": "code",
   "execution_count": null,
   "metadata": {},
   "outputs": [],
   "source": []
  },
  {
   "cell_type": "code",
   "execution_count": null,
   "metadata": {},
   "outputs": [],
   "source": []
  },
  {
   "cell_type": "code",
   "execution_count": null,
   "metadata": {},
   "outputs": [],
   "source": []
  },
  {
   "cell_type": "code",
   "execution_count": null,
   "metadata": {},
   "outputs": [],
   "source": []
  }
 ],
 "metadata": {
  "colab": {
   "provenance": []
  },
  "kernelspec": {
   "display_name": "Python 3 (ipykernel)",
   "language": "python",
   "name": "python3"
  },
  "language_info": {
   "codemirror_mode": {
    "name": "ipython",
    "version": 3
   },
   "file_extension": ".py",
   "mimetype": "text/x-python",
   "name": "python",
   "nbconvert_exporter": "python",
   "pygments_lexer": "ipython3",
   "version": "3.11.7"
  }
 },
 "nbformat": 4,
 "nbformat_minor": 4
}
