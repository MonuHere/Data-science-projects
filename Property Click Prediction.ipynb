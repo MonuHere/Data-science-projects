{
 "cells": [
  {
   "cell_type": "markdown",
   "metadata": {
    "id": "1-4tvlyBfQ5t"
   },
   "source": [
    "#**Property Click Prediction**\n",
    "\n",
    "###**Assignment**\n",
    "\n",
    "We are interested in studying and statistically modelling property interactions. We would like to have a predictive model that would say the number of interactions that a property would receive in a period of time. For simplicity let’s say we would like to predict the number of interactions that a property would receive within 3 days of its activation and 7 days of its activation. However this part is open ended and you could bring your own time intervals into the problem. This is the part of your artistry in data science. In the end we need to profess the number of interaction that a certain kind of property would receive within a given number of days. We cannot do a time series forecasting here considering the limited amount of data that could shared as a part of an assignment. You may clean the data, merge them, do an EDA, visualize and build your model.\n"
   ]
  },
  {
   "cell_type": "markdown",
   "metadata": {
    "id": "y8EngXs4fQ5E"
   },
   "source": [
    "###**Data Description**\n",
    "\n",
    "Unzip the datasets.zip file to find the following 3 data sets:\n",
    "\n",
    "property_data_set.csv :\n",
    "\n",
    "- Properties data containing various features like activation_date, BHK type, locality, property size, property age, rent, apartment type etc.\n",
    "- activation_date is the date property got activated on NoBroker. Fields like lift, gym etc are binary valued - 1 indicating presence and 0 indicating absence. All other fields are self-explanatory.\n",
    "- You may use these along with the rest of the data sets to engineer the features that you would use in your study\n",
    "\n",
    "property_photos.tsv :\n",
    "\n",
    "- Data containing photo counts of properties\n",
    "- photo_urls column contains string values that you have to parse to obtain the number of photos uploaded on a property\n",
    "- Each value in the photo_url column is supposed to be a string representation of an array of json [ in python terms a list of dictionaries ] where each json object represents one image. However due to some unforeseen events, these values got corrupted and lost their valid json array representation. You could see this if you observe the data closely. Hint: There is a missing “ before ‘title’ for the first json object in each value. There is also an additional “ at the end of each value. Also you must remove all the \\\\ to get a valid json representation.\n",
    "- Your objective is to get the number of photos uploaded for a property. For this you should correct the corrupt string and make it a valid json. Once you have a valid json string, you can get the length of this array, which would be the number of photos uploaded on the property.\n",
    "- Also note that these are not images, but just names that we use to point to images. You are NOT given the images nor do we expect you to have them. All that you are expected to do it get the number of photos on each property by cleaning up the corrupt invalid json array string.\n",
    "- NULL/NaN values indicate absence of photos on the property, ie; photo_count = 0\n",
    "\n",
    "property_interactions.csv :\n",
    "\n",
    "- Data containing the timestamps of interaction on the properties.\n",
    "- Each request_date value represents the timestamp of a unique valid interaction on a property (contact owner happened and a user received the owner contact phone number)\n",
    "- Therefore if you count the number of times each property has appeared in this table, it tells you the number of interaction received on this property\n",
    "- You will use this request_date along with the activation_date in our first table and other features in our study"
   ]
  },
  {
   "cell_type": "markdown",
   "metadata": {
    "id": "JLvAXbo5fQ4n"
   },
   "source": [
    "##**Practicalities**\n",
    "Please go through all the instructions and data descriptions carefully before getting on the ground.\n",
    "\n",
    "\n",
    "#### To download the dataset <a href=\"https://drive.google.com/drive/folders/1gHM1Tieb8aiAVLqKVvPB7WHAi7GEcldf?usp=sharing\"> Click here </a>"
   ]
  },
  {
   "cell_type": "code",
   "execution_count": 33,
   "metadata": {},
   "outputs": [],
   "source": [
    "import pandas as pd\n",
    "import os\n",
    "import json\n",
    "from sklearn.preprocessing import OneHotEncoder\n",
    "from sklearn.model_selection import train_test_split\n",
    "from sklearn.ensemble import RandomForestRegressor\n",
    "from sklearn.metrics import mean_squared_error\n",
    "\n",
    "# Load the data\n",
    "property_data = pd.read_csv(\"C:/Users/manoj/Downloads/property_data_set.csv\")\n",
    "property_interactions = pd.read_csv(\"C:/Users/manoj/Downloads/property_interactions.csv\")\n",
    "property_photos = pd.read_csv(\"C:/Users/manoj/Downloads/property_photos.tsv\", sep='\\t')\n"
   ]
  },
  {
   "cell_type": "code",
   "execution_count": 34,
   "metadata": {},
   "outputs": [
    {
     "name": "stdout",
     "output_type": "stream",
     "text": [
      "Property Data Set:\n",
      "                        property_id  type   activation_date  bathroom  floor  \\\n",
      "0  ff808081469fd6e20146a5af948000ea  BHK2  09-03-2017 14:36         1      3   \n",
      "1  ff8080814702d3d10147068359d200cd  BHK2  07-03-2017 12:02         2      4   \n",
      "2  ff808081470c645401470fb03f5800a6  BHK2  10-03-2017 13:43         2      0   \n",
      "3  ff808081470c6454014715eaa5960281  BHK3  09-03-2017 22:16         2      3   \n",
      "4  ff808081474aa867014771a0298f0aa6  BHK1  15-03-2017 18:29         1      1   \n",
      "\n",
      "   total_floor      furnishing  gym   latitude  longitude  ... lift  \\\n",
      "0          4.0  SEMI_FURNISHED    1  12.876174  77.596571  ...    1   \n",
      "1         11.0  SEMI_FURNISHED    1  13.018444  77.678122  ...    1   \n",
      "2          4.0   NOT_FURNISHED    1  12.975072  77.665865  ...    1   \n",
      "3          4.0  SEMI_FURNISHED    0  12.888169  77.591282  ...    0   \n",
      "4          2.0  SEMI_FURNISHED    0  12.990243  77.712962  ...    0   \n",
      "\n",
      "           locality       parking property_age  property_size  swimming_pool  \\\n",
      "0          Hulimavu          BOTH            2            850              1   \n",
      "1  Ramamurthy Nagar          BOTH            1           1233              1   \n",
      "2          GM Palya  FOUR_WHEELER            0           1200              0   \n",
      "3           Arakere          BOTH            1           1300              0   \n",
      "4             Hoodi          BOTH            4            450              0   \n",
      "\n",
      "   pin_code   rent  deposit  building_type  \n",
      "0  560076.0  12000   120000             AP  \n",
      "1  560016.0  20000   150000             AP  \n",
      "2  560075.0  15000    75000             AP  \n",
      "3  560076.0  17000   150000             AP  \n",
      "4  560048.0   6500    40000             IF  \n",
      "\n",
      "[5 rows x 21 columns] \n",
      "\n",
      "Property Data Set Info:\n",
      "<class 'pandas.core.frame.DataFrame'>\n",
      "RangeIndex: 28888 entries, 0 to 28887\n",
      "Data columns (total 21 columns):\n",
      " #   Column           Non-Null Count  Dtype  \n",
      "---  ------           --------------  -----  \n",
      " 0   property_id      28888 non-null  object \n",
      " 1   type             28888 non-null  object \n",
      " 2   activation_date  28888 non-null  object \n",
      " 3   bathroom         28888 non-null  int64  \n",
      " 4   floor            28888 non-null  int64  \n",
      " 5   total_floor      28845 non-null  float64\n",
      " 6   furnishing       28888 non-null  object \n",
      " 7   gym              28888 non-null  int64  \n",
      " 8   latitude         28888 non-null  float64\n",
      " 9   longitude        28888 non-null  float64\n",
      " 10  lease_type       28888 non-null  object \n",
      " 11  lift             28888 non-null  int64  \n",
      " 12  locality         28888 non-null  object \n",
      " 13  parking          28888 non-null  object \n",
      " 14  property_age     28888 non-null  int64  \n",
      " 15  property_size    28888 non-null  int64  \n",
      " 16  swimming_pool    28888 non-null  int64  \n",
      " 17  pin_code         28563 non-null  float64\n",
      " 18  rent             28888 non-null  int64  \n",
      " 19  deposit          28888 non-null  int64  \n",
      " 20  building_type    28809 non-null  object \n",
      "dtypes: float64(4), int64(9), object(8)\n",
      "memory usage: 4.6+ MB\n",
      "None \n",
      "\n",
      "Property Data Set Description:\n",
      "                             property_id   type   activation_date  \\\n",
      "count                              28888  28888             28888   \n",
      "unique                             28888      6             18534   \n",
      "top     ff808081469fd6e20146a5af948000ea   BHK2  02-03-2017 19:23   \n",
      "freq                                   1  14071                35   \n",
      "mean                                 NaN    NaN               NaN   \n",
      "std                                  NaN    NaN               NaN   \n",
      "min                                  NaN    NaN               NaN   \n",
      "25%                                  NaN    NaN               NaN   \n",
      "50%                                  NaN    NaN               NaN   \n",
      "75%                                  NaN    NaN               NaN   \n",
      "max                                  NaN    NaN               NaN   \n",
      "\n",
      "            bathroom         floor   total_floor      furnishing  \\\n",
      "count   28888.000000  28888.000000  28845.000000           28888   \n",
      "unique           NaN           NaN           NaN               3   \n",
      "top              NaN           NaN           NaN  SEMI_FURNISHED   \n",
      "freq             NaN           NaN           NaN           22463   \n",
      "mean        1.795867      1.786659      3.518807             NaN   \n",
      "std         0.778676      2.361768      3.362536             NaN   \n",
      "min         0.000000      0.000000      0.000000             NaN   \n",
      "25%         1.000000      0.000000      2.000000             NaN   \n",
      "50%         2.000000      1.000000      3.000000             NaN   \n",
      "75%         2.000000      2.000000      4.000000             NaN   \n",
      "max        22.000000    123.000000     38.000000             NaN   \n",
      "\n",
      "                 gym      latitude     longitude  ...          lift  \\\n",
      "count   28888.000000  28888.000000  28888.000000  ...  28888.000000   \n",
      "unique           NaN           NaN           NaN  ...           NaN   \n",
      "top              NaN           NaN           NaN  ...           NaN   \n",
      "freq             NaN           NaN           NaN  ...           NaN   \n",
      "mean        0.165951     12.957859     77.605186  ...      0.279009   \n",
      "std         0.372043      0.219500      0.921003  ...      0.448520   \n",
      "min         0.000000      0.000000      0.000000  ...      0.000000   \n",
      "25%         0.000000     12.906324     77.563295  ...      0.000000   \n",
      "50%         0.000000     12.953939     77.614568  ...      0.000000   \n",
      "75%         0.000000     13.009369     77.669235  ...      1.000000   \n",
      "max         1.000000     21.176277     80.256293  ...      1.000000   \n",
      "\n",
      "          locality parking  property_age  property_size  swimming_pool  \\\n",
      "count        28888   28888  28888.000000   28888.000000   28888.000000   \n",
      "unique        2368       4           NaN            NaN            NaN   \n",
      "top     Whitefield    BOTH           NaN            NaN            NaN   \n",
      "freq           745   13809           NaN            NaN            NaN   \n",
      "mean           NaN     NaN      4.380539     966.338999       0.142585   \n",
      "std            NaN     NaN      7.458914     619.390016       0.349655   \n",
      "min            NaN     NaN      0.000000       0.000000       0.000000   \n",
      "25%            NaN     NaN      0.000000     600.000000       0.000000   \n",
      "50%            NaN     NaN      3.000000     900.000000       0.000000   \n",
      "75%            NaN     NaN      6.000000    1200.000000       0.000000   \n",
      "max            NaN     NaN    800.000000   40000.000000       1.000000   \n",
      "\n",
      "            pin_code          rent       deposit  building_type  \n",
      "count   2.856300e+04  28888.000000  2.888800e+04          28809  \n",
      "unique           NaN           NaN           NaN              3  \n",
      "top              NaN           NaN           NaN             IF  \n",
      "freq             NaN           NaN           NaN          16557  \n",
      "mean    5.615600e+05  14430.768797  1.233257e+05            NaN  \n",
      "std     8.979452e+04   9055.133718  1.255028e+05            NaN  \n",
      "min     0.000000e+00   1000.000000  0.000000e+00            NaN  \n",
      "25%     5.600400e+05   8000.000000  5.000000e+04            NaN  \n",
      "50%     5.600670e+05  12500.000000  1.000000e+05            NaN  \n",
      "75%     5.600840e+05  18000.000000  1.500000e+05            NaN  \n",
      "max     5.601000e+06  75000.000000  4.200000e+06            NaN  \n",
      "\n",
      "[11 rows x 21 columns]\n"
     ]
    }
   ],
   "source": [
    "# Display the first few rows of each dataset\n",
    "print(\"Property Data Set:\")\n",
    "print(property_data.head(), \"\\n\")\n",
    "print(\"Property Data Set Info:\")\n",
    "print(property_data.info(), \"\\n\")\n",
    "print(\"Property Data Set Description:\")\n",
    "print(property_data.describe(include='all'))\n"
   ]
  },
  {
   "cell_type": "code",
   "execution_count": 35,
   "metadata": {},
   "outputs": [
    {
     "name": "stdout",
     "output_type": "stream",
     "text": [
      "Property Photos:\n",
      "                        property_id  \\\n",
      "0  ff808081469fd6e20146a5af948000ea   \n",
      "1  ff8080814702d3d10147068359d200cd   \n",
      "2  ff808081470c645401470fb03f5800a6   \n",
      "3  ff808081470c6454014715eaa5960281   \n",
      "4  ff808081474aa867014771a0298f0aa6   \n",
      "\n",
      "                                          photo_urls  \n",
      "0  [{\\title\\\":\\\"Balcony\\\",\\\"name\\\":\\\"IMG_20131006...  \n",
      "1                                                NaN  \n",
      "2  [{\\title\\\":\\\"Bedroom\\\",\\\"name\\\":\\\"ff808081470c...  \n",
      "3  [{\\title\\\":\\\"Bedroom\\\",\\\"name\\\":\\\"Screenshot_7...  \n",
      "4  [{\\title\\\":\\\"Other\\\",\\\"name\\\":\\\"ff808081474aa8...   \n",
      "\n",
      "Property Photos Info:\n",
      "<class 'pandas.core.frame.DataFrame'>\n",
      "RangeIndex: 28888 entries, 0 to 28887\n",
      "Data columns (total 2 columns):\n",
      " #   Column       Non-Null Count  Dtype \n",
      "---  ------       --------------  ----- \n",
      " 0   property_id  28888 non-null  object\n",
      " 1   photo_urls   17866 non-null  object\n",
      "dtypes: object(2)\n",
      "memory usage: 451.5+ KB\n",
      "None \n",
      "\n",
      "Property Photos Description:\n",
      "                             property_id photo_urls\n",
      "count                              28888      17866\n",
      "unique                             28888      17643\n",
      "top     ff808081469fd6e20146a5af948000ea         []\n",
      "freq                                   1        224\n"
     ]
    }
   ],
   "source": [
    "print(\"Property Photos:\")\n",
    "print(property_photos.head(), \"\\n\")\n",
    "print(\"Property Photos Info:\")\n",
    "print(property_photos.info(), \"\\n\")\n",
    "print(\"Property Photos Description:\")\n",
    "print(property_photos.describe(include='all'))\n"
   ]
  },
  {
   "cell_type": "code",
   "execution_count": 36,
   "metadata": {},
   "outputs": [
    {
     "name": "stdout",
     "output_type": "stream",
     "text": [
      "Property Interactions:\n",
      "                        property_id         request_date\n",
      "0  ff808081469fd6e20146a5af948000ea  2017-03-10 17:42:34\n",
      "1  ff808081469fd6e20146a5af948000ea  2017-03-09 15:51:17\n",
      "2  ff808081469fd6e20146a5af948000ea  2017-03-10 17:30:22\n",
      "3  ff808081469fd6e20146a5af948000ea  2017-03-11 17:48:46\n",
      "4  ff8080814702d3d10147068359d200cd  2017-03-30 19:59:15\n",
      "Property Interactions Info:\n",
      "<class 'pandas.core.frame.DataFrame'>\n",
      "RangeIndex: 170611 entries, 0 to 170610\n",
      "Data columns (total 2 columns):\n",
      " #   Column        Non-Null Count   Dtype \n",
      "---  ------        --------------   ----- \n",
      " 0   property_id   170611 non-null  object\n",
      " 1   request_date  170611 non-null  object\n",
      "dtypes: object(2)\n",
      "memory usage: 2.6+ MB\n",
      "None \n",
      "\n",
      "Property Interactions Description:\n",
      "                             property_id         request_date\n",
      "count                             170611               170611\n",
      "unique                             22779               166503\n",
      "top     ff80818159e061800159e4614bf4368d  2017-04-03 13:17:51\n",
      "freq                                 193                    3\n"
     ]
    }
   ],
   "source": [
    "print(\"Property Interactions:\")\n",
    "print(property_interactions.head())\n",
    "print(\"Property Interactions Info:\")\n",
    "print(property_interactions.info(), \"\\n\")\n",
    "print(\"Property Interactions Description:\")\n",
    "print(property_interactions.describe(include='all'))"
   ]
  },
  {
   "cell_type": "code",
   "execution_count": 37,
   "metadata": {},
   "outputs": [
    {
     "name": "stdout",
     "output_type": "stream",
     "text": [
      "Missing Data in Property Data Set:\n",
      "total_floor       43\n",
      "pin_code         325\n",
      "building_type     79\n",
      "dtype: int64\n"
     ]
    }
   ],
   "source": [
    "# Check for missing data in property_data\n",
    "missing_data_property = property_data.isnull().sum()\n",
    "print(\"Missing Data in Property Data Set:\")\n",
    "print(missing_data_property[missing_data_property > 0])"
   ]
  },
  {
   "cell_type": "code",
   "execution_count": 38,
   "metadata": {},
   "outputs": [
    {
     "name": "stdout",
     "output_type": "stream",
     "text": [
      "Missing Data in Property Photos:\n",
      "photo_urls    11022\n",
      "dtype: int64\n"
     ]
    }
   ],
   "source": [
    "# Check for missing data in property_photos\n",
    "missing_data_photos = property_photos.isnull().sum()\n",
    "print(\"Missing Data in Property Photos:\")\n",
    "print(missing_data_photos[missing_data_photos > 0])"
   ]
  },
  {
   "cell_type": "code",
   "execution_count": 39,
   "metadata": {},
   "outputs": [
    {
     "name": "stdout",
     "output_type": "stream",
     "text": [
      "Missing Data in Property Interactions:\n",
      "Series([], dtype: int64)\n"
     ]
    }
   ],
   "source": [
    "# Check for missing data in property_interactions\n",
    "missing_data_interactions = property_interactions.isnull().sum()\n",
    "print(\"Missing Data in Property Interactions:\")\n",
    "print(missing_data_interactions[missing_data_interactions > 0])"
   ]
  },
  {
   "cell_type": "code",
   "execution_count": 45,
   "metadata": {},
   "outputs": [],
   "source": [
    "# Handle missing data in Property Data Set\n",
    "property_data['total_floor'].fillna(property_data['total_floor'].median(), inplace=True)\n",
    "property_data['pin_code'].fillna(property_data['pin_code'].mode()[0], inplace=True)\n",
    "property_data['building_type'].fillna(property_data['building_type'].mode()[0], inplace=True)"
   ]
  },
  {
   "cell_type": "code",
   "execution_count": 46,
   "metadata": {},
   "outputs": [],
   "source": [
    "# Convert 'activation_date' to datetime\n",
    "property_data['activation_date'] = pd.to_datetime(property_data['activation_date'], format='%d-%m-%Y %H:%M')\n",
    "\n",
    "# Merge datasets\n",
    "merged_data = pd.merge(property_data, property_photos, on='property_id')\n",
    "merged_data = pd.merge(merged_data, property_interactions, on='property_id')"
   ]
  },
  {
   "cell_type": "code",
   "execution_count": 47,
   "metadata": {},
   "outputs": [],
   "source": [
    "# Convert 'request_date' to datetime\n",
    "merged_data['request_date'] = pd.to_datetime(merged_data['request_date'])\n",
    "\n",
    "# Create 'time_since_activation' feature\n",
    "merged_data['time_since_activation'] = (merged_data['request_date'] - merged_data['activation_date']).dt.days\n",
    "\n",
    "# Example: Normalize 'rent' and 'property_size'\n",
    "from sklearn.preprocessing import StandardScaler\n",
    "\n",
    "scaler = StandardScaler()\n",
    "merged_data[['rent', 'property_size']] = scaler.fit_transform(merged_data[['rent', 'property_size']])\n"
   ]
  },
  {
   "cell_type": "code",
   "execution_count": 48,
   "metadata": {},
   "outputs": [
    {
     "name": "stdout",
     "output_type": "stream",
     "text": [
      "Processed data saved to C:/Users/manoj/Downloads/cleaned_property_data.csv\n"
     ]
    }
   ],
   "source": [
    "# Define the output path\n",
    "cleaned_data_path = 'C:/Users/manoj/Downloads/cleaned_property_data.csv'\n",
    "\n",
    "# Create directory if it doesn't exist\n",
    "import os\n",
    "os.makedirs(os.path.dirname(cleaned_data_path), exist_ok=True)\n",
    "\n",
    "# Save the processed data\n",
    "merged_data.to_csv(cleaned_data_path, index=False)\n",
    "\n",
    "print(f\"Processed data saved to {cleaned_data_path}\")\n"
   ]
  },
  {
   "cell_type": "code",
   "execution_count": 49,
   "metadata": {},
   "outputs": [
    {
     "name": "stderr",
     "output_type": "stream",
     "text": [
      "C:\\Users\\manoj\\anaconda3\\Lib\\site-packages\\seaborn\\_oldcore.py:1119: FutureWarning: use_inf_as_na option is deprecated and will be removed in a future version. Convert inf values to NaN before operating instead.\n",
      "  with pd.option_context('mode.use_inf_as_na', True):\n"
     ]
    },
    {
     "data": {
      "image/png": "[encoded data removed]",
      "text/plain": [
       "<Figure size 1000x600 with 1 Axes>"
      ]
     },
     "metadata": {},
     "output_type": "display_data"
    },
    {
     "data": {
      "image/png": "[encoded data removed]",
      "text/plain": [
       "<Figure size 1000x600 with 1 Axes>"
      ]
     },
     "metadata": {},
     "output_type": "display_data"
    }
   ],
   "source": [
    "import seaborn as sns\n",
    "import matplotlib.pyplot as plt\n",
    "\n",
    "# Plot histogram of rent\n",
    "plt.figure(figsize=(10, 6))\n",
    "sns.histplot(merged_data['rent'], bins=30, kde=True)\n",
    "plt.title('Distribution of Rent')\n",
    "plt.xlabel('Rent')\n",
    "plt.ylabel('Frequency')\n",
    "plt.show()\n",
    "\n",
    "# Plot scatter plot of property size vs. rent\n",
    "plt.figure(figsize=(10, 6))\n",
    "sns.scatterplot(x='property_size', y='rent', data=merged_data)\n",
    "plt.title('Property Size vs. Rent')\n",
    "plt.xlabel('Property Size')\n",
    "plt.ylabel('Rent')\n",
    "plt.show()"
   ]
  },
  {
   "cell_type": "code",
   "execution_count": 50,
   "metadata": {},
   "outputs": [
    {
     "name": "stdout",
     "output_type": "stream",
     "text": [
      "photo_urls    43623\n",
      "dtype: int64\n"
     ]
    }
   ],
   "source": [
    "# Missing values in the merged dataset\n",
    "missing_data = merged_data.isnull().sum()\n",
    "print(missing_data[missing_data > 0])\n"
   ]
  },
  {
   "cell_type": "code",
   "execution_count": 51,
   "metadata": {},
   "outputs": [],
   "source": [
    "# Convert activation_date to datetime\n",
    "merged_data['activation_date'] = pd.to_datetime(merged_data['activation_date'], format='%d-%m-%Y %H:%M')\n",
    "\n",
    "# Calculate days_since_activation\n",
    "merged_data['days_since_activation'] = (pd.Timestamp.now() - merged_data['activation_date']).dt.days\n",
    "\n",
    "# Example of creating interaction_rate feature\n",
    "interactions_count = merged_data.groupby('property_id')['request_date'].count().reset_index(name='interaction_count')\n",
    "merged_data = pd.merge(merged_data, interactions_count, on='property_id', how='left')\n",
    "merged_data['interaction_rate'] = merged_data['interaction_count'] / merged_data['days_since_activation']\n"
   ]
  },
  {
   "cell_type": "code",
   "execution_count": 52,
   "metadata": {},
   "outputs": [],
   "source": [
    "from sklearn.model_selection import train_test_split\n",
    "\n",
    "# Define features and target\n",
    "X = merged_data[['property_size', 'rent', 'days_since_activation']]  # Add more features as needed\n",
    "y = merged_data['interaction_count']\n",
    "\n",
    "# Split the data\n",
    "X_train, X_test, y_train, y_test = train_test_split(X, y, test_size=0.2, random_state=42)\n"
   ]
  },
  {
   "cell_type": "code",
   "execution_count": 53,
   "metadata": {},
   "outputs": [
    {
     "name": "stdout",
     "output_type": "stream",
     "text": [
      "Mean Squared Error: 41.271427333725676\n"
     ]
    }
   ],
   "source": [
    "from sklearn.ensemble import RandomForestRegressor\n",
    "from sklearn.metrics import mean_squared_error\n",
    "\n",
    "# Initialize and train model\n",
    "model = RandomForestRegressor(n_estimators=100, random_state=42)\n",
    "model.fit(X_train, y_train)\n",
    "\n",
    "# Predict on test set\n",
    "y_pred = model.predict(X_test)\n",
    "\n",
    "# Evaluate model\n",
    "mse = mean_squared_error(y_test, y_pred)\n",
    "print(f'Mean Squared Error: {mse}')\n"
   ]
  },
  {
   "cell_type": "code",
   "execution_count": 54,
   "metadata": {},
   "outputs": [
    {
     "name": "stdout",
     "output_type": "stream",
     "text": [
      "R^2 Score: 0.9292482662382298\n",
      "Mean Absolute Error: 2.475908776909958\n"
     ]
    }
   ],
   "source": [
    "from sklearn.metrics import r2_score, mean_absolute_error\n",
    "\n",
    "# Calculate performance metrics\n",
    "r2 = r2_score(y_test, y_pred)\n",
    "mae = mean_absolute_error(y_test, y_pred)\n",
    "print(f'R^2 Score: {r2}')\n",
    "print(f'Mean Absolute Error: {mae}')\n"
   ]
  },
  {
   "cell_type": "code",
   "execution_count": 55,
   "metadata": {},
   "outputs": [
    {
     "name": "stdout",
     "output_type": "stream",
     "text": [
      "Fitting 5 folds for each of 36 candidates, totalling 180 fits\n",
      "Best Parameters: {'max_depth': None, 'max_features': 'sqrt', 'n_estimators': 100}\n"
     ]
    }
   ],
   "source": [
    "from sklearn.model_selection import GridSearchCV\n",
    "\n",
    "# Define parameter grid\n",
    "param_grid = {\n",
    "    'n_estimators': [50, 100, 200],\n",
    "    'max_depth': [None, 10, 20, 30],\n",
    "    'max_features': ['auto', 'sqrt', 'log2']\n",
    "}\n",
    "\n",
    "# Initialize GridSearchCV\n",
    "grid_search = GridSearchCV(estimator=model, param_grid=param_grid, cv=5, n_jobs=-1, verbose=2)\n",
    "grid_search.fit(X_train, y_train)\n",
    "\n",
    "# Best parameters\n",
    "print(f'Best Parameters: {grid_search.best_params_}')\n"
   ]
  },
  {
   "cell_type": "code",
   "execution_count": 58,
   "metadata": {},
   "outputs": [],
   "source": [
    "import os\n",
    "import pandas as pd\n",
    "\n",
    "# Create sample data\n",
    "submission = pd.DataFrame({\n",
    "    'property_id': [1, 2, 3],\n",
    "    'predicted_interactions': [10, 15, 20]\n",
    "})\n",
    "\n",
    "# Define the directory path\n",
    "directory_path = 'outputs'\n",
    "\n",
    "# Create the directory \n",
    "if not os.path.exists(directory_path):\n",
    "    os.makedirs(directory_path)\n",
    "\n",
    "# Define the file path\n",
    "file_path = os.path.join(directory_path, 'final_submission.csv')\n",
    "\n",
    "# Save the DataFrame to the file\n",
    "submission.to_csv(file_path, index=False)"
   ]
  },
  {
   "cell_type": "code",
   "execution_count": null,
   "metadata": {},
   "outputs": [],
   "source": [
    "#property_id\tpredicted_interactions\n",
    "#1\t10\n",
    "#2\t15\n",
    "#3\t20\n"
   ]
  },
  {
   "cell_type": "code",
   "execution_count": null,
   "metadata": {},
   "outputs": [],
   "source": []
  },
  {
   "cell_type": "code",
   "execution_count": null,
   "metadata": {},
   "outputs": [],
   "source": []
  },
  {
   "cell_type": "code",
   "execution_count": null,
   "metadata": {},
   "outputs": [],
   "source": []
  }
 ],
 "metadata": {
  "colab": {
   "provenance": []
  },
  "kernelspec": {
   "display_name": "Python 3 (ipykernel)",
   "language": "python",
   "name": "python3"
  },
  "language_info": {
   "codemirror_mode": {
    "name": "ipython",
    "version": 3
   },
   "file_extension": ".py",
   "mimetype": "text/x-python",
   "name": "python",
   "nbconvert_exporter": "python",
   "pygments_lexer": "ipython3",
   "version": "3.11.7"
  }
 },
 "nbformat": 4,
 "nbformat_minor": 4
}
